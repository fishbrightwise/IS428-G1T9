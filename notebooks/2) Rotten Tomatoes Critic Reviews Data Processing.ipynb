{
 "cells": [
  {
   "cell_type": "markdown",
   "metadata": {},
   "source": [
    "## Rotten Tomatoes Critic Reviews Data Processing"
   ]
  },
  {
   "cell_type": "markdown",
   "metadata": {},
   "source": [
    "### Import Libraries"
   ]
  },
  {
   "cell_type": "code",
   "execution_count": 1,
   "metadata": {},
   "outputs": [],
   "source": [
    "import pandas as pd\n",
    "import numpy as np\n",
    "import nltk\n",
    "from nltk.corpus import stopwords\n",
    "from nltk.stem import WordNetLemmatizer\n",
    "from nltk.tokenize.casual import casual_tokenize\n",
    "from vaderSentiment.vaderSentiment import SentimentIntensityAnalyzer\n",
    "import ast\n",
    "import requests\n",
    "import warnings\n",
    "from tqdm.notebook import tqdm\n",
    "warnings.filterwarnings('ignore')\n",
    "tqdm.pandas()"
   ]
  },
  {
   "cell_type": "code",
   "execution_count": 2,
   "metadata": {},
   "outputs": [
    {
     "data": {
      "text/html": [
       "<style>\n",
       ".cell-output-ipywidget-background {\n",
       "    background-color: transparent !important;\n",
       "}\n",
       ":root {\n",
       "    --jp-widgets-color: var(--vscode-editor-foreground);\n",
       "    --jp-widgets-font-size: var(--vscode-editor-font-size);\n",
       "}  \n"
      ],
      "text/plain": [
       "<IPython.core.display.HTML object>"
      ]
     },
     "metadata": {},
     "output_type": "display_data"
    }
   ],
   "source": [
    "%%html\n",
    "<style>\n",
    ".cell-output-ipywidget-background {\n",
    "    background-color: transparent !important;\n",
    "}\n",
    ":root {\n",
    "    --jp-widgets-color: var(--vscode-editor-foreground);\n",
    "    --jp-widgets-font-size: var(--vscode-editor-font-size);\n",
    "}  "
   ]
  },
  {
   "cell_type": "code",
   "execution_count": 3,
   "metadata": {},
   "outputs": [
    {
     "data": {
      "text/html": [
       "<div>\n",
       "<style scoped>\n",
       "    .dataframe tbody tr th:only-of-type {\n",
       "        vertical-align: middle;\n",
       "    }\n",
       "\n",
       "    .dataframe tbody tr th {\n",
       "        vertical-align: top;\n",
       "    }\n",
       "\n",
       "    .dataframe thead th {\n",
       "        text-align: right;\n",
       "    }\n",
       "</style>\n",
       "<table border=\"1\" class=\"dataframe\">\n",
       "  <thead>\n",
       "    <tr style=\"text-align: right;\">\n",
       "      <th></th>\n",
       "      <th>rotten_tomatoes_link</th>\n",
       "      <th>critic_name</th>\n",
       "      <th>top_critic</th>\n",
       "      <th>publisher_name</th>\n",
       "      <th>review_type</th>\n",
       "      <th>review_score</th>\n",
       "      <th>review_date</th>\n",
       "      <th>review_content</th>\n",
       "    </tr>\n",
       "  </thead>\n",
       "  <tbody>\n",
       "    <tr>\n",
       "      <th>0</th>\n",
       "      <td>m/0814255</td>\n",
       "      <td>Andrew L. Urban</td>\n",
       "      <td>False</td>\n",
       "      <td>Urban Cinefile</td>\n",
       "      <td>Fresh</td>\n",
       "      <td>NaN</td>\n",
       "      <td>2010-02-06</td>\n",
       "      <td>A fantasy adventure that fuses Greek mythology...</td>\n",
       "    </tr>\n",
       "    <tr>\n",
       "      <th>1</th>\n",
       "      <td>m/0814255</td>\n",
       "      <td>Louise Keller</td>\n",
       "      <td>False</td>\n",
       "      <td>Urban Cinefile</td>\n",
       "      <td>Fresh</td>\n",
       "      <td>NaN</td>\n",
       "      <td>2010-02-06</td>\n",
       "      <td>Uma Thurman as Medusa, the gorgon with a coiff...</td>\n",
       "    </tr>\n",
       "    <tr>\n",
       "      <th>2</th>\n",
       "      <td>m/0814255</td>\n",
       "      <td>NaN</td>\n",
       "      <td>False</td>\n",
       "      <td>FILMINK (Australia)</td>\n",
       "      <td>Fresh</td>\n",
       "      <td>NaN</td>\n",
       "      <td>2010-02-09</td>\n",
       "      <td>With a top-notch cast and dazzling special eff...</td>\n",
       "    </tr>\n",
       "    <tr>\n",
       "      <th>3</th>\n",
       "      <td>m/0814255</td>\n",
       "      <td>Ben McEachen</td>\n",
       "      <td>False</td>\n",
       "      <td>Sunday Mail (Australia)</td>\n",
       "      <td>Fresh</td>\n",
       "      <td>3.5/5</td>\n",
       "      <td>2010-02-09</td>\n",
       "      <td>Whether audiences will get behind The Lightnin...</td>\n",
       "    </tr>\n",
       "    <tr>\n",
       "      <th>4</th>\n",
       "      <td>m/0814255</td>\n",
       "      <td>Ethan Alter</td>\n",
       "      <td>True</td>\n",
       "      <td>Hollywood Reporter</td>\n",
       "      <td>Rotten</td>\n",
       "      <td>NaN</td>\n",
       "      <td>2010-02-10</td>\n",
       "      <td>What's really lacking in The Lightning Thief i...</td>\n",
       "    </tr>\n",
       "  </tbody>\n",
       "</table>\n",
       "</div>"
      ],
      "text/plain": [
       "  rotten_tomatoes_link      critic_name  top_critic           publisher_name  \\\n",
       "0            m/0814255  Andrew L. Urban       False           Urban Cinefile   \n",
       "1            m/0814255    Louise Keller       False           Urban Cinefile   \n",
       "2            m/0814255              NaN       False      FILMINK (Australia)   \n",
       "3            m/0814255     Ben McEachen       False  Sunday Mail (Australia)   \n",
       "4            m/0814255      Ethan Alter        True       Hollywood Reporter   \n",
       "\n",
       "  review_type review_score review_date  \\\n",
       "0       Fresh          NaN  2010-02-06   \n",
       "1       Fresh          NaN  2010-02-06   \n",
       "2       Fresh          NaN  2010-02-09   \n",
       "3       Fresh        3.5/5  2010-02-09   \n",
       "4      Rotten          NaN  2010-02-10   \n",
       "\n",
       "                                      review_content  \n",
       "0  A fantasy adventure that fuses Greek mythology...  \n",
       "1  Uma Thurman as Medusa, the gorgon with a coiff...  \n",
       "2  With a top-notch cast and dazzling special eff...  \n",
       "3  Whether audiences will get behind The Lightnin...  \n",
       "4  What's really lacking in The Lightning Thief i...  "
      ]
     },
     "execution_count": 3,
     "metadata": {},
     "output_type": "execute_result"
    }
   ],
   "source": [
    "df = pd.DataFrame(pd.read_csv('../data/rotten_tomatoes_critic_reviews.csv'))\n",
    "df.head()"
   ]
  },
  {
   "cell_type": "code",
   "execution_count": 4,
   "metadata": {},
   "outputs": [
    {
     "data": {
      "text/plain": [
       "rotten_tomatoes_link    object\n",
       "critic_name             object\n",
       "top_critic                bool\n",
       "publisher_name          object\n",
       "review_type             object\n",
       "review_score            object\n",
       "review_date             object\n",
       "review_content          object\n",
       "dtype: object"
      ]
     },
     "execution_count": 4,
     "metadata": {},
     "output_type": "execute_result"
    }
   ],
   "source": [
    "df.dtypes"
   ]
  },
  {
   "cell_type": "code",
   "execution_count": 5,
   "metadata": {},
   "outputs": [
    {
     "data": {
      "text/plain": [
       "(1130017, 8)"
      ]
     },
     "execution_count": 5,
     "metadata": {},
     "output_type": "execute_result"
    }
   ],
   "source": [
    "df.shape"
   ]
  },
  {
   "cell_type": "markdown",
   "metadata": {},
   "source": [
    "### Data Cleaning"
   ]
  },
  {
   "cell_type": "code",
   "execution_count": 6,
   "metadata": {},
   "outputs": [
    {
     "data": {
      "text/plain": [
       "rotten_tomatoes_link         0\n",
       "critic_name              18529\n",
       "top_critic                   0\n",
       "publisher_name               0\n",
       "review_type                  0\n",
       "review_score            305936\n",
       "review_date                  0\n",
       "review_content           65806\n",
       "dtype: int64"
      ]
     },
     "execution_count": 6,
     "metadata": {},
     "output_type": "execute_result"
    }
   ],
   "source": [
    "df.isnull().sum()"
   ]
  },
  {
   "cell_type": "markdown",
   "metadata": {},
   "source": [
    "`critic_name` is not very useful to the project as we do not need to know who wrote the review, just the sentiment. <br>\n",
    "`review_content`, while important, is not a must to have, and we can fill it in with blank values."
   ]
  },
  {
   "cell_type": "code",
   "execution_count": 7,
   "metadata": {},
   "outputs": [],
   "source": [
    "df['review_content'] = df['review_content'].fillna('No review')"
   ]
  },
  {
   "cell_type": "code",
   "execution_count": 8,
   "metadata": {},
   "outputs": [
    {
     "data": {
      "text/plain": [
       "review_score\n",
       "3/5        90273\n",
       "4/5        83659\n",
       "3/4        72366\n",
       "2/5        60174\n",
       "2/4        47546\n",
       "           ...  \n",
       "69/70          1\n",
       "2.5/20         1\n",
       "5.55/10        1\n",
       "35             1\n",
       "9.56/10        1\n",
       "Name: count, Length: 814, dtype: int64"
      ]
     },
     "execution_count": 8,
     "metadata": {},
     "output_type": "execute_result"
    }
   ],
   "source": [
    "df['review_score'].value_counts()"
   ]
  },
  {
   "cell_type": "code",
   "execution_count": 9,
   "metadata": {},
   "outputs": [
    {
     "data": {
      "text/plain": [
       "814"
      ]
     },
     "execution_count": 9,
     "metadata": {},
     "output_type": "execute_result"
    }
   ],
   "source": [
    "len(df['review_score'].value_counts())"
   ]
  },
  {
   "cell_type": "markdown",
   "metadata": {},
   "source": [
    "There are 814 unique scores, which is bizzare. <br>\n",
    "We cannot remove all the rows as it contributes to a significant portion of the data (Roughly 30%). Thus, we cannot use this data."
   ]
  },
  {
   "cell_type": "code",
   "execution_count": 10,
   "metadata": {},
   "outputs": [
    {
     "data": {
      "text/html": [
       "<div>\n",
       "<style scoped>\n",
       "    .dataframe tbody tr th:only-of-type {\n",
       "        vertical-align: middle;\n",
       "    }\n",
       "\n",
       "    .dataframe tbody tr th {\n",
       "        vertical-align: top;\n",
       "    }\n",
       "\n",
       "    .dataframe thead th {\n",
       "        text-align: right;\n",
       "    }\n",
       "</style>\n",
       "<table border=\"1\" class=\"dataframe\">\n",
       "  <thead>\n",
       "    <tr style=\"text-align: right;\">\n",
       "      <th></th>\n",
       "      <th>rotten_tomatoes_link</th>\n",
       "      <th>publisher_name</th>\n",
       "      <th>top_critic</th>\n",
       "      <th>review_type</th>\n",
       "      <th>review_date</th>\n",
       "      <th>review_content</th>\n",
       "    </tr>\n",
       "  </thead>\n",
       "  <tbody>\n",
       "    <tr>\n",
       "      <th>0</th>\n",
       "      <td>m/0814255</td>\n",
       "      <td>Urban Cinefile</td>\n",
       "      <td>False</td>\n",
       "      <td>Fresh</td>\n",
       "      <td>2010-02-06</td>\n",
       "      <td>A fantasy adventure that fuses Greek mythology...</td>\n",
       "    </tr>\n",
       "    <tr>\n",
       "      <th>1</th>\n",
       "      <td>m/0814255</td>\n",
       "      <td>Urban Cinefile</td>\n",
       "      <td>False</td>\n",
       "      <td>Fresh</td>\n",
       "      <td>2010-02-06</td>\n",
       "      <td>Uma Thurman as Medusa, the gorgon with a coiff...</td>\n",
       "    </tr>\n",
       "    <tr>\n",
       "      <th>2</th>\n",
       "      <td>m/0814255</td>\n",
       "      <td>FILMINK (Australia)</td>\n",
       "      <td>False</td>\n",
       "      <td>Fresh</td>\n",
       "      <td>2010-02-09</td>\n",
       "      <td>With a top-notch cast and dazzling special eff...</td>\n",
       "    </tr>\n",
       "    <tr>\n",
       "      <th>3</th>\n",
       "      <td>m/0814255</td>\n",
       "      <td>Sunday Mail (Australia)</td>\n",
       "      <td>False</td>\n",
       "      <td>Fresh</td>\n",
       "      <td>2010-02-09</td>\n",
       "      <td>Whether audiences will get behind The Lightnin...</td>\n",
       "    </tr>\n",
       "    <tr>\n",
       "      <th>4</th>\n",
       "      <td>m/0814255</td>\n",
       "      <td>Hollywood Reporter</td>\n",
       "      <td>True</td>\n",
       "      <td>Rotten</td>\n",
       "      <td>2010-02-10</td>\n",
       "      <td>What's really lacking in The Lightning Thief i...</td>\n",
       "    </tr>\n",
       "  </tbody>\n",
       "</table>\n",
       "</div>"
      ],
      "text/plain": [
       "  rotten_tomatoes_link           publisher_name  top_critic review_type  \\\n",
       "0            m/0814255           Urban Cinefile       False       Fresh   \n",
       "1            m/0814255           Urban Cinefile       False       Fresh   \n",
       "2            m/0814255      FILMINK (Australia)       False       Fresh   \n",
       "3            m/0814255  Sunday Mail (Australia)       False       Fresh   \n",
       "4            m/0814255       Hollywood Reporter        True      Rotten   \n",
       "\n",
       "  review_date                                     review_content  \n",
       "0  2010-02-06  A fantasy adventure that fuses Greek mythology...  \n",
       "1  2010-02-06  Uma Thurman as Medusa, the gorgon with a coiff...  \n",
       "2  2010-02-09  With a top-notch cast and dazzling special eff...  \n",
       "3  2010-02-09  Whether audiences will get behind The Lightnin...  \n",
       "4  2010-02-10  What's really lacking in The Lightning Thief i...  "
      ]
     },
     "execution_count": 10,
     "metadata": {},
     "output_type": "execute_result"
    }
   ],
   "source": [
    "df2 = df[['rotten_tomatoes_link', 'publisher_name', 'top_critic', 'review_type', 'review_date', 'review_content']]\n",
    "df2.head()"
   ]
  },
  {
   "cell_type": "code",
   "execution_count": 11,
   "metadata": {},
   "outputs": [
    {
     "data": {
      "text/plain": [
       "pandas._libs.tslibs.timestamps.Timestamp"
      ]
     },
     "execution_count": 11,
     "metadata": {},
     "output_type": "execute_result"
    }
   ],
   "source": [
    "df2['review_date'] = pd.to_datetime(df2['review_date'])\n",
    "type(df2['review_date'][0])"
   ]
  },
  {
   "cell_type": "code",
   "execution_count": 12,
   "metadata": {},
   "outputs": [],
   "source": [
    "nltk.download('punkt', download_dir='./nltk_data', quiet=True)\n",
    "nltk.download('punkt_tab', download_dir='./nltk_data', quiet=True)\n",
    "nltk.download('stopwords', download_dir='./nltk_data', quiet=True)\n",
    "nltk.download('wordnet', download_dir='./nltk_data', quiet=True)\n",
    "nltk.data.path.append('./nltk_data')"
   ]
  },
  {
   "cell_type": "code",
   "execution_count": 13,
   "metadata": {},
   "outputs": [],
   "source": [
    "# stop_words = set(stopwords.words('english'))\n",
    "# stemmer = PorterStemmer()\n",
    "lemmatizer = WordNetLemmatizer()\n",
    "stopwords_list = requests.get(\"https://gist.githubusercontent.com/rg089/35e00abf8941d72d419224cfd5b5925d/raw/12d899b70156fd0041fa9778d657330b024b959c/stopwords.txt\").content\n",
    "stopwords = set(stopwords_list.decode().splitlines())"
   ]
  },
  {
   "cell_type": "code",
   "execution_count": 14,
   "metadata": {},
   "outputs": [
    {
     "data": {
      "application/vnd.jupyter.widget-view+json": {
       "model_id": "adc89e76c0f94476af754ddfbec7b323",
       "version_major": 2,
       "version_minor": 0
      },
      "text/plain": [
       "  0%|          | 0/1130017 [00:00<?, ?it/s]"
      ]
     },
     "metadata": {},
     "output_type": "display_data"
    },
    {
     "data": {
      "text/html": [
       "<div>\n",
       "<style scoped>\n",
       "    .dataframe tbody tr th:only-of-type {\n",
       "        vertical-align: middle;\n",
       "    }\n",
       "\n",
       "    .dataframe tbody tr th {\n",
       "        vertical-align: top;\n",
       "    }\n",
       "\n",
       "    .dataframe thead th {\n",
       "        text-align: right;\n",
       "    }\n",
       "</style>\n",
       "<table border=\"1\" class=\"dataframe\">\n",
       "  <thead>\n",
       "    <tr style=\"text-align: right;\">\n",
       "      <th></th>\n",
       "      <th>rotten_tomatoes_link</th>\n",
       "      <th>publisher_name</th>\n",
       "      <th>top_critic</th>\n",
       "      <th>review_type</th>\n",
       "      <th>review_date</th>\n",
       "      <th>review_content</th>\n",
       "      <th>tokenized_review_content</th>\n",
       "    </tr>\n",
       "  </thead>\n",
       "  <tbody>\n",
       "    <tr>\n",
       "      <th>0</th>\n",
       "      <td>m/0814255</td>\n",
       "      <td>Urban Cinefile</td>\n",
       "      <td>False</td>\n",
       "      <td>Fresh</td>\n",
       "      <td>2010-02-06</td>\n",
       "      <td>A fantasy adventure that fuses Greek mythology...</td>\n",
       "      <td>[a, fantasy, adventure, that, fuses, greek, my...</td>\n",
       "    </tr>\n",
       "    <tr>\n",
       "      <th>1</th>\n",
       "      <td>m/0814255</td>\n",
       "      <td>Urban Cinefile</td>\n",
       "      <td>False</td>\n",
       "      <td>Fresh</td>\n",
       "      <td>2010-02-06</td>\n",
       "      <td>Uma Thurman as Medusa, the gorgon with a coiff...</td>\n",
       "      <td>[uma, thurman, as, medusa, ,, the, gorgon, wit...</td>\n",
       "    </tr>\n",
       "    <tr>\n",
       "      <th>2</th>\n",
       "      <td>m/0814255</td>\n",
       "      <td>FILMINK (Australia)</td>\n",
       "      <td>False</td>\n",
       "      <td>Fresh</td>\n",
       "      <td>2010-02-09</td>\n",
       "      <td>With a top-notch cast and dazzling special eff...</td>\n",
       "      <td>[with, a, top-notch, cast, and, dazzling, spec...</td>\n",
       "    </tr>\n",
       "    <tr>\n",
       "      <th>3</th>\n",
       "      <td>m/0814255</td>\n",
       "      <td>Sunday Mail (Australia)</td>\n",
       "      <td>False</td>\n",
       "      <td>Fresh</td>\n",
       "      <td>2010-02-09</td>\n",
       "      <td>Whether audiences will get behind The Lightnin...</td>\n",
       "      <td>[whether, audiences, will, get, behind, the, l...</td>\n",
       "    </tr>\n",
       "    <tr>\n",
       "      <th>4</th>\n",
       "      <td>m/0814255</td>\n",
       "      <td>Hollywood Reporter</td>\n",
       "      <td>True</td>\n",
       "      <td>Rotten</td>\n",
       "      <td>2010-02-10</td>\n",
       "      <td>What's really lacking in The Lightning Thief i...</td>\n",
       "      <td>[what's, really, lacking, in, the, lightning, ...</td>\n",
       "    </tr>\n",
       "  </tbody>\n",
       "</table>\n",
       "</div>"
      ],
      "text/plain": [
       "  rotten_tomatoes_link           publisher_name  top_critic review_type  \\\n",
       "0            m/0814255           Urban Cinefile       False       Fresh   \n",
       "1            m/0814255           Urban Cinefile       False       Fresh   \n",
       "2            m/0814255      FILMINK (Australia)       False       Fresh   \n",
       "3            m/0814255  Sunday Mail (Australia)       False       Fresh   \n",
       "4            m/0814255       Hollywood Reporter        True      Rotten   \n",
       "\n",
       "  review_date                                     review_content  \\\n",
       "0  2010-02-06  A fantasy adventure that fuses Greek mythology...   \n",
       "1  2010-02-06  Uma Thurman as Medusa, the gorgon with a coiff...   \n",
       "2  2010-02-09  With a top-notch cast and dazzling special eff...   \n",
       "3  2010-02-09  Whether audiences will get behind The Lightnin...   \n",
       "4  2010-02-10  What's really lacking in The Lightning Thief i...   \n",
       "\n",
       "                            tokenized_review_content  \n",
       "0  [a, fantasy, adventure, that, fuses, greek, my...  \n",
       "1  [uma, thurman, as, medusa, ,, the, gorgon, wit...  \n",
       "2  [with, a, top-notch, cast, and, dazzling, spec...  \n",
       "3  [whether, audiences, will, get, behind, the, l...  \n",
       "4  [what's, really, lacking, in, the, lightning, ...  "
      ]
     },
     "execution_count": 14,
     "metadata": {},
     "output_type": "execute_result"
    }
   ],
   "source": [
    "df2['tokenized_review_content'] = df2['review_content'].progress_apply(lambda x: casual_tokenize(x.lower(), reduce_len=True, strip_handles=False))\n",
    "df2.head()"
   ]
  },
  {
   "cell_type": "code",
   "execution_count": 15,
   "metadata": {},
   "outputs": [
    {
     "data": {
      "application/vnd.jupyter.widget-view+json": {
       "model_id": "d2af4623b2d54cf3b1b46f1633d29f6f",
       "version_major": 2,
       "version_minor": 0
      },
      "text/plain": [
       "  0%|          | 0/1130017 [00:00<?, ?it/s]"
      ]
     },
     "metadata": {},
     "output_type": "display_data"
    },
    {
     "data": {
      "text/html": [
       "<div>\n",
       "<style scoped>\n",
       "    .dataframe tbody tr th:only-of-type {\n",
       "        vertical-align: middle;\n",
       "    }\n",
       "\n",
       "    .dataframe tbody tr th {\n",
       "        vertical-align: top;\n",
       "    }\n",
       "\n",
       "    .dataframe thead th {\n",
       "        text-align: right;\n",
       "    }\n",
       "</style>\n",
       "<table border=\"1\" class=\"dataframe\">\n",
       "  <thead>\n",
       "    <tr style=\"text-align: right;\">\n",
       "      <th></th>\n",
       "      <th>rotten_tomatoes_link</th>\n",
       "      <th>publisher_name</th>\n",
       "      <th>top_critic</th>\n",
       "      <th>review_type</th>\n",
       "      <th>review_date</th>\n",
       "      <th>review_content</th>\n",
       "      <th>tokenized_review_content</th>\n",
       "      <th>alphanum_review_content</th>\n",
       "    </tr>\n",
       "  </thead>\n",
       "  <tbody>\n",
       "    <tr>\n",
       "      <th>0</th>\n",
       "      <td>m/0814255</td>\n",
       "      <td>Urban Cinefile</td>\n",
       "      <td>False</td>\n",
       "      <td>Fresh</td>\n",
       "      <td>2010-02-06</td>\n",
       "      <td>A fantasy adventure that fuses Greek mythology...</td>\n",
       "      <td>[a, fantasy, adventure, that, fuses, greek, my...</td>\n",
       "      <td>[a, fantasy, adventure, that, fuses, greek, my...</td>\n",
       "    </tr>\n",
       "    <tr>\n",
       "      <th>1</th>\n",
       "      <td>m/0814255</td>\n",
       "      <td>Urban Cinefile</td>\n",
       "      <td>False</td>\n",
       "      <td>Fresh</td>\n",
       "      <td>2010-02-06</td>\n",
       "      <td>Uma Thurman as Medusa, the gorgon with a coiff...</td>\n",
       "      <td>[uma, thurman, as, medusa, ,, the, gorgon, wit...</td>\n",
       "      <td>[uma, thurman, as, medusa, the, gorgon, with, ...</td>\n",
       "    </tr>\n",
       "    <tr>\n",
       "      <th>2</th>\n",
       "      <td>m/0814255</td>\n",
       "      <td>FILMINK (Australia)</td>\n",
       "      <td>False</td>\n",
       "      <td>Fresh</td>\n",
       "      <td>2010-02-09</td>\n",
       "      <td>With a top-notch cast and dazzling special eff...</td>\n",
       "      <td>[with, a, top-notch, cast, and, dazzling, spec...</td>\n",
       "      <td>[with, a, cast, and, dazzling, special, effect...</td>\n",
       "    </tr>\n",
       "    <tr>\n",
       "      <th>3</th>\n",
       "      <td>m/0814255</td>\n",
       "      <td>Sunday Mail (Australia)</td>\n",
       "      <td>False</td>\n",
       "      <td>Fresh</td>\n",
       "      <td>2010-02-09</td>\n",
       "      <td>Whether audiences will get behind The Lightnin...</td>\n",
       "      <td>[whether, audiences, will, get, behind, the, l...</td>\n",
       "      <td>[whether, audiences, will, get, behind, the, l...</td>\n",
       "    </tr>\n",
       "    <tr>\n",
       "      <th>4</th>\n",
       "      <td>m/0814255</td>\n",
       "      <td>Hollywood Reporter</td>\n",
       "      <td>True</td>\n",
       "      <td>Rotten</td>\n",
       "      <td>2010-02-10</td>\n",
       "      <td>What's really lacking in The Lightning Thief i...</td>\n",
       "      <td>[what's, really, lacking, in, the, lightning, ...</td>\n",
       "      <td>[really, lacking, in, the, lightning, thief, i...</td>\n",
       "    </tr>\n",
       "  </tbody>\n",
       "</table>\n",
       "</div>"
      ],
      "text/plain": [
       "  rotten_tomatoes_link           publisher_name  top_critic review_type  \\\n",
       "0            m/0814255           Urban Cinefile       False       Fresh   \n",
       "1            m/0814255           Urban Cinefile       False       Fresh   \n",
       "2            m/0814255      FILMINK (Australia)       False       Fresh   \n",
       "3            m/0814255  Sunday Mail (Australia)       False       Fresh   \n",
       "4            m/0814255       Hollywood Reporter        True      Rotten   \n",
       "\n",
       "  review_date                                     review_content  \\\n",
       "0  2010-02-06  A fantasy adventure that fuses Greek mythology...   \n",
       "1  2010-02-06  Uma Thurman as Medusa, the gorgon with a coiff...   \n",
       "2  2010-02-09  With a top-notch cast and dazzling special eff...   \n",
       "3  2010-02-09  Whether audiences will get behind The Lightnin...   \n",
       "4  2010-02-10  What's really lacking in The Lightning Thief i...   \n",
       "\n",
       "                            tokenized_review_content  \\\n",
       "0  [a, fantasy, adventure, that, fuses, greek, my...   \n",
       "1  [uma, thurman, as, medusa, ,, the, gorgon, wit...   \n",
       "2  [with, a, top-notch, cast, and, dazzling, spec...   \n",
       "3  [whether, audiences, will, get, behind, the, l...   \n",
       "4  [what's, really, lacking, in, the, lightning, ...   \n",
       "\n",
       "                             alphanum_review_content  \n",
       "0  [a, fantasy, adventure, that, fuses, greek, my...  \n",
       "1  [uma, thurman, as, medusa, the, gorgon, with, ...  \n",
       "2  [with, a, cast, and, dazzling, special, effect...  \n",
       "3  [whether, audiences, will, get, behind, the, l...  \n",
       "4  [really, lacking, in, the, lightning, thief, i...  "
      ]
     },
     "execution_count": 15,
     "metadata": {},
     "output_type": "execute_result"
    }
   ],
   "source": [
    "df2['alphanum_review_content'] = df2['tokenized_review_content'].progress_apply(lambda x: [word for word in x if word.isalnum()])\n",
    "df2.head()"
   ]
  },
  {
   "cell_type": "code",
   "execution_count": 16,
   "metadata": {},
   "outputs": [
    {
     "data": {
      "application/vnd.jupyter.widget-view+json": {
       "model_id": "a2b531a0b8ff45eaa5b20d413f18a182",
       "version_major": 2,
       "version_minor": 0
      },
      "text/plain": [
       "  0%|          | 0/1130017 [00:00<?, ?it/s]"
      ]
     },
     "metadata": {},
     "output_type": "display_data"
    },
    {
     "data": {
      "text/html": [
       "<div>\n",
       "<style scoped>\n",
       "    .dataframe tbody tr th:only-of-type {\n",
       "        vertical-align: middle;\n",
       "    }\n",
       "\n",
       "    .dataframe tbody tr th {\n",
       "        vertical-align: top;\n",
       "    }\n",
       "\n",
       "    .dataframe thead th {\n",
       "        text-align: right;\n",
       "    }\n",
       "</style>\n",
       "<table border=\"1\" class=\"dataframe\">\n",
       "  <thead>\n",
       "    <tr style=\"text-align: right;\">\n",
       "      <th></th>\n",
       "      <th>rotten_tomatoes_link</th>\n",
       "      <th>publisher_name</th>\n",
       "      <th>top_critic</th>\n",
       "      <th>review_type</th>\n",
       "      <th>review_date</th>\n",
       "      <th>review_content</th>\n",
       "      <th>tokenized_review_content</th>\n",
       "      <th>alphanum_review_content</th>\n",
       "      <th>stopword_removed_review_content</th>\n",
       "    </tr>\n",
       "  </thead>\n",
       "  <tbody>\n",
       "    <tr>\n",
       "      <th>0</th>\n",
       "      <td>m/0814255</td>\n",
       "      <td>Urban Cinefile</td>\n",
       "      <td>False</td>\n",
       "      <td>Fresh</td>\n",
       "      <td>2010-02-06</td>\n",
       "      <td>A fantasy adventure that fuses Greek mythology...</td>\n",
       "      <td>[a, fantasy, adventure, that, fuses, greek, my...</td>\n",
       "      <td>[a, fantasy, adventure, that, fuses, greek, my...</td>\n",
       "      <td>[fantasy, adventure, fuses, greek, mythology, ...</td>\n",
       "    </tr>\n",
       "    <tr>\n",
       "      <th>1</th>\n",
       "      <td>m/0814255</td>\n",
       "      <td>Urban Cinefile</td>\n",
       "      <td>False</td>\n",
       "      <td>Fresh</td>\n",
       "      <td>2010-02-06</td>\n",
       "      <td>Uma Thurman as Medusa, the gorgon with a coiff...</td>\n",
       "      <td>[uma, thurman, as, medusa, ,, the, gorgon, wit...</td>\n",
       "      <td>[uma, thurman, as, medusa, the, gorgon, with, ...</td>\n",
       "      <td>[uma, thurman, medusa, gorgon, coiffure, writh...</td>\n",
       "    </tr>\n",
       "    <tr>\n",
       "      <th>2</th>\n",
       "      <td>m/0814255</td>\n",
       "      <td>FILMINK (Australia)</td>\n",
       "      <td>False</td>\n",
       "      <td>Fresh</td>\n",
       "      <td>2010-02-09</td>\n",
       "      <td>With a top-notch cast and dazzling special eff...</td>\n",
       "      <td>[with, a, top-notch, cast, and, dazzling, spec...</td>\n",
       "      <td>[with, a, cast, and, dazzling, special, effect...</td>\n",
       "      <td>[cast, dazzling, special, effects, tide, teens...</td>\n",
       "    </tr>\n",
       "    <tr>\n",
       "      <th>3</th>\n",
       "      <td>m/0814255</td>\n",
       "      <td>Sunday Mail (Australia)</td>\n",
       "      <td>False</td>\n",
       "      <td>Fresh</td>\n",
       "      <td>2010-02-09</td>\n",
       "      <td>Whether audiences will get behind The Lightnin...</td>\n",
       "      <td>[whether, audiences, will, get, behind, the, l...</td>\n",
       "      <td>[whether, audiences, will, get, behind, the, l...</td>\n",
       "      <td>[audiences, lightning, thief, hard, predict, e...</td>\n",
       "    </tr>\n",
       "    <tr>\n",
       "      <th>4</th>\n",
       "      <td>m/0814255</td>\n",
       "      <td>Hollywood Reporter</td>\n",
       "      <td>True</td>\n",
       "      <td>Rotten</td>\n",
       "      <td>2010-02-10</td>\n",
       "      <td>What's really lacking in The Lightning Thief i...</td>\n",
       "      <td>[what's, really, lacking, in, the, lightning, ...</td>\n",
       "      <td>[really, lacking, in, the, lightning, thief, i...</td>\n",
       "      <td>[lacking, lightning, thief, genuine, sense, th...</td>\n",
       "    </tr>\n",
       "  </tbody>\n",
       "</table>\n",
       "</div>"
      ],
      "text/plain": [
       "  rotten_tomatoes_link           publisher_name  top_critic review_type  \\\n",
       "0            m/0814255           Urban Cinefile       False       Fresh   \n",
       "1            m/0814255           Urban Cinefile       False       Fresh   \n",
       "2            m/0814255      FILMINK (Australia)       False       Fresh   \n",
       "3            m/0814255  Sunday Mail (Australia)       False       Fresh   \n",
       "4            m/0814255       Hollywood Reporter        True      Rotten   \n",
       "\n",
       "  review_date                                     review_content  \\\n",
       "0  2010-02-06  A fantasy adventure that fuses Greek mythology...   \n",
       "1  2010-02-06  Uma Thurman as Medusa, the gorgon with a coiff...   \n",
       "2  2010-02-09  With a top-notch cast and dazzling special eff...   \n",
       "3  2010-02-09  Whether audiences will get behind The Lightnin...   \n",
       "4  2010-02-10  What's really lacking in The Lightning Thief i...   \n",
       "\n",
       "                            tokenized_review_content  \\\n",
       "0  [a, fantasy, adventure, that, fuses, greek, my...   \n",
       "1  [uma, thurman, as, medusa, ,, the, gorgon, wit...   \n",
       "2  [with, a, top-notch, cast, and, dazzling, spec...   \n",
       "3  [whether, audiences, will, get, behind, the, l...   \n",
       "4  [what's, really, lacking, in, the, lightning, ...   \n",
       "\n",
       "                             alphanum_review_content  \\\n",
       "0  [a, fantasy, adventure, that, fuses, greek, my...   \n",
       "1  [uma, thurman, as, medusa, the, gorgon, with, ...   \n",
       "2  [with, a, cast, and, dazzling, special, effect...   \n",
       "3  [whether, audiences, will, get, behind, the, l...   \n",
       "4  [really, lacking, in, the, lightning, thief, i...   \n",
       "\n",
       "                     stopword_removed_review_content  \n",
       "0  [fantasy, adventure, fuses, greek, mythology, ...  \n",
       "1  [uma, thurman, medusa, gorgon, coiffure, writh...  \n",
       "2  [cast, dazzling, special, effects, tide, teens...  \n",
       "3  [audiences, lightning, thief, hard, predict, e...  \n",
       "4  [lacking, lightning, thief, genuine, sense, th...  "
      ]
     },
     "execution_count": 16,
     "metadata": {},
     "output_type": "execute_result"
    }
   ],
   "source": [
    "df2['stopword_removed_review_content'] = df2['alphanum_review_content'].progress_apply(lambda x: [word for word in x if word not in stopwords])\n",
    "df2.head()"
   ]
  },
  {
   "cell_type": "code",
   "execution_count": 17,
   "metadata": {},
   "outputs": [
    {
     "data": {
      "application/vnd.jupyter.widget-view+json": {
       "model_id": "0b9c331720cd467d916289a850184748",
       "version_major": 2,
       "version_minor": 0
      },
      "text/plain": [
       "  0%|          | 0/1130017 [00:00<?, ?it/s]"
      ]
     },
     "metadata": {},
     "output_type": "display_data"
    },
    {
     "data": {
      "text/html": [
       "<div>\n",
       "<style scoped>\n",
       "    .dataframe tbody tr th:only-of-type {\n",
       "        vertical-align: middle;\n",
       "    }\n",
       "\n",
       "    .dataframe tbody tr th {\n",
       "        vertical-align: top;\n",
       "    }\n",
       "\n",
       "    .dataframe thead th {\n",
       "        text-align: right;\n",
       "    }\n",
       "</style>\n",
       "<table border=\"1\" class=\"dataframe\">\n",
       "  <thead>\n",
       "    <tr style=\"text-align: right;\">\n",
       "      <th></th>\n",
       "      <th>rotten_tomatoes_link</th>\n",
       "      <th>publisher_name</th>\n",
       "      <th>top_critic</th>\n",
       "      <th>review_type</th>\n",
       "      <th>review_date</th>\n",
       "      <th>review_content</th>\n",
       "      <th>tokenized_review_content</th>\n",
       "      <th>alphanum_review_content</th>\n",
       "      <th>stopword_removed_review_content</th>\n",
       "      <th>lemmatized_review_content</th>\n",
       "    </tr>\n",
       "  </thead>\n",
       "  <tbody>\n",
       "    <tr>\n",
       "      <th>0</th>\n",
       "      <td>m/0814255</td>\n",
       "      <td>Urban Cinefile</td>\n",
       "      <td>False</td>\n",
       "      <td>Fresh</td>\n",
       "      <td>2010-02-06</td>\n",
       "      <td>A fantasy adventure that fuses Greek mythology...</td>\n",
       "      <td>[a, fantasy, adventure, that, fuses, greek, my...</td>\n",
       "      <td>[a, fantasy, adventure, that, fuses, greek, my...</td>\n",
       "      <td>[fantasy, adventure, fuses, greek, mythology, ...</td>\n",
       "      <td>[fantasy, adventure, fuse, greek, mythology, c...</td>\n",
       "    </tr>\n",
       "    <tr>\n",
       "      <th>1</th>\n",
       "      <td>m/0814255</td>\n",
       "      <td>Urban Cinefile</td>\n",
       "      <td>False</td>\n",
       "      <td>Fresh</td>\n",
       "      <td>2010-02-06</td>\n",
       "      <td>Uma Thurman as Medusa, the gorgon with a coiff...</td>\n",
       "      <td>[uma, thurman, as, medusa, ,, the, gorgon, wit...</td>\n",
       "      <td>[uma, thurman, as, medusa, the, gorgon, with, ...</td>\n",
       "      <td>[uma, thurman, medusa, gorgon, coiffure, writh...</td>\n",
       "      <td>[uma, thurman, medusa, gorgon, coiffure, writh...</td>\n",
       "    </tr>\n",
       "    <tr>\n",
       "      <th>2</th>\n",
       "      <td>m/0814255</td>\n",
       "      <td>FILMINK (Australia)</td>\n",
       "      <td>False</td>\n",
       "      <td>Fresh</td>\n",
       "      <td>2010-02-09</td>\n",
       "      <td>With a top-notch cast and dazzling special eff...</td>\n",
       "      <td>[with, a, top-notch, cast, and, dazzling, spec...</td>\n",
       "      <td>[with, a, cast, and, dazzling, special, effect...</td>\n",
       "      <td>[cast, dazzling, special, effects, tide, teens...</td>\n",
       "      <td>[cast, dazzling, special, effect, tide, teen, ...</td>\n",
       "    </tr>\n",
       "    <tr>\n",
       "      <th>3</th>\n",
       "      <td>m/0814255</td>\n",
       "      <td>Sunday Mail (Australia)</td>\n",
       "      <td>False</td>\n",
       "      <td>Fresh</td>\n",
       "      <td>2010-02-09</td>\n",
       "      <td>Whether audiences will get behind The Lightnin...</td>\n",
       "      <td>[whether, audiences, will, get, behind, the, l...</td>\n",
       "      <td>[whether, audiences, will, get, behind, the, l...</td>\n",
       "      <td>[audiences, lightning, thief, hard, predict, e...</td>\n",
       "      <td>[audience, lightning, thief, hard, predict, en...</td>\n",
       "    </tr>\n",
       "    <tr>\n",
       "      <th>4</th>\n",
       "      <td>m/0814255</td>\n",
       "      <td>Hollywood Reporter</td>\n",
       "      <td>True</td>\n",
       "      <td>Rotten</td>\n",
       "      <td>2010-02-10</td>\n",
       "      <td>What's really lacking in The Lightning Thief i...</td>\n",
       "      <td>[what's, really, lacking, in, the, lightning, ...</td>\n",
       "      <td>[really, lacking, in, the, lightning, thief, i...</td>\n",
       "      <td>[lacking, lightning, thief, genuine, sense, th...</td>\n",
       "      <td>[lacking, lightning, thief, genuine, sense, th...</td>\n",
       "    </tr>\n",
       "  </tbody>\n",
       "</table>\n",
       "</div>"
      ],
      "text/plain": [
       "  rotten_tomatoes_link           publisher_name  top_critic review_type  \\\n",
       "0            m/0814255           Urban Cinefile       False       Fresh   \n",
       "1            m/0814255           Urban Cinefile       False       Fresh   \n",
       "2            m/0814255      FILMINK (Australia)       False       Fresh   \n",
       "3            m/0814255  Sunday Mail (Australia)       False       Fresh   \n",
       "4            m/0814255       Hollywood Reporter        True      Rotten   \n",
       "\n",
       "  review_date                                     review_content  \\\n",
       "0  2010-02-06  A fantasy adventure that fuses Greek mythology...   \n",
       "1  2010-02-06  Uma Thurman as Medusa, the gorgon with a coiff...   \n",
       "2  2010-02-09  With a top-notch cast and dazzling special eff...   \n",
       "3  2010-02-09  Whether audiences will get behind The Lightnin...   \n",
       "4  2010-02-10  What's really lacking in The Lightning Thief i...   \n",
       "\n",
       "                            tokenized_review_content  \\\n",
       "0  [a, fantasy, adventure, that, fuses, greek, my...   \n",
       "1  [uma, thurman, as, medusa, ,, the, gorgon, wit...   \n",
       "2  [with, a, top-notch, cast, and, dazzling, spec...   \n",
       "3  [whether, audiences, will, get, behind, the, l...   \n",
       "4  [what's, really, lacking, in, the, lightning, ...   \n",
       "\n",
       "                             alphanum_review_content  \\\n",
       "0  [a, fantasy, adventure, that, fuses, greek, my...   \n",
       "1  [uma, thurman, as, medusa, the, gorgon, with, ...   \n",
       "2  [with, a, cast, and, dazzling, special, effect...   \n",
       "3  [whether, audiences, will, get, behind, the, l...   \n",
       "4  [really, lacking, in, the, lightning, thief, i...   \n",
       "\n",
       "                     stopword_removed_review_content  \\\n",
       "0  [fantasy, adventure, fuses, greek, mythology, ...   \n",
       "1  [uma, thurman, medusa, gorgon, coiffure, writh...   \n",
       "2  [cast, dazzling, special, effects, tide, teens...   \n",
       "3  [audiences, lightning, thief, hard, predict, e...   \n",
       "4  [lacking, lightning, thief, genuine, sense, th...   \n",
       "\n",
       "                           lemmatized_review_content  \n",
       "0  [fantasy, adventure, fuse, greek, mythology, c...  \n",
       "1  [uma, thurman, medusa, gorgon, coiffure, writh...  \n",
       "2  [cast, dazzling, special, effect, tide, teen, ...  \n",
       "3  [audience, lightning, thief, hard, predict, en...  \n",
       "4  [lacking, lightning, thief, genuine, sense, th...  "
      ]
     },
     "execution_count": 17,
     "metadata": {},
     "output_type": "execute_result"
    }
   ],
   "source": [
    "df2['lemmatized_review_content'] = df2['stopword_removed_review_content'].progress_apply(lambda x: [lemmatizer.lemmatize(word) for word in x])\n",
    "df2.head()"
   ]
  },
  {
   "cell_type": "markdown",
   "metadata": {},
   "source": [
    "### VADER"
   ]
  },
  {
   "cell_type": "code",
   "execution_count": 18,
   "metadata": {},
   "outputs": [],
   "source": [
    "sid_obj = SentimentIntensityAnalyzer()"
   ]
  },
  {
   "cell_type": "code",
   "execution_count": 19,
   "metadata": {},
   "outputs": [
    {
     "data": {
      "application/vnd.jupyter.widget-view+json": {
       "model_id": "1048772f92104791b8df93274647776f",
       "version_major": 2,
       "version_minor": 0
      },
      "text/plain": [
       "  0%|          | 0/1130017 [00:00<?, ?it/s]"
      ]
     },
     "metadata": {},
     "output_type": "display_data"
    },
    {
     "data": {
      "application/vnd.jupyter.widget-view+json": {
       "model_id": "d5ac76a474644672bd4c087c3561031f",
       "version_major": 2,
       "version_minor": 0
      },
      "text/plain": [
       "  0%|          | 0/1130017 [00:00<?, ?it/s]"
      ]
     },
     "metadata": {},
     "output_type": "display_data"
    },
    {
     "data": {
      "application/vnd.jupyter.widget-view+json": {
       "model_id": "08dc7c6d1ce94378a49afe6bda65204e",
       "version_major": 2,
       "version_minor": 0
      },
      "text/plain": [
       "  0%|          | 0/1130017 [00:00<?, ?it/s]"
      ]
     },
     "metadata": {},
     "output_type": "display_data"
    },
    {
     "data": {
      "text/html": [
       "<div>\n",
       "<style scoped>\n",
       "    .dataframe tbody tr th:only-of-type {\n",
       "        vertical-align: middle;\n",
       "    }\n",
       "\n",
       "    .dataframe tbody tr th {\n",
       "        vertical-align: top;\n",
       "    }\n",
       "\n",
       "    .dataframe thead th {\n",
       "        text-align: right;\n",
       "    }\n",
       "</style>\n",
       "<table border=\"1\" class=\"dataframe\">\n",
       "  <thead>\n",
       "    <tr style=\"text-align: right;\">\n",
       "      <th></th>\n",
       "      <th>rotten_tomatoes_link</th>\n",
       "      <th>publisher_name</th>\n",
       "      <th>top_critic</th>\n",
       "      <th>review_type</th>\n",
       "      <th>review_date</th>\n",
       "      <th>review_content</th>\n",
       "      <th>tokenized_review_content</th>\n",
       "      <th>alphanum_review_content</th>\n",
       "      <th>stopword_removed_review_content</th>\n",
       "      <th>lemmatized_review_content</th>\n",
       "      <th>sentiment_scores</th>\n",
       "      <th>compound_score</th>\n",
       "      <th>sentiment</th>\n",
       "    </tr>\n",
       "  </thead>\n",
       "  <tbody>\n",
       "    <tr>\n",
       "      <th>0</th>\n",
       "      <td>m/0814255</td>\n",
       "      <td>Urban Cinefile</td>\n",
       "      <td>False</td>\n",
       "      <td>Fresh</td>\n",
       "      <td>2010-02-06</td>\n",
       "      <td>A fantasy adventure that fuses Greek mythology...</td>\n",
       "      <td>[a, fantasy, adventure, that, fuses, greek, my...</td>\n",
       "      <td>[a, fantasy, adventure, that, fuses, greek, my...</td>\n",
       "      <td>[fantasy, adventure, fuses, greek, mythology, ...</td>\n",
       "      <td>[fantasy, adventure, fuse, greek, mythology, c...</td>\n",
       "      <td>{'neg': 0.0, 'neu': 0.776, 'pos': 0.224, 'comp...</td>\n",
       "      <td>0.7579</td>\n",
       "      <td>Positive</td>\n",
       "    </tr>\n",
       "    <tr>\n",
       "      <th>1</th>\n",
       "      <td>m/0814255</td>\n",
       "      <td>Urban Cinefile</td>\n",
       "      <td>False</td>\n",
       "      <td>Fresh</td>\n",
       "      <td>2010-02-06</td>\n",
       "      <td>Uma Thurman as Medusa, the gorgon with a coiff...</td>\n",
       "      <td>[uma, thurman, as, medusa, ,, the, gorgon, wit...</td>\n",
       "      <td>[uma, thurman, as, medusa, the, gorgon, with, ...</td>\n",
       "      <td>[uma, thurman, medusa, gorgon, coiffure, writh...</td>\n",
       "      <td>[uma, thurman, medusa, gorgon, coiffure, writh...</td>\n",
       "      <td>{'neg': 0.0, 'neu': 1.0, 'pos': 0.0, 'compound...</td>\n",
       "      <td>0.0000</td>\n",
       "      <td>Neutral</td>\n",
       "    </tr>\n",
       "    <tr>\n",
       "      <th>2</th>\n",
       "      <td>m/0814255</td>\n",
       "      <td>FILMINK (Australia)</td>\n",
       "      <td>False</td>\n",
       "      <td>Fresh</td>\n",
       "      <td>2010-02-09</td>\n",
       "      <td>With a top-notch cast and dazzling special eff...</td>\n",
       "      <td>[with, a, top-notch, cast, and, dazzling, spec...</td>\n",
       "      <td>[with, a, cast, and, dazzling, special, effect...</td>\n",
       "      <td>[cast, dazzling, special, effects, tide, teens...</td>\n",
       "      <td>[cast, dazzling, special, effect, tide, teen, ...</td>\n",
       "      <td>{'neg': 0.0, 'neu': 0.876, 'pos': 0.124, 'comp...</td>\n",
       "      <td>0.4019</td>\n",
       "      <td>Positive</td>\n",
       "    </tr>\n",
       "    <tr>\n",
       "      <th>3</th>\n",
       "      <td>m/0814255</td>\n",
       "      <td>Sunday Mail (Australia)</td>\n",
       "      <td>False</td>\n",
       "      <td>Fresh</td>\n",
       "      <td>2010-02-09</td>\n",
       "      <td>Whether audiences will get behind The Lightnin...</td>\n",
       "      <td>[whether, audiences, will, get, behind, the, l...</td>\n",
       "      <td>[whether, audiences, will, get, behind, the, l...</td>\n",
       "      <td>[audiences, lightning, thief, hard, predict, e...</td>\n",
       "      <td>[audience, lightning, thief, hard, predict, en...</td>\n",
       "      <td>{'neg': 0.078, 'neu': 0.733, 'pos': 0.189, 'co...</td>\n",
       "      <td>0.7050</td>\n",
       "      <td>Positive</td>\n",
       "    </tr>\n",
       "    <tr>\n",
       "      <th>4</th>\n",
       "      <td>m/0814255</td>\n",
       "      <td>Hollywood Reporter</td>\n",
       "      <td>True</td>\n",
       "      <td>Rotten</td>\n",
       "      <td>2010-02-10</td>\n",
       "      <td>What's really lacking in The Lightning Thief i...</td>\n",
       "      <td>[what's, really, lacking, in, the, lightning, ...</td>\n",
       "      <td>[really, lacking, in, the, lightning, thief, i...</td>\n",
       "      <td>[lacking, lightning, thief, genuine, sense, th...</td>\n",
       "      <td>[lacking, lightning, thief, genuine, sense, th...</td>\n",
       "      <td>{'neg': 0.12, 'neu': 0.88, 'pos': 0.0, 'compou...</td>\n",
       "      <td>-0.5267</td>\n",
       "      <td>Negative</td>\n",
       "    </tr>\n",
       "  </tbody>\n",
       "</table>\n",
       "</div>"
      ],
      "text/plain": [
       "  rotten_tomatoes_link           publisher_name  top_critic review_type  \\\n",
       "0            m/0814255           Urban Cinefile       False       Fresh   \n",
       "1            m/0814255           Urban Cinefile       False       Fresh   \n",
       "2            m/0814255      FILMINK (Australia)       False       Fresh   \n",
       "3            m/0814255  Sunday Mail (Australia)       False       Fresh   \n",
       "4            m/0814255       Hollywood Reporter        True      Rotten   \n",
       "\n",
       "  review_date                                     review_content  \\\n",
       "0  2010-02-06  A fantasy adventure that fuses Greek mythology...   \n",
       "1  2010-02-06  Uma Thurman as Medusa, the gorgon with a coiff...   \n",
       "2  2010-02-09  With a top-notch cast and dazzling special eff...   \n",
       "3  2010-02-09  Whether audiences will get behind The Lightnin...   \n",
       "4  2010-02-10  What's really lacking in The Lightning Thief i...   \n",
       "\n",
       "                            tokenized_review_content  \\\n",
       "0  [a, fantasy, adventure, that, fuses, greek, my...   \n",
       "1  [uma, thurman, as, medusa, ,, the, gorgon, wit...   \n",
       "2  [with, a, top-notch, cast, and, dazzling, spec...   \n",
       "3  [whether, audiences, will, get, behind, the, l...   \n",
       "4  [what's, really, lacking, in, the, lightning, ...   \n",
       "\n",
       "                             alphanum_review_content  \\\n",
       "0  [a, fantasy, adventure, that, fuses, greek, my...   \n",
       "1  [uma, thurman, as, medusa, the, gorgon, with, ...   \n",
       "2  [with, a, cast, and, dazzling, special, effect...   \n",
       "3  [whether, audiences, will, get, behind, the, l...   \n",
       "4  [really, lacking, in, the, lightning, thief, i...   \n",
       "\n",
       "                     stopword_removed_review_content  \\\n",
       "0  [fantasy, adventure, fuses, greek, mythology, ...   \n",
       "1  [uma, thurman, medusa, gorgon, coiffure, writh...   \n",
       "2  [cast, dazzling, special, effects, tide, teens...   \n",
       "3  [audiences, lightning, thief, hard, predict, e...   \n",
       "4  [lacking, lightning, thief, genuine, sense, th...   \n",
       "\n",
       "                           lemmatized_review_content  \\\n",
       "0  [fantasy, adventure, fuse, greek, mythology, c...   \n",
       "1  [uma, thurman, medusa, gorgon, coiffure, writh...   \n",
       "2  [cast, dazzling, special, effect, tide, teen, ...   \n",
       "3  [audience, lightning, thief, hard, predict, en...   \n",
       "4  [lacking, lightning, thief, genuine, sense, th...   \n",
       "\n",
       "                                    sentiment_scores  compound_score sentiment  \n",
       "0  {'neg': 0.0, 'neu': 0.776, 'pos': 0.224, 'comp...          0.7579  Positive  \n",
       "1  {'neg': 0.0, 'neu': 1.0, 'pos': 0.0, 'compound...          0.0000   Neutral  \n",
       "2  {'neg': 0.0, 'neu': 0.876, 'pos': 0.124, 'comp...          0.4019  Positive  \n",
       "3  {'neg': 0.078, 'neu': 0.733, 'pos': 0.189, 'co...          0.7050  Positive  \n",
       "4  {'neg': 0.12, 'neu': 0.88, 'pos': 0.0, 'compou...         -0.5267  Negative  "
      ]
     },
     "execution_count": 19,
     "metadata": {},
     "output_type": "execute_result"
    }
   ],
   "source": [
    "df2['sentiment_scores'] = df2['review_content'].progress_apply(lambda x: sid_obj.polarity_scores(x))\n",
    "df2['compound_score'] = df2['sentiment_scores'].progress_apply(lambda x: x['compound'])\n",
    "df2['sentiment'] = df2['compound_score'].progress_apply(lambda x: \n",
    "                                                \"Positive\" if x > 0 else\n",
    "                                                (\"Negative\" if x < 0 else \"Neutral\"))\n",
    "df2.head()"
   ]
  },
  {
   "cell_type": "code",
   "execution_count": 20,
   "metadata": {},
   "outputs": [],
   "source": [
    "df3 = df2[['rotten_tomatoes_link', 'publisher_name', 'top_critic', 'review_type', 'review_date', 'sentiment', 'compound_score']]\n",
    "df3.to_csv('../data/rotten_tomatoes_critic_reviews_tableau.csv', index=False)"
   ]
  },
  {
   "cell_type": "code",
   "execution_count": 21,
   "metadata": {},
   "outputs": [],
   "source": [
    "df4 = df2[['top_critic', 'review_type', 'review_date', 'sentiment', 'compound_score', 'lemmatized_review_content']]\n",
    "df4.to_csv('../data/rotten_tomatoes_critic_reviews_cleaned.csv', index=False)"
   ]
  }
 ],
 "metadata": {
  "kernelspec": {
   "display_name": "conda_env",
   "language": "python",
   "name": "python3"
  },
  "language_info": {
   "codemirror_mode": {
    "name": "ipython",
    "version": 3
   },
   "file_extension": ".py",
   "mimetype": "text/x-python",
   "name": "python",
   "nbconvert_exporter": "python",
   "pygments_lexer": "ipython3",
   "version": "3.11.10"
  }
 },
 "nbformat": 4,
 "nbformat_minor": 2
}
