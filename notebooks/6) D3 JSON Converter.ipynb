{
 "cells": [
  {
   "cell_type": "markdown",
   "metadata": {},
   "source": [
    "## D3.js Dataset to JSON Data Converter"
   ]
  },
  {
   "cell_type": "markdown",
   "metadata": {},
   "source": [
    "### Import Libraries"
   ]
  },
  {
   "cell_type": "code",
   "execution_count": 1,
   "metadata": {},
   "outputs": [],
   "source": [
    "import pandas as pd\n",
    "import numpy as np\n",
    "import json\n",
    "import warnings\n",
    "from tqdm.notebook import tqdm\n",
    "warnings.filterwarnings('ignore')\n",
    "tqdm.pandas()"
   ]
  },
  {
   "cell_type": "code",
   "execution_count": 2,
   "metadata": {},
   "outputs": [
    {
     "data": {
      "text/html": [
       "<style>\n",
       ".cell-output-ipywidget-background {\n",
       "    background-color: transparent !important;\n",
       "}\n",
       ":root {\n",
       "    --jp-widgets-color: var(--vscode-editor-foreground);\n",
       "    --jp-widgets-font-size: var(--vscode-editor-font-size);\n",
       "}  \n"
      ],
      "text/plain": [
       "<IPython.core.display.HTML object>"
      ]
     },
     "metadata": {},
     "output_type": "display_data"
    }
   ],
   "source": [
    "%%html\n",
    "<style>\n",
    ".cell-output-ipywidget-background {\n",
    "    background-color: transparent !important;\n",
    "}\n",
    ":root {\n",
    "    --jp-widgets-color: var(--vscode-editor-foreground);\n",
    "    --jp-widgets-font-size: var(--vscode-editor-font-size);\n",
    "}  "
   ]
  },
  {
   "cell_type": "code",
   "execution_count": 8,
   "metadata": {},
   "outputs": [
    {
     "data": {
      "text/html": [
       "<div>\n",
       "<style scoped>\n",
       "    .dataframe tbody tr th:only-of-type {\n",
       "        vertical-align: middle;\n",
       "    }\n",
       "\n",
       "    .dataframe tbody tr th {\n",
       "        vertical-align: top;\n",
       "    }\n",
       "\n",
       "    .dataframe thead th {\n",
       "        text-align: right;\n",
       "    }\n",
       "</style>\n",
       "<table border=\"1\" class=\"dataframe\">\n",
       "  <thead>\n",
       "    <tr style=\"text-align: right;\">\n",
       "      <th></th>\n",
       "      <th>id</th>\n",
       "      <th>title</th>\n",
       "      <th>vote_average</th>\n",
       "      <th>vote_count</th>\n",
       "      <th>release_date</th>\n",
       "      <th>revenue</th>\n",
       "      <th>runtime</th>\n",
       "      <th>budget</th>\n",
       "      <th>original_language</th>\n",
       "      <th>popularity</th>\n",
       "      <th>production_companies</th>\n",
       "      <th>production_countries</th>\n",
       "      <th>keywords</th>\n",
       "      <th>overview_sentiment</th>\n",
       "      <th>actor_list</th>\n",
       "      <th>director</th>\n",
       "      <th>genre</th>\n",
       "    </tr>\n",
       "  </thead>\n",
       "  <tbody>\n",
       "    <tr>\n",
       "      <th>0</th>\n",
       "      <td>27205</td>\n",
       "      <td>Inception</td>\n",
       "      <td>8.364</td>\n",
       "      <td>34495</td>\n",
       "      <td>2010-07-15</td>\n",
       "      <td>825532764</td>\n",
       "      <td>148</td>\n",
       "      <td>160000000</td>\n",
       "      <td>en</td>\n",
       "      <td>83.952</td>\n",
       "      <td>Legendary Pictures</td>\n",
       "      <td>United Kingdom</td>\n",
       "      <td>rescue</td>\n",
       "      <td>-0.011111</td>\n",
       "      <td>Leonardo DiCaprio</td>\n",
       "      <td>Christopher Nolan</td>\n",
       "      <td>Action</td>\n",
       "    </tr>\n",
       "    <tr>\n",
       "      <th>1</th>\n",
       "      <td>27205</td>\n",
       "      <td>Inception</td>\n",
       "      <td>8.364</td>\n",
       "      <td>34495</td>\n",
       "      <td>2010-07-15</td>\n",
       "      <td>825532764</td>\n",
       "      <td>148</td>\n",
       "      <td>160000000</td>\n",
       "      <td>en</td>\n",
       "      <td>83.952</td>\n",
       "      <td>Legendary Pictures</td>\n",
       "      <td>United Kingdom</td>\n",
       "      <td>rescue</td>\n",
       "      <td>-0.011111</td>\n",
       "      <td>Leonardo DiCaprio</td>\n",
       "      <td>Christopher Nolan</td>\n",
       "      <td>Science Fiction</td>\n",
       "    </tr>\n",
       "    <tr>\n",
       "      <th>2</th>\n",
       "      <td>27205</td>\n",
       "      <td>Inception</td>\n",
       "      <td>8.364</td>\n",
       "      <td>34495</td>\n",
       "      <td>2010-07-15</td>\n",
       "      <td>825532764</td>\n",
       "      <td>148</td>\n",
       "      <td>160000000</td>\n",
       "      <td>en</td>\n",
       "      <td>83.952</td>\n",
       "      <td>Legendary Pictures</td>\n",
       "      <td>United Kingdom</td>\n",
       "      <td>rescue</td>\n",
       "      <td>-0.011111</td>\n",
       "      <td>Leonardo DiCaprio</td>\n",
       "      <td>Christopher Nolan</td>\n",
       "      <td>Adventure</td>\n",
       "    </tr>\n",
       "    <tr>\n",
       "      <th>3</th>\n",
       "      <td>27205</td>\n",
       "      <td>Inception</td>\n",
       "      <td>8.364</td>\n",
       "      <td>34495</td>\n",
       "      <td>2010-07-15</td>\n",
       "      <td>825532764</td>\n",
       "      <td>148</td>\n",
       "      <td>160000000</td>\n",
       "      <td>en</td>\n",
       "      <td>83.952</td>\n",
       "      <td>Legendary Pictures</td>\n",
       "      <td>United Kingdom</td>\n",
       "      <td>rescue</td>\n",
       "      <td>-0.011111</td>\n",
       "      <td>Joseph Gordon-Levitt</td>\n",
       "      <td>Christopher Nolan</td>\n",
       "      <td>Action</td>\n",
       "    </tr>\n",
       "    <tr>\n",
       "      <th>4</th>\n",
       "      <td>27205</td>\n",
       "      <td>Inception</td>\n",
       "      <td>8.364</td>\n",
       "      <td>34495</td>\n",
       "      <td>2010-07-15</td>\n",
       "      <td>825532764</td>\n",
       "      <td>148</td>\n",
       "      <td>160000000</td>\n",
       "      <td>en</td>\n",
       "      <td>83.952</td>\n",
       "      <td>Legendary Pictures</td>\n",
       "      <td>United Kingdom</td>\n",
       "      <td>rescue</td>\n",
       "      <td>-0.011111</td>\n",
       "      <td>Joseph Gordon-Levitt</td>\n",
       "      <td>Christopher Nolan</td>\n",
       "      <td>Science Fiction</td>\n",
       "    </tr>\n",
       "  </tbody>\n",
       "</table>\n",
       "</div>"
      ],
      "text/plain": [
       "      id      title  vote_average  vote_count release_date    revenue  \\\n",
       "0  27205  Inception         8.364       34495   2010-07-15  825532764   \n",
       "1  27205  Inception         8.364       34495   2010-07-15  825532764   \n",
       "2  27205  Inception         8.364       34495   2010-07-15  825532764   \n",
       "3  27205  Inception         8.364       34495   2010-07-15  825532764   \n",
       "4  27205  Inception         8.364       34495   2010-07-15  825532764   \n",
       "\n",
       "   runtime     budget original_language  popularity production_companies  \\\n",
       "0      148  160000000                en      83.952   Legendary Pictures   \n",
       "1      148  160000000                en      83.952   Legendary Pictures   \n",
       "2      148  160000000                en      83.952   Legendary Pictures   \n",
       "3      148  160000000                en      83.952   Legendary Pictures   \n",
       "4      148  160000000                en      83.952   Legendary Pictures   \n",
       "\n",
       "  production_countries keywords  overview_sentiment            actor_list  \\\n",
       "0       United Kingdom   rescue           -0.011111     Leonardo DiCaprio   \n",
       "1       United Kingdom   rescue           -0.011111     Leonardo DiCaprio   \n",
       "2       United Kingdom   rescue           -0.011111     Leonardo DiCaprio   \n",
       "3       United Kingdom   rescue           -0.011111  Joseph Gordon-Levitt   \n",
       "4       United Kingdom   rescue           -0.011111  Joseph Gordon-Levitt   \n",
       "\n",
       "            director            genre  \n",
       "0  Christopher Nolan           Action  \n",
       "1  Christopher Nolan  Science Fiction  \n",
       "2  Christopher Nolan        Adventure  \n",
       "3  Christopher Nolan           Action  \n",
       "4  Christopher Nolan  Science Fiction  "
      ]
     },
     "execution_count": 8,
     "metadata": {},
     "output_type": "execute_result"
    }
   ],
   "source": [
    "df = pd.DataFrame(pd.read_csv('../data/imdb_imdb_tableau.csv'))\n",
    "df.head()"
   ]
  },
  {
   "cell_type": "code",
   "execution_count": 13,
   "metadata": {},
   "outputs": [
    {
     "data": {
      "text/html": [
       "<div>\n",
       "<style scoped>\n",
       "    .dataframe tbody tr th:only-of-type {\n",
       "        vertical-align: middle;\n",
       "    }\n",
       "\n",
       "    .dataframe tbody tr th {\n",
       "        vertical-align: top;\n",
       "    }\n",
       "\n",
       "    .dataframe thead th {\n",
       "        text-align: right;\n",
       "    }\n",
       "</style>\n",
       "<table border=\"1\" class=\"dataframe\">\n",
       "  <thead>\n",
       "    <tr style=\"text-align: right;\">\n",
       "      <th></th>\n",
       "      <th>id</th>\n",
       "      <th>title</th>\n",
       "      <th>vote_average</th>\n",
       "      <th>vote_count</th>\n",
       "      <th>release_date</th>\n",
       "      <th>revenue</th>\n",
       "      <th>runtime</th>\n",
       "      <th>budget</th>\n",
       "      <th>original_language</th>\n",
       "      <th>popularity</th>\n",
       "      <th>production_companies</th>\n",
       "      <th>production_countries</th>\n",
       "      <th>keywords</th>\n",
       "      <th>overview_sentiment</th>\n",
       "      <th>actor_list</th>\n",
       "      <th>director</th>\n",
       "      <th>genre</th>\n",
       "    </tr>\n",
       "  </thead>\n",
       "  <tbody>\n",
       "    <tr>\n",
       "      <th>0</th>\n",
       "      <td>27205</td>\n",
       "      <td>Inception</td>\n",
       "      <td>8.364</td>\n",
       "      <td>34495</td>\n",
       "      <td>2010-07-15</td>\n",
       "      <td>825532764</td>\n",
       "      <td>148</td>\n",
       "      <td>160000000</td>\n",
       "      <td>en</td>\n",
       "      <td>83.952</td>\n",
       "      <td>['Legendary Pictures', 'Syncopy', 'Warner Bros...</td>\n",
       "      <td>['United Kingdom', 'United States of America']</td>\n",
       "      <td>['rescue', 'mission', 'dream', 'airplane', 'pa...</td>\n",
       "      <td>-0.011111</td>\n",
       "      <td>['Leonardo DiCaprio', 'Joseph Gordon-Levitt', ...</td>\n",
       "      <td>['Christopher Nolan']</td>\n",
       "      <td>['Action', 'Science Fiction', 'Adventure']</td>\n",
       "    </tr>\n",
       "    <tr>\n",
       "      <th>1</th>\n",
       "      <td>157336</td>\n",
       "      <td>Interstellar</td>\n",
       "      <td>8.417</td>\n",
       "      <td>32571</td>\n",
       "      <td>2014-11-05</td>\n",
       "      <td>701729206</td>\n",
       "      <td>169</td>\n",
       "      <td>165000000</td>\n",
       "      <td>en</td>\n",
       "      <td>140.241</td>\n",
       "      <td>['Legendary Pictures', 'Syncopy', 'Lynda Obst ...</td>\n",
       "      <td>['United Kingdom', 'United States of America']</td>\n",
       "      <td>['rescue', 'future', 'spacecraft', 'race again...</td>\n",
       "      <td>0.045455</td>\n",
       "      <td>['Matthew McConaughey', 'Anne Hathaway', 'Jess...</td>\n",
       "      <td>['Christopher Nolan']</td>\n",
       "      <td>['Adventure', 'Drama', 'Science Fiction']</td>\n",
       "    </tr>\n",
       "    <tr>\n",
       "      <th>2</th>\n",
       "      <td>155</td>\n",
       "      <td>The Dark Knight</td>\n",
       "      <td>8.512</td>\n",
       "      <td>30619</td>\n",
       "      <td>2008-07-16</td>\n",
       "      <td>1004558444</td>\n",
       "      <td>152</td>\n",
       "      <td>185000000</td>\n",
       "      <td>en</td>\n",
       "      <td>130.643</td>\n",
       "      <td>['DC Comics', 'Legendary Pictures', 'Syncopy',...</td>\n",
       "      <td>['United Kingdom', 'United States of America']</td>\n",
       "      <td>['joker', 'sadism', 'chaos', 'secret identity'...</td>\n",
       "      <td>0.025000</td>\n",
       "      <td>['Christian Bale', 'Heath Ledger', 'Aaron Eckh...</td>\n",
       "      <td>['Christopher Nolan']</td>\n",
       "      <td>['Drama', 'Action', 'Crime', 'Thriller']</td>\n",
       "    </tr>\n",
       "    <tr>\n",
       "      <th>3</th>\n",
       "      <td>19995</td>\n",
       "      <td>Avatar</td>\n",
       "      <td>7.573</td>\n",
       "      <td>29815</td>\n",
       "      <td>2009-12-15</td>\n",
       "      <td>2923706026</td>\n",
       "      <td>162</td>\n",
       "      <td>237000000</td>\n",
       "      <td>en</td>\n",
       "      <td>79.932</td>\n",
       "      <td>['Dune Entertainment', 'Lightstorm Entertainme...</td>\n",
       "      <td>['United States of America', 'United Kingdom']</td>\n",
       "      <td>['future', 'society', 'culture clash', 'space ...</td>\n",
       "      <td>0.041667</td>\n",
       "      <td>['Sam Worthington', 'Zoe Saldana', 'Sigourney ...</td>\n",
       "      <td>['James Cameron']</td>\n",
       "      <td>['Action', 'Adventure', 'Fantasy', 'Science Fi...</td>\n",
       "    </tr>\n",
       "    <tr>\n",
       "      <th>4</th>\n",
       "      <td>24428</td>\n",
       "      <td>The Avengers</td>\n",
       "      <td>7.710</td>\n",
       "      <td>29166</td>\n",
       "      <td>2012-04-25</td>\n",
       "      <td>1518815515</td>\n",
       "      <td>143</td>\n",
       "      <td>220000000</td>\n",
       "      <td>en</td>\n",
       "      <td>98.082</td>\n",
       "      <td>['Marvel Studios']</td>\n",
       "      <td>['United States of America']</td>\n",
       "      <td>['new york city', 'superhero', 'shield', 'base...</td>\n",
       "      <td>0.025000</td>\n",
       "      <td>['Robert Downey Jr.', 'Chris Evans', 'Scarlett...</td>\n",
       "      <td>['Joss Whedon']</td>\n",
       "      <td>['Science Fiction', 'Action', 'Adventure']</td>\n",
       "    </tr>\n",
       "  </tbody>\n",
       "</table>\n",
       "</div>"
      ],
      "text/plain": [
       "       id            title  vote_average  vote_count release_date     revenue  \\\n",
       "0   27205        Inception         8.364       34495   2010-07-15   825532764   \n",
       "1  157336     Interstellar         8.417       32571   2014-11-05   701729206   \n",
       "2     155  The Dark Knight         8.512       30619   2008-07-16  1004558444   \n",
       "3   19995           Avatar         7.573       29815   2009-12-15  2923706026   \n",
       "4   24428     The Avengers         7.710       29166   2012-04-25  1518815515   \n",
       "\n",
       "   runtime     budget original_language  popularity  \\\n",
       "0      148  160000000                en      83.952   \n",
       "1      169  165000000                en     140.241   \n",
       "2      152  185000000                en     130.643   \n",
       "3      162  237000000                en      79.932   \n",
       "4      143  220000000                en      98.082   \n",
       "\n",
       "                                production_companies  \\\n",
       "0  ['Legendary Pictures', 'Syncopy', 'Warner Bros...   \n",
       "1  ['Legendary Pictures', 'Syncopy', 'Lynda Obst ...   \n",
       "2  ['DC Comics', 'Legendary Pictures', 'Syncopy',...   \n",
       "3  ['Dune Entertainment', 'Lightstorm Entertainme...   \n",
       "4                                 ['Marvel Studios']   \n",
       "\n",
       "                             production_countries  \\\n",
       "0  ['United Kingdom', 'United States of America']   \n",
       "1  ['United Kingdom', 'United States of America']   \n",
       "2  ['United Kingdom', 'United States of America']   \n",
       "3  ['United States of America', 'United Kingdom']   \n",
       "4                    ['United States of America']   \n",
       "\n",
       "                                            keywords  overview_sentiment  \\\n",
       "0  ['rescue', 'mission', 'dream', 'airplane', 'pa...           -0.011111   \n",
       "1  ['rescue', 'future', 'spacecraft', 'race again...            0.045455   \n",
       "2  ['joker', 'sadism', 'chaos', 'secret identity'...            0.025000   \n",
       "3  ['future', 'society', 'culture clash', 'space ...            0.041667   \n",
       "4  ['new york city', 'superhero', 'shield', 'base...            0.025000   \n",
       "\n",
       "                                          actor_list               director  \\\n",
       "0  ['Leonardo DiCaprio', 'Joseph Gordon-Levitt', ...  ['Christopher Nolan']   \n",
       "1  ['Matthew McConaughey', 'Anne Hathaway', 'Jess...  ['Christopher Nolan']   \n",
       "2  ['Christian Bale', 'Heath Ledger', 'Aaron Eckh...  ['Christopher Nolan']   \n",
       "3  ['Sam Worthington', 'Zoe Saldana', 'Sigourney ...      ['James Cameron']   \n",
       "4  ['Robert Downey Jr.', 'Chris Evans', 'Scarlett...        ['Joss Whedon']   \n",
       "\n",
       "                                               genre  \n",
       "0         ['Action', 'Science Fiction', 'Adventure']  \n",
       "1          ['Adventure', 'Drama', 'Science Fiction']  \n",
       "2           ['Drama', 'Action', 'Crime', 'Thriller']  \n",
       "3  ['Action', 'Adventure', 'Fantasy', 'Science Fi...  \n",
       "4         ['Science Fiction', 'Action', 'Adventure']  "
      ]
     },
     "execution_count": 13,
     "metadata": {},
     "output_type": "execute_result"
    }
   ],
   "source": [
    "df2 = pd.DataFrame(pd.read_csv('../data/imdb_tmdb_cleaned.csv'))\n",
    "df2.head()"
   ]
  },
  {
   "cell_type": "code",
   "execution_count": 9,
   "metadata": {},
   "outputs": [
    {
     "data": {
      "text/plain": [
       "id                        int64\n",
       "title                    object\n",
       "vote_average            float64\n",
       "vote_count                int64\n",
       "release_date             object\n",
       "revenue                   int64\n",
       "runtime                   int64\n",
       "budget                    int64\n",
       "original_language        object\n",
       "popularity              float64\n",
       "production_companies     object\n",
       "production_countries     object\n",
       "keywords                 object\n",
       "overview_sentiment      float64\n",
       "actor_list               object\n",
       "director                 object\n",
       "genre                    object\n",
       "dtype: object"
      ]
     },
     "execution_count": 9,
     "metadata": {},
     "output_type": "execute_result"
    }
   ],
   "source": [
    "df.dtypes"
   ]
  },
  {
   "cell_type": "code",
   "execution_count": 14,
   "metadata": {},
   "outputs": [
    {
     "data": {
      "text/plain": [
       "id                        int64\n",
       "title                    object\n",
       "vote_average            float64\n",
       "vote_count                int64\n",
       "release_date             object\n",
       "revenue                   int64\n",
       "runtime                   int64\n",
       "budget                    int64\n",
       "original_language        object\n",
       "popularity              float64\n",
       "production_companies     object\n",
       "production_countries     object\n",
       "keywords                 object\n",
       "overview_sentiment      float64\n",
       "actor_list               object\n",
       "director                 object\n",
       "genre                    object\n",
       "dtype: object"
      ]
     },
     "execution_count": 14,
     "metadata": {},
     "output_type": "execute_result"
    }
   ],
   "source": [
    "df2.dtypes"
   ]
  },
  {
   "cell_type": "code",
   "execution_count": 19,
   "metadata": {},
   "outputs": [
    {
     "data": {
      "text/html": [
       "<div>\n",
       "<style scoped>\n",
       "    .dataframe tbody tr th:only-of-type {\n",
       "        vertical-align: middle;\n",
       "    }\n",
       "\n",
       "    .dataframe tbody tr th {\n",
       "        vertical-align: top;\n",
       "    }\n",
       "\n",
       "    .dataframe thead th {\n",
       "        text-align: right;\n",
       "    }\n",
       "</style>\n",
       "<table border=\"1\" class=\"dataframe\">\n",
       "  <thead>\n",
       "    <tr style=\"text-align: right;\">\n",
       "      <th></th>\n",
       "      <th>title</th>\n",
       "      <th>genre</th>\n",
       "    </tr>\n",
       "  </thead>\n",
       "  <tbody>\n",
       "    <tr>\n",
       "      <th>0</th>\n",
       "      <td>Inception</td>\n",
       "      <td>Action</td>\n",
       "    </tr>\n",
       "    <tr>\n",
       "      <th>1</th>\n",
       "      <td>Inception</td>\n",
       "      <td>Science Fiction</td>\n",
       "    </tr>\n",
       "    <tr>\n",
       "      <th>2</th>\n",
       "      <td>Inception</td>\n",
       "      <td>Adventure</td>\n",
       "    </tr>\n",
       "    <tr>\n",
       "      <th>3</th>\n",
       "      <td>Inception</td>\n",
       "      <td>Action</td>\n",
       "    </tr>\n",
       "    <tr>\n",
       "      <th>4</th>\n",
       "      <td>Inception</td>\n",
       "      <td>Science Fiction</td>\n",
       "    </tr>\n",
       "  </tbody>\n",
       "</table>\n",
       "</div>"
      ],
      "text/plain": [
       "       title            genre\n",
       "0  Inception           Action\n",
       "1  Inception  Science Fiction\n",
       "2  Inception        Adventure\n",
       "3  Inception           Action\n",
       "4  Inception  Science Fiction"
      ]
     },
     "execution_count": 19,
     "metadata": {},
     "output_type": "execute_result"
    }
   ],
   "source": [
    "df_filtered = df[['title', 'genre']]\n",
    "df_filtered.head()"
   ]
  },
  {
   "cell_type": "code",
   "execution_count": 20,
   "metadata": {},
   "outputs": [
    {
     "data": {
      "text/html": [
       "<div>\n",
       "<style scoped>\n",
       "    .dataframe tbody tr th:only-of-type {\n",
       "        vertical-align: middle;\n",
       "    }\n",
       "\n",
       "    .dataframe tbody tr th {\n",
       "        vertical-align: top;\n",
       "    }\n",
       "\n",
       "    .dataframe thead th {\n",
       "        text-align: right;\n",
       "    }\n",
       "</style>\n",
       "<table border=\"1\" class=\"dataframe\">\n",
       "  <thead>\n",
       "    <tr style=\"text-align: right;\">\n",
       "      <th></th>\n",
       "      <th>source</th>\n",
       "      <th>target</th>\n",
       "    </tr>\n",
       "  </thead>\n",
       "  <tbody>\n",
       "    <tr>\n",
       "      <th>0</th>\n",
       "      <td>Inception</td>\n",
       "      <td>Action</td>\n",
       "    </tr>\n",
       "    <tr>\n",
       "      <th>1</th>\n",
       "      <td>Inception</td>\n",
       "      <td>Science Fiction</td>\n",
       "    </tr>\n",
       "    <tr>\n",
       "      <th>2</th>\n",
       "      <td>Inception</td>\n",
       "      <td>Adventure</td>\n",
       "    </tr>\n",
       "    <tr>\n",
       "      <th>3</th>\n",
       "      <td>Inception</td>\n",
       "      <td>Action</td>\n",
       "    </tr>\n",
       "    <tr>\n",
       "      <th>4</th>\n",
       "      <td>Inception</td>\n",
       "      <td>Science Fiction</td>\n",
       "    </tr>\n",
       "  </tbody>\n",
       "</table>\n",
       "</div>"
      ],
      "text/plain": [
       "      source           target\n",
       "0  Inception           Action\n",
       "1  Inception  Science Fiction\n",
       "2  Inception        Adventure\n",
       "3  Inception           Action\n",
       "4  Inception  Science Fiction"
      ]
     },
     "execution_count": 20,
     "metadata": {},
     "output_type": "execute_result"
    }
   ],
   "source": [
    "df_filtered.rename(columns={'title': 'source', 'genre': 'target'}, inplace=True)\n",
    "df_filtered.head()"
   ]
  },
  {
   "cell_type": "markdown",
   "metadata": {},
   "source": [
    "### JSON Conversion Function"
   ]
  },
  {
   "cell_type": "code",
   "execution_count": 21,
   "metadata": {},
   "outputs": [],
   "source": [
    "def row_to_json(row):\n",
    "    return row.to_dict()"
   ]
  },
  {
   "cell_type": "code",
   "execution_count": null,
   "metadata": {},
   "outputs": [
    {
     "data": {
      "application/vnd.jupyter.widget-view+json": {
       "model_id": "df27a64a7da04c74ad0389644f0d193f",
       "version_major": 2,
       "version_minor": 0
      },
      "text/plain": [
       "  0%|          | 0/43174834 [00:00<?, ?it/s]"
      ]
     },
     "metadata": {},
     "output_type": "display_data"
    },
    {
     "name": "stdout",
     "output_type": "stream",
     "text": [
      "{'id': 27205, 'title': 'Inception', 'vote_average': 8.364, 'vote_count': 34495, 'release_date': '2010-07-15', 'revenue': 825532764, 'runtime': 148, 'budget': 160000000, 'original_language': 'en', 'popularity': 83.952, 'production_companies': 'Legendary Pictures', 'production_countries': 'United Kingdom', 'keywords': 'rescue', 'overview_sentiment': -0.0111111111111111, 'actor_list': 'Leonardo DiCaprio', 'director': 'Christopher Nolan', 'genre': 'Action'}\n"
     ]
    }
   ],
   "source": [
    "json_data = df.progress_apply(row_to_json, axis=1).tolist()\n",
    "print(json_data[0])"
   ]
  },
  {
   "cell_type": "code",
   "execution_count": 16,
   "metadata": {},
   "outputs": [
    {
     "data": {
      "application/vnd.jupyter.widget-view+json": {
       "model_id": "3bdeb10621c84634b11a3851c086187f",
       "version_major": 2,
       "version_minor": 0
      },
      "text/plain": [
       "  0%|          | 0/12173 [00:00<?, ?it/s]"
      ]
     },
     "metadata": {},
     "output_type": "display_data"
    },
    {
     "name": "stdout",
     "output_type": "stream",
     "text": [
      "{'id': 27205, 'title': 'Inception', 'vote_average': 8.364, 'vote_count': 34495, 'release_date': '2010-07-15', 'revenue': 825532764, 'runtime': 148, 'budget': 160000000, 'original_language': 'en', 'popularity': 83.952, 'production_companies': \"['Legendary Pictures', 'Syncopy', 'Warner Bros. Pictures']\", 'production_countries': \"['United Kingdom', 'United States of America']\", 'keywords': \"['rescue', 'mission', 'dream', 'airplane', 'paris', 'france', 'virtual reality', 'kidnapping', 'philosophy', 'spy', 'allegory', 'manipulation', 'car crash', 'heist', 'memory', 'architecture', 'los angeles', 'california', 'dream world', 'subconscious']\", 'overview_sentiment': -0.0111111111111111, 'actor_list': \"['Leonardo DiCaprio', 'Joseph Gordon-Levitt', 'Elliot Page', 'Ken Watanabe', 'Tim Kelleher', 'Silvie Laguna', 'Natasha Beaumont', 'Kraig Thornber', 'Jack Murray', 'Adam Cole', 'Claire Geare', 'Marion Cotillard', 'Magnus Nolan', 'Tai-Li Lee', 'Shannon Welles', 'Taylor Geare', 'Tom Berenger', 'Coralie Dedykere', 'Carl Gilliard', 'Miranda Nolan', 'Earl Cameron', 'Yuji Okumoto', 'Helena Cullinan', 'Nicolas Clerc', 'Andrew Pleavin', 'Alex Lombard', 'Mark Fleischmann', 'Michael Gaston', 'Marc Raducci', 'Jack Gilroy', 'Nicole Pulliam', 'Shelley Lang', 'Lukas Haas', 'Russ Fega', 'Felix Scott', 'Ryan Hayward', 'Cillian Murphy', 'Dileep Rao', 'Jill Maddrell', 'Jean-Michel Dagory', 'Jason Tendell', 'Virgile Bramly', 'Tom Hardy', 'Tohoru Masamune', 'Michael Caine', 'Talulah Riley', 'Angela Nathenson', 'Lisa Reynolds', 'Peter Basham', 'Daniel Girondeaud', 'Johnathan Geare', 'Pete Postlethwaite']\", 'director': \"['Christopher Nolan']\", 'genre': \"['Action', 'Science Fiction', 'Adventure']\"}\n"
     ]
    }
   ],
   "source": [
    "json_data2 = df2.progress_apply(row_to_json, axis=1).tolist()\n",
    "print(json_data2[0])"
   ]
  },
  {
   "cell_type": "code",
   "execution_count": 22,
   "metadata": {},
   "outputs": [
    {
     "data": {
      "application/vnd.jupyter.widget-view+json": {
       "model_id": "ad290b26dfe24655ac2ea6aa6a71a2ad",
       "version_major": 2,
       "version_minor": 0
      },
      "text/plain": [
       "  0%|          | 0/43174834 [00:00<?, ?it/s]"
      ]
     },
     "metadata": {},
     "output_type": "display_data"
    },
    {
     "name": "stdout",
     "output_type": "stream",
     "text": [
      "{'source': 'Inception', 'target': 'Action'}\n"
     ]
    }
   ],
   "source": [
    "json_data_filtered = df_filtered.progress_apply(row_to_json, axis=1).tolist()\n",
    "print(json_data_filtered[0])"
   ]
  },
  {
   "cell_type": "markdown",
   "metadata": {},
   "source": [
    "### Export Data"
   ]
  },
  {
   "cell_type": "code",
   "execution_count": null,
   "metadata": {},
   "outputs": [],
   "source": [
    "with open('../data/imdb_data_exploded.json', 'w') as json_file:\n",
    "    json.dump(json_data, json_file)"
   ]
  },
  {
   "cell_type": "code",
   "execution_count": 18,
   "metadata": {},
   "outputs": [],
   "source": [
    "with open('../data/imdb_data_unexploded.json', 'w') as json_file:\n",
    "    json.dump(json_data2, json_file)"
   ]
  },
  {
   "cell_type": "code",
   "execution_count": 23,
   "metadata": {},
   "outputs": [],
   "source": [
    "# Export json_data to a JSON file\n",
    "with open('../data/imdb_data_exploded_filtered.json', 'w') as json_file:\n",
    "    json.dump(json_data_filtered, json_file)"
   ]
  }
 ],
 "metadata": {
  "kernelspec": {
   "display_name": "conda_env",
   "language": "python",
   "name": "python3"
  },
  "language_info": {
   "codemirror_mode": {
    "name": "ipython",
    "version": 3
   },
   "file_extension": ".py",
   "mimetype": "text/x-python",
   "name": "python",
   "nbconvert_exporter": "python",
   "pygments_lexer": "ipython3",
   "version": "3.11.10"
  }
 },
 "nbformat": 4,
 "nbformat_minor": 2
}
