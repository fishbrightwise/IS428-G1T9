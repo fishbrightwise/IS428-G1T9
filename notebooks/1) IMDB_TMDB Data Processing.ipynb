{
 "cells": [
  {
   "cell_type": "markdown",
   "metadata": {},
   "source": [
    "## IMDB TMDB Movie Dataset Data Processing"
   ]
  },
  {
   "cell_type": "markdown",
   "metadata": {},
   "source": [
    "### Import Libraries"
   ]
  },
  {
   "cell_type": "code",
   "execution_count": 2,
   "metadata": {},
   "outputs": [],
   "source": [
    "import pandas as pd\n",
    "import numpy as np\n",
    "import matplotlib.pyplot as plt\n",
    "import seaborn as sns\n",
    "import plotly\n",
    "import plotly.express as px\n",
    "import plotly.graph_objects as go\n",
    "import tensorflow as tf\n",
    "from tensorflow import keras\n",
    "from vaderSentiment.vaderSentiment import SentimentIntensityAnalyzer\n",
    "import ast\n",
    "import datetime\n",
    "import sklearn\n",
    "import scipy\n",
    "import warnings\n",
    "from tqdm.notebook import tqdm\n",
    "warnings.filterwarnings('ignore')\n",
    "tqdm.pandas()"
   ]
  },
  {
   "cell_type": "code",
   "execution_count": 3,
   "metadata": {},
   "outputs": [
    {
     "data": {
      "text/html": [
       "<style>\n",
       ".cell-output-ipywidget-background {\n",
       "    background-color: transparent !important;\n",
       "}\n",
       ":root {\n",
       "    --jp-widgets-color: var(--vscode-editor-foreground);\n",
       "    --jp-widgets-font-size: var(--vscode-editor-font-size);\n",
       "}  \n"
      ],
      "text/plain": [
       "<IPython.core.display.HTML object>"
      ]
     },
     "metadata": {},
     "output_type": "display_data"
    }
   ],
   "source": [
    "%%html\n",
    "<style>\n",
    ".cell-output-ipywidget-background {\n",
    "    background-color: transparent !important;\n",
    "}\n",
    ":root {\n",
    "    --jp-widgets-color: var(--vscode-editor-foreground);\n",
    "    --jp-widgets-font-size: var(--vscode-editor-font-size);\n",
    "}  "
   ]
  },
  {
   "cell_type": "code",
   "execution_count": 4,
   "metadata": {},
   "outputs": [
    {
     "data": {
      "text/html": [
       "<div>\n",
       "<style scoped>\n",
       "    .dataframe tbody tr th:only-of-type {\n",
       "        vertical-align: middle;\n",
       "    }\n",
       "\n",
       "    .dataframe tbody tr th {\n",
       "        vertical-align: top;\n",
       "    }\n",
       "\n",
       "    .dataframe thead th {\n",
       "        text-align: right;\n",
       "    }\n",
       "</style>\n",
       "<table border=\"1\" class=\"dataframe\">\n",
       "  <thead>\n",
       "    <tr style=\"text-align: right;\">\n",
       "      <th></th>\n",
       "      <th>id</th>\n",
       "      <th>title</th>\n",
       "      <th>vote_average</th>\n",
       "      <th>vote_count</th>\n",
       "      <th>status</th>\n",
       "      <th>release_date</th>\n",
       "      <th>revenue</th>\n",
       "      <th>runtime</th>\n",
       "      <th>adult</th>\n",
       "      <th>backdrop_path</th>\n",
       "      <th>...</th>\n",
       "      <th>Star3</th>\n",
       "      <th>Star4</th>\n",
       "      <th>Writer</th>\n",
       "      <th>Director_of_Photography</th>\n",
       "      <th>Producers</th>\n",
       "      <th>Music_Composer</th>\n",
       "      <th>genres_list</th>\n",
       "      <th>Cast_list</th>\n",
       "      <th>overview_sentiment</th>\n",
       "      <th>all_combined_keywords</th>\n",
       "    </tr>\n",
       "  </thead>\n",
       "  <tbody>\n",
       "    <tr>\n",
       "      <th>0</th>\n",
       "      <td>27205</td>\n",
       "      <td>Inception</td>\n",
       "      <td>8.364</td>\n",
       "      <td>34495</td>\n",
       "      <td>Released</td>\n",
       "      <td>2010-07-15</td>\n",
       "      <td>825532764</td>\n",
       "      <td>148</td>\n",
       "      <td>False</td>\n",
       "      <td>/8ZTVqvKDQ8emSGUEMjsS4yHAwrp.jpg</td>\n",
       "      <td>...</td>\n",
       "      <td>Elliot Page</td>\n",
       "      <td>Ken Watanabe</td>\n",
       "      <td>Christopher Nolan</td>\n",
       "      <td>Wally Pfister</td>\n",
       "      <td>Thomas Tull, Christopher Nolan, Chris Brigham,...</td>\n",
       "      <td>Hans Zimmer</td>\n",
       "      <td>['Action', 'Science Fiction', 'Adventure']</td>\n",
       "      <td>['Tim Kelleher', 'Silvie Laguna', 'Natasha Bea...</td>\n",
       "      <td>-0.011111</td>\n",
       "      <td>['s', 'philosophy', 'skilled', 'kidnapping', '...</td>\n",
       "    </tr>\n",
       "    <tr>\n",
       "      <th>1</th>\n",
       "      <td>157336</td>\n",
       "      <td>Interstellar</td>\n",
       "      <td>8.417</td>\n",
       "      <td>32571</td>\n",
       "      <td>Released</td>\n",
       "      <td>2014-11-05</td>\n",
       "      <td>701729206</td>\n",
       "      <td>169</td>\n",
       "      <td>False</td>\n",
       "      <td>/pbrkL804c8yAv3zBZR4QPEafpAR.jpg</td>\n",
       "      <td>...</td>\n",
       "      <td>Jessica Chastain</td>\n",
       "      <td>Mackenzie Foy</td>\n",
       "      <td>Jonathan Nolan</td>\n",
       "      <td>Hoyte van Hoytema</td>\n",
       "      <td>Jake Myers, Emma Thomas, Jordan Goldberg, Thom...</td>\n",
       "      <td>Hans Zimmer</td>\n",
       "      <td>['Adventure', 'Drama', 'Science Fiction']</td>\n",
       "      <td>['Jeff Hephner', 'William Devane', 'Elyes Gabe...</td>\n",
       "      <td>0.045455</td>\n",
       "      <td>['thoughtful', 'use', 'scientist', 'quantum me...</td>\n",
       "    </tr>\n",
       "    <tr>\n",
       "      <th>2</th>\n",
       "      <td>155</td>\n",
       "      <td>The Dark Knight</td>\n",
       "      <td>8.512</td>\n",
       "      <td>30619</td>\n",
       "      <td>Released</td>\n",
       "      <td>2008-07-16</td>\n",
       "      <td>1004558444</td>\n",
       "      <td>152</td>\n",
       "      <td>False</td>\n",
       "      <td>/nMKdUUepR0i5zn0y1T4CsSB5chy.jpg</td>\n",
       "      <td>...</td>\n",
       "      <td>Aaron Eckhart</td>\n",
       "      <td>Michael Caine</td>\n",
       "      <td>Jonathan Nolan</td>\n",
       "      <td>Wally Pfister</td>\n",
       "      <td>Kevin De La Noy, Thomas Tull, Christopher Nola...</td>\n",
       "      <td>Hans Zimmer, James Newton Howard</td>\n",
       "      <td>['Drama', 'Action', 'Crime', 'Thriller']</td>\n",
       "      <td>['Tommy Lister Jr.', 'Edison Chen', 'Beatrice ...</td>\n",
       "      <td>0.025000</td>\n",
       "      <td>['reign', 'harvey', 'proves', 'partnership', '...</td>\n",
       "    </tr>\n",
       "    <tr>\n",
       "      <th>3</th>\n",
       "      <td>19995</td>\n",
       "      <td>Avatar</td>\n",
       "      <td>7.573</td>\n",
       "      <td>29815</td>\n",
       "      <td>Released</td>\n",
       "      <td>2009-12-15</td>\n",
       "      <td>2923706026</td>\n",
       "      <td>162</td>\n",
       "      <td>False</td>\n",
       "      <td>/vL5LR6WdxWPjLPFRLe133jXWsh5.jpg</td>\n",
       "      <td>...</td>\n",
       "      <td>Sigourney Weaver</td>\n",
       "      <td>Michelle Rodriguez</td>\n",
       "      <td>James Cameron</td>\n",
       "      <td>Mauro Fiore</td>\n",
       "      <td>Jon Landau, Colin Wilson, Laeta Kalogridis, Ja...</td>\n",
       "      <td>James Horner</td>\n",
       "      <td>['Action', 'Adventure', 'Fantasy', 'Science Fi...</td>\n",
       "      <td>['Carvon Futrell', 'Joel David Moore', 'Jon Cu...</td>\n",
       "      <td>0.041667</td>\n",
       "      <td>['space war', 'civilization', 'society', 'mari...</td>\n",
       "    </tr>\n",
       "    <tr>\n",
       "      <th>4</th>\n",
       "      <td>24428</td>\n",
       "      <td>The Avengers</td>\n",
       "      <td>7.710</td>\n",
       "      <td>29166</td>\n",
       "      <td>Released</td>\n",
       "      <td>2012-04-25</td>\n",
       "      <td>1518815515</td>\n",
       "      <td>143</td>\n",
       "      <td>False</td>\n",
       "      <td>/9BBTo63ANSmhC4e6r62OJFuK2GL.jpg</td>\n",
       "      <td>...</td>\n",
       "      <td>Scarlett Johansson</td>\n",
       "      <td>Jeremy Renner</td>\n",
       "      <td>Sydney Newman</td>\n",
       "      <td>NaN</td>\n",
       "      <td>NaN</td>\n",
       "      <td>NaN</td>\n",
       "      <td>['Science Fiction', 'Action', 'Adventure']</td>\n",
       "      <td>['Haneyuri', 'Nako Mizusawa', 'Marin', 'Rikako...</td>\n",
       "      <td>0.025000</td>\n",
       "      <td>['s', 'world', 'begins', 'e', 'global safety',...</td>\n",
       "    </tr>\n",
       "  </tbody>\n",
       "</table>\n",
       "<p>5 rows × 42 columns</p>\n",
       "</div>"
      ],
      "text/plain": [
       "       id            title  vote_average  vote_count    status release_date  \\\n",
       "0   27205        Inception         8.364       34495  Released   2010-07-15   \n",
       "1  157336     Interstellar         8.417       32571  Released   2014-11-05   \n",
       "2     155  The Dark Knight         8.512       30619  Released   2008-07-16   \n",
       "3   19995           Avatar         7.573       29815  Released   2009-12-15   \n",
       "4   24428     The Avengers         7.710       29166  Released   2012-04-25   \n",
       "\n",
       "      revenue  runtime  adult                     backdrop_path  ...  \\\n",
       "0   825532764      148  False  /8ZTVqvKDQ8emSGUEMjsS4yHAwrp.jpg  ...   \n",
       "1   701729206      169  False  /pbrkL804c8yAv3zBZR4QPEafpAR.jpg  ...   \n",
       "2  1004558444      152  False  /nMKdUUepR0i5zn0y1T4CsSB5chy.jpg  ...   \n",
       "3  2923706026      162  False  /vL5LR6WdxWPjLPFRLe133jXWsh5.jpg  ...   \n",
       "4  1518815515      143  False  /9BBTo63ANSmhC4e6r62OJFuK2GL.jpg  ...   \n",
       "\n",
       "                Star3               Star4             Writer  \\\n",
       "0         Elliot Page        Ken Watanabe  Christopher Nolan   \n",
       "1    Jessica Chastain       Mackenzie Foy     Jonathan Nolan   \n",
       "2       Aaron Eckhart       Michael Caine     Jonathan Nolan   \n",
       "3    Sigourney Weaver  Michelle Rodriguez      James Cameron   \n",
       "4  Scarlett Johansson       Jeremy Renner      Sydney Newman   \n",
       "\n",
       "  Director_of_Photography                                          Producers  \\\n",
       "0           Wally Pfister  Thomas Tull, Christopher Nolan, Chris Brigham,...   \n",
       "1       Hoyte van Hoytema  Jake Myers, Emma Thomas, Jordan Goldberg, Thom...   \n",
       "2           Wally Pfister  Kevin De La Noy, Thomas Tull, Christopher Nola...   \n",
       "3             Mauro Fiore  Jon Landau, Colin Wilson, Laeta Kalogridis, Ja...   \n",
       "4                     NaN                                                NaN   \n",
       "\n",
       "                     Music_Composer  \\\n",
       "0                       Hans Zimmer   \n",
       "1                       Hans Zimmer   \n",
       "2  Hans Zimmer, James Newton Howard   \n",
       "3                      James Horner   \n",
       "4                               NaN   \n",
       "\n",
       "                                         genres_list  \\\n",
       "0         ['Action', 'Science Fiction', 'Adventure']   \n",
       "1          ['Adventure', 'Drama', 'Science Fiction']   \n",
       "2           ['Drama', 'Action', 'Crime', 'Thriller']   \n",
       "3  ['Action', 'Adventure', 'Fantasy', 'Science Fi...   \n",
       "4         ['Science Fiction', 'Action', 'Adventure']   \n",
       "\n",
       "                                           Cast_list overview_sentiment  \\\n",
       "0  ['Tim Kelleher', 'Silvie Laguna', 'Natasha Bea...          -0.011111   \n",
       "1  ['Jeff Hephner', 'William Devane', 'Elyes Gabe...           0.045455   \n",
       "2  ['Tommy Lister Jr.', 'Edison Chen', 'Beatrice ...           0.025000   \n",
       "3  ['Carvon Futrell', 'Joel David Moore', 'Jon Cu...           0.041667   \n",
       "4  ['Haneyuri', 'Nako Mizusawa', 'Marin', 'Rikako...           0.025000   \n",
       "\n",
       "                               all_combined_keywords  \n",
       "0  ['s', 'philosophy', 'skilled', 'kidnapping', '...  \n",
       "1  ['thoughtful', 'use', 'scientist', 'quantum me...  \n",
       "2  ['reign', 'harvey', 'proves', 'partnership', '...  \n",
       "3  ['space war', 'civilization', 'society', 'mari...  \n",
       "4  ['s', 'world', 'begins', 'e', 'global safety',...  \n",
       "\n",
       "[5 rows x 42 columns]"
      ]
     },
     "execution_count": 4,
     "metadata": {},
     "output_type": "execute_result"
    }
   ],
   "source": [
    "df  = pd.DataFrame(pd.read_csv('../data/IMDB TMDB Movie Metadata Big Dataset (1M).csv'))\n",
    "df.head()"
   ]
  },
  {
   "cell_type": "code",
   "execution_count": 5,
   "metadata": {},
   "outputs": [
    {
     "data": {
      "text/plain": [
       "(1072255, 42)"
      ]
     },
     "execution_count": 5,
     "metadata": {},
     "output_type": "execute_result"
    }
   ],
   "source": [
    "df.shape"
   ]
  },
  {
   "cell_type": "code",
   "execution_count": 6,
   "metadata": {},
   "outputs": [
    {
     "data": {
      "text/html": [
       "<div>\n",
       "<style scoped>\n",
       "    .dataframe tbody tr th:only-of-type {\n",
       "        vertical-align: middle;\n",
       "    }\n",
       "\n",
       "    .dataframe tbody tr th {\n",
       "        vertical-align: top;\n",
       "    }\n",
       "\n",
       "    .dataframe thead th {\n",
       "        text-align: right;\n",
       "    }\n",
       "</style>\n",
       "<table border=\"1\" class=\"dataframe\">\n",
       "  <thead>\n",
       "    <tr style=\"text-align: right;\">\n",
       "      <th></th>\n",
       "      <th>id</th>\n",
       "      <th>title</th>\n",
       "      <th>vote_average</th>\n",
       "      <th>vote_count</th>\n",
       "      <th>status</th>\n",
       "      <th>release_date</th>\n",
       "      <th>revenue</th>\n",
       "      <th>runtime</th>\n",
       "      <th>adult</th>\n",
       "      <th>backdrop_path</th>\n",
       "      <th>budget</th>\n",
       "      <th>homepage</th>\n",
       "      <th>imdb_id</th>\n",
       "      <th>original_language</th>\n",
       "      <th>original_title</th>\n",
       "      <th>overview</th>\n",
       "      <th>popularity</th>\n",
       "      <th>poster_path</th>\n",
       "      <th>tagline</th>\n",
       "      <th>production_companies</th>\n",
       "    </tr>\n",
       "  </thead>\n",
       "  <tbody>\n",
       "    <tr>\n",
       "      <th>0</th>\n",
       "      <td>27205</td>\n",
       "      <td>Inception</td>\n",
       "      <td>8.364</td>\n",
       "      <td>34495</td>\n",
       "      <td>Released</td>\n",
       "      <td>2010-07-15</td>\n",
       "      <td>825532764</td>\n",
       "      <td>148</td>\n",
       "      <td>False</td>\n",
       "      <td>/8ZTVqvKDQ8emSGUEMjsS4yHAwrp.jpg</td>\n",
       "      <td>160000000</td>\n",
       "      <td>https://www.warnerbros.com/movies/inception</td>\n",
       "      <td>tt1375666</td>\n",
       "      <td>en</td>\n",
       "      <td>Inception</td>\n",
       "      <td>Cobb, a skilled thief who commits corporate es...</td>\n",
       "      <td>83.952</td>\n",
       "      <td>/oYuLEt3zVCKq57qu2F8dT7NIa6f.jpg</td>\n",
       "      <td>Your mind is the scene of the crime.</td>\n",
       "      <td>Legendary Pictures, Syncopy, Warner Bros. Pict...</td>\n",
       "    </tr>\n",
       "    <tr>\n",
       "      <th>1</th>\n",
       "      <td>157336</td>\n",
       "      <td>Interstellar</td>\n",
       "      <td>8.417</td>\n",
       "      <td>32571</td>\n",
       "      <td>Released</td>\n",
       "      <td>2014-11-05</td>\n",
       "      <td>701729206</td>\n",
       "      <td>169</td>\n",
       "      <td>False</td>\n",
       "      <td>/pbrkL804c8yAv3zBZR4QPEafpAR.jpg</td>\n",
       "      <td>165000000</td>\n",
       "      <td>http://www.interstellarmovie.net/</td>\n",
       "      <td>tt0816692</td>\n",
       "      <td>en</td>\n",
       "      <td>Interstellar</td>\n",
       "      <td>The adventures of a group of explorers who mak...</td>\n",
       "      <td>140.241</td>\n",
       "      <td>/gEU2QniE6E77NI6lCU6MxlNBvIx.jpg</td>\n",
       "      <td>Mankind was born on Earth. It was never meant ...</td>\n",
       "      <td>Legendary Pictures, Syncopy, Lynda Obst Produc...</td>\n",
       "    </tr>\n",
       "    <tr>\n",
       "      <th>2</th>\n",
       "      <td>155</td>\n",
       "      <td>The Dark Knight</td>\n",
       "      <td>8.512</td>\n",
       "      <td>30619</td>\n",
       "      <td>Released</td>\n",
       "      <td>2008-07-16</td>\n",
       "      <td>1004558444</td>\n",
       "      <td>152</td>\n",
       "      <td>False</td>\n",
       "      <td>/nMKdUUepR0i5zn0y1T4CsSB5chy.jpg</td>\n",
       "      <td>185000000</td>\n",
       "      <td>https://www.warnerbros.com/movies/dark-knight/</td>\n",
       "      <td>tt0468569</td>\n",
       "      <td>en</td>\n",
       "      <td>The Dark Knight</td>\n",
       "      <td>Batman raises the stakes in his war on crime. ...</td>\n",
       "      <td>130.643</td>\n",
       "      <td>/qJ2tW6WMUDux911r6m7haRef0WH.jpg</td>\n",
       "      <td>Welcome to a world without rules.</td>\n",
       "      <td>DC Comics, Legendary Pictures, Syncopy, Isobel...</td>\n",
       "    </tr>\n",
       "    <tr>\n",
       "      <th>3</th>\n",
       "      <td>19995</td>\n",
       "      <td>Avatar</td>\n",
       "      <td>7.573</td>\n",
       "      <td>29815</td>\n",
       "      <td>Released</td>\n",
       "      <td>2009-12-15</td>\n",
       "      <td>2923706026</td>\n",
       "      <td>162</td>\n",
       "      <td>False</td>\n",
       "      <td>/vL5LR6WdxWPjLPFRLe133jXWsh5.jpg</td>\n",
       "      <td>237000000</td>\n",
       "      <td>https://www.avatar.com/movies/avatar</td>\n",
       "      <td>tt0499549</td>\n",
       "      <td>en</td>\n",
       "      <td>Avatar</td>\n",
       "      <td>In the 22nd century, a paraplegic Marine is di...</td>\n",
       "      <td>79.932</td>\n",
       "      <td>/kyeqWdyUXW608qlYkRqosgbbJyK.jpg</td>\n",
       "      <td>Enter the world of Pandora.</td>\n",
       "      <td>Dune Entertainment, Lightstorm Entertainment, ...</td>\n",
       "    </tr>\n",
       "    <tr>\n",
       "      <th>4</th>\n",
       "      <td>24428</td>\n",
       "      <td>The Avengers</td>\n",
       "      <td>7.710</td>\n",
       "      <td>29166</td>\n",
       "      <td>Released</td>\n",
       "      <td>2012-04-25</td>\n",
       "      <td>1518815515</td>\n",
       "      <td>143</td>\n",
       "      <td>False</td>\n",
       "      <td>/9BBTo63ANSmhC4e6r62OJFuK2GL.jpg</td>\n",
       "      <td>220000000</td>\n",
       "      <td>https://www.marvel.com/movies/the-avengers</td>\n",
       "      <td>tt0848228</td>\n",
       "      <td>en</td>\n",
       "      <td>The Avengers</td>\n",
       "      <td>When an unexpected enemy emerges and threatens...</td>\n",
       "      <td>98.082</td>\n",
       "      <td>/RYMX2wcKCBAr24UyPD7xwmjaTn.jpg</td>\n",
       "      <td>Some assembly required.</td>\n",
       "      <td>Marvel Studios</td>\n",
       "    </tr>\n",
       "  </tbody>\n",
       "</table>\n",
       "</div>"
      ],
      "text/plain": [
       "       id            title  vote_average  vote_count    status release_date  \\\n",
       "0   27205        Inception         8.364       34495  Released   2010-07-15   \n",
       "1  157336     Interstellar         8.417       32571  Released   2014-11-05   \n",
       "2     155  The Dark Knight         8.512       30619  Released   2008-07-16   \n",
       "3   19995           Avatar         7.573       29815  Released   2009-12-15   \n",
       "4   24428     The Avengers         7.710       29166  Released   2012-04-25   \n",
       "\n",
       "      revenue  runtime  adult                     backdrop_path     budget  \\\n",
       "0   825532764      148  False  /8ZTVqvKDQ8emSGUEMjsS4yHAwrp.jpg  160000000   \n",
       "1   701729206      169  False  /pbrkL804c8yAv3zBZR4QPEafpAR.jpg  165000000   \n",
       "2  1004558444      152  False  /nMKdUUepR0i5zn0y1T4CsSB5chy.jpg  185000000   \n",
       "3  2923706026      162  False  /vL5LR6WdxWPjLPFRLe133jXWsh5.jpg  237000000   \n",
       "4  1518815515      143  False  /9BBTo63ANSmhC4e6r62OJFuK2GL.jpg  220000000   \n",
       "\n",
       "                                         homepage    imdb_id  \\\n",
       "0     https://www.warnerbros.com/movies/inception  tt1375666   \n",
       "1               http://www.interstellarmovie.net/  tt0816692   \n",
       "2  https://www.warnerbros.com/movies/dark-knight/  tt0468569   \n",
       "3            https://www.avatar.com/movies/avatar  tt0499549   \n",
       "4      https://www.marvel.com/movies/the-avengers  tt0848228   \n",
       "\n",
       "  original_language   original_title  \\\n",
       "0                en        Inception   \n",
       "1                en     Interstellar   \n",
       "2                en  The Dark Knight   \n",
       "3                en           Avatar   \n",
       "4                en     The Avengers   \n",
       "\n",
       "                                            overview  popularity  \\\n",
       "0  Cobb, a skilled thief who commits corporate es...      83.952   \n",
       "1  The adventures of a group of explorers who mak...     140.241   \n",
       "2  Batman raises the stakes in his war on crime. ...     130.643   \n",
       "3  In the 22nd century, a paraplegic Marine is di...      79.932   \n",
       "4  When an unexpected enemy emerges and threatens...      98.082   \n",
       "\n",
       "                        poster_path  \\\n",
       "0  /oYuLEt3zVCKq57qu2F8dT7NIa6f.jpg   \n",
       "1  /gEU2QniE6E77NI6lCU6MxlNBvIx.jpg   \n",
       "2  /qJ2tW6WMUDux911r6m7haRef0WH.jpg   \n",
       "3  /kyeqWdyUXW608qlYkRqosgbbJyK.jpg   \n",
       "4   /RYMX2wcKCBAr24UyPD7xwmjaTn.jpg   \n",
       "\n",
       "                                             tagline  \\\n",
       "0               Your mind is the scene of the crime.   \n",
       "1  Mankind was born on Earth. It was never meant ...   \n",
       "2                  Welcome to a world without rules.   \n",
       "3                        Enter the world of Pandora.   \n",
       "4                            Some assembly required.   \n",
       "\n",
       "                                production_companies  \n",
       "0  Legendary Pictures, Syncopy, Warner Bros. Pict...  \n",
       "1  Legendary Pictures, Syncopy, Lynda Obst Produc...  \n",
       "2  DC Comics, Legendary Pictures, Syncopy, Isobel...  \n",
       "3  Dune Entertainment, Lightstorm Entertainment, ...  \n",
       "4                                     Marvel Studios  "
      ]
     },
     "execution_count": 6,
     "metadata": {},
     "output_type": "execute_result"
    }
   ],
   "source": [
    "df.iloc[:,:20].head()"
   ]
  },
  {
   "cell_type": "code",
   "execution_count": 7,
   "metadata": {},
   "outputs": [
    {
     "data": {
      "text/html": [
       "<div>\n",
       "<style scoped>\n",
       "    .dataframe tbody tr th:only-of-type {\n",
       "        vertical-align: middle;\n",
       "    }\n",
       "\n",
       "    .dataframe tbody tr th {\n",
       "        vertical-align: top;\n",
       "    }\n",
       "\n",
       "    .dataframe thead th {\n",
       "        text-align: right;\n",
       "    }\n",
       "</style>\n",
       "<table border=\"1\" class=\"dataframe\">\n",
       "  <thead>\n",
       "    <tr style=\"text-align: right;\">\n",
       "      <th></th>\n",
       "      <th>production_countries</th>\n",
       "      <th>spoken_languages</th>\n",
       "      <th>keywords</th>\n",
       "      <th>release_year</th>\n",
       "      <th>Director</th>\n",
       "      <th>AverageRating</th>\n",
       "      <th>Poster_Link</th>\n",
       "      <th>Certificate</th>\n",
       "      <th>IMDB_Rating</th>\n",
       "      <th>Meta_score</th>\n",
       "      <th>Star1</th>\n",
       "      <th>Star2</th>\n",
       "      <th>Star3</th>\n",
       "      <th>Star4</th>\n",
       "      <th>Writer</th>\n",
       "      <th>Director_of_Photography</th>\n",
       "      <th>Producers</th>\n",
       "      <th>Music_Composer</th>\n",
       "      <th>genres_list</th>\n",
       "      <th>Cast_list</th>\n",
       "    </tr>\n",
       "  </thead>\n",
       "  <tbody>\n",
       "    <tr>\n",
       "      <th>0</th>\n",
       "      <td>United Kingdom, United States of America</td>\n",
       "      <td>English, French, Japanese, Swahili</td>\n",
       "      <td>['rescue', 'mission', 'dream', 'airplane', 'pa...</td>\n",
       "      <td>2010.0</td>\n",
       "      <td>Christopher Nolan</td>\n",
       "      <td>8.8</td>\n",
       "      <td>https://m.media-amazon.com/images/M/MV5BMjAxMz...</td>\n",
       "      <td>UA</td>\n",
       "      <td>8.8</td>\n",
       "      <td>74.0</td>\n",
       "      <td>Leonardo DiCaprio</td>\n",
       "      <td>Joseph Gordon-Levitt</td>\n",
       "      <td>Elliot Page</td>\n",
       "      <td>Ken Watanabe</td>\n",
       "      <td>Christopher Nolan</td>\n",
       "      <td>Wally Pfister</td>\n",
       "      <td>Thomas Tull, Christopher Nolan, Chris Brigham,...</td>\n",
       "      <td>Hans Zimmer</td>\n",
       "      <td>['Action', 'Science Fiction', 'Adventure']</td>\n",
       "      <td>['Tim Kelleher', 'Silvie Laguna', 'Natasha Bea...</td>\n",
       "    </tr>\n",
       "    <tr>\n",
       "      <th>1</th>\n",
       "      <td>United Kingdom, United States of America</td>\n",
       "      <td>English</td>\n",
       "      <td>['rescue', 'future', 'spacecraft', 'race again...</td>\n",
       "      <td>2014.0</td>\n",
       "      <td>Christopher Nolan</td>\n",
       "      <td>8.7</td>\n",
       "      <td>https://m.media-amazon.com/images/M/MV5BZjdkOT...</td>\n",
       "      <td>UA</td>\n",
       "      <td>8.6</td>\n",
       "      <td>74.0</td>\n",
       "      <td>Matthew McConaughey</td>\n",
       "      <td>Anne Hathaway</td>\n",
       "      <td>Jessica Chastain</td>\n",
       "      <td>Mackenzie Foy</td>\n",
       "      <td>Jonathan Nolan</td>\n",
       "      <td>Hoyte van Hoytema</td>\n",
       "      <td>Jake Myers, Emma Thomas, Jordan Goldberg, Thom...</td>\n",
       "      <td>Hans Zimmer</td>\n",
       "      <td>['Adventure', 'Drama', 'Science Fiction']</td>\n",
       "      <td>['Jeff Hephner', 'William Devane', 'Elyes Gabe...</td>\n",
       "    </tr>\n",
       "    <tr>\n",
       "      <th>2</th>\n",
       "      <td>United Kingdom, United States of America</td>\n",
       "      <td>English, Mandarin</td>\n",
       "      <td>['joker', 'sadism', 'chaos', 'secret identity'...</td>\n",
       "      <td>2008.0</td>\n",
       "      <td>Christopher Nolan</td>\n",
       "      <td>9.0</td>\n",
       "      <td>https://m.media-amazon.com/images/M/MV5BMTMxNT...</td>\n",
       "      <td>UA</td>\n",
       "      <td>9.0</td>\n",
       "      <td>84.0</td>\n",
       "      <td>Christian Bale</td>\n",
       "      <td>Heath Ledger</td>\n",
       "      <td>Aaron Eckhart</td>\n",
       "      <td>Michael Caine</td>\n",
       "      <td>Jonathan Nolan</td>\n",
       "      <td>Wally Pfister</td>\n",
       "      <td>Kevin De La Noy, Thomas Tull, Christopher Nola...</td>\n",
       "      <td>Hans Zimmer, James Newton Howard</td>\n",
       "      <td>['Drama', 'Action', 'Crime', 'Thriller']</td>\n",
       "      <td>['Tommy Lister Jr.', 'Edison Chen', 'Beatrice ...</td>\n",
       "    </tr>\n",
       "    <tr>\n",
       "      <th>3</th>\n",
       "      <td>United States of America, United Kingdom</td>\n",
       "      <td>English, Spanish</td>\n",
       "      <td>['future', 'society', 'culture clash', 'space ...</td>\n",
       "      <td>2009.0</td>\n",
       "      <td>James Cameron</td>\n",
       "      <td>7.9</td>\n",
       "      <td>https://m.media-amazon.com/images/M/MV5BMTYwOT...</td>\n",
       "      <td>UA</td>\n",
       "      <td>7.8</td>\n",
       "      <td>83.0</td>\n",
       "      <td>Sam Worthington</td>\n",
       "      <td>Zoe Saldana</td>\n",
       "      <td>Sigourney Weaver</td>\n",
       "      <td>Michelle Rodriguez</td>\n",
       "      <td>James Cameron</td>\n",
       "      <td>Mauro Fiore</td>\n",
       "      <td>Jon Landau, Colin Wilson, Laeta Kalogridis, Ja...</td>\n",
       "      <td>James Horner</td>\n",
       "      <td>['Action', 'Adventure', 'Fantasy', 'Science Fi...</td>\n",
       "      <td>['Carvon Futrell', 'Joel David Moore', 'Jon Cu...</td>\n",
       "    </tr>\n",
       "    <tr>\n",
       "      <th>4</th>\n",
       "      <td>United States of America</td>\n",
       "      <td>English, Hindi, Russian</td>\n",
       "      <td>['new york city', 'superhero', 'shield', 'base...</td>\n",
       "      <td>2012.0</td>\n",
       "      <td>Joss Whedon</td>\n",
       "      <td>8.0</td>\n",
       "      <td>https://m.media-amazon.com/images/M/MV5BNDYxNj...</td>\n",
       "      <td>UA</td>\n",
       "      <td>8.0</td>\n",
       "      <td>69.0</td>\n",
       "      <td>Robert Downey Jr.</td>\n",
       "      <td>Chris Evans</td>\n",
       "      <td>Scarlett Johansson</td>\n",
       "      <td>Jeremy Renner</td>\n",
       "      <td>Sydney Newman</td>\n",
       "      <td>NaN</td>\n",
       "      <td>NaN</td>\n",
       "      <td>NaN</td>\n",
       "      <td>['Science Fiction', 'Action', 'Adventure']</td>\n",
       "      <td>['Haneyuri', 'Nako Mizusawa', 'Marin', 'Rikako...</td>\n",
       "    </tr>\n",
       "  </tbody>\n",
       "</table>\n",
       "</div>"
      ],
      "text/plain": [
       "                       production_countries  \\\n",
       "0  United Kingdom, United States of America   \n",
       "1  United Kingdom, United States of America   \n",
       "2  United Kingdom, United States of America   \n",
       "3  United States of America, United Kingdom   \n",
       "4                  United States of America   \n",
       "\n",
       "                     spoken_languages  \\\n",
       "0  English, French, Japanese, Swahili   \n",
       "1                             English   \n",
       "2                   English, Mandarin   \n",
       "3                    English, Spanish   \n",
       "4             English, Hindi, Russian   \n",
       "\n",
       "                                            keywords  release_year  \\\n",
       "0  ['rescue', 'mission', 'dream', 'airplane', 'pa...        2010.0   \n",
       "1  ['rescue', 'future', 'spacecraft', 'race again...        2014.0   \n",
       "2  ['joker', 'sadism', 'chaos', 'secret identity'...        2008.0   \n",
       "3  ['future', 'society', 'culture clash', 'space ...        2009.0   \n",
       "4  ['new york city', 'superhero', 'shield', 'base...        2012.0   \n",
       "\n",
       "            Director  AverageRating  \\\n",
       "0  Christopher Nolan            8.8   \n",
       "1  Christopher Nolan            8.7   \n",
       "2  Christopher Nolan            9.0   \n",
       "3      James Cameron            7.9   \n",
       "4        Joss Whedon            8.0   \n",
       "\n",
       "                                         Poster_Link Certificate  IMDB_Rating  \\\n",
       "0  https://m.media-amazon.com/images/M/MV5BMjAxMz...          UA          8.8   \n",
       "1  https://m.media-amazon.com/images/M/MV5BZjdkOT...          UA          8.6   \n",
       "2  https://m.media-amazon.com/images/M/MV5BMTMxNT...          UA          9.0   \n",
       "3  https://m.media-amazon.com/images/M/MV5BMTYwOT...          UA          7.8   \n",
       "4  https://m.media-amazon.com/images/M/MV5BNDYxNj...          UA          8.0   \n",
       "\n",
       "   Meta_score                Star1                 Star2               Star3  \\\n",
       "0        74.0    Leonardo DiCaprio  Joseph Gordon-Levitt         Elliot Page   \n",
       "1        74.0  Matthew McConaughey         Anne Hathaway    Jessica Chastain   \n",
       "2        84.0       Christian Bale          Heath Ledger       Aaron Eckhart   \n",
       "3        83.0      Sam Worthington           Zoe Saldana    Sigourney Weaver   \n",
       "4        69.0    Robert Downey Jr.           Chris Evans  Scarlett Johansson   \n",
       "\n",
       "                Star4             Writer Director_of_Photography  \\\n",
       "0        Ken Watanabe  Christopher Nolan           Wally Pfister   \n",
       "1       Mackenzie Foy     Jonathan Nolan       Hoyte van Hoytema   \n",
       "2       Michael Caine     Jonathan Nolan           Wally Pfister   \n",
       "3  Michelle Rodriguez      James Cameron             Mauro Fiore   \n",
       "4       Jeremy Renner      Sydney Newman                     NaN   \n",
       "\n",
       "                                           Producers  \\\n",
       "0  Thomas Tull, Christopher Nolan, Chris Brigham,...   \n",
       "1  Jake Myers, Emma Thomas, Jordan Goldberg, Thom...   \n",
       "2  Kevin De La Noy, Thomas Tull, Christopher Nola...   \n",
       "3  Jon Landau, Colin Wilson, Laeta Kalogridis, Ja...   \n",
       "4                                                NaN   \n",
       "\n",
       "                     Music_Composer  \\\n",
       "0                       Hans Zimmer   \n",
       "1                       Hans Zimmer   \n",
       "2  Hans Zimmer, James Newton Howard   \n",
       "3                      James Horner   \n",
       "4                               NaN   \n",
       "\n",
       "                                         genres_list  \\\n",
       "0         ['Action', 'Science Fiction', 'Adventure']   \n",
       "1          ['Adventure', 'Drama', 'Science Fiction']   \n",
       "2           ['Drama', 'Action', 'Crime', 'Thriller']   \n",
       "3  ['Action', 'Adventure', 'Fantasy', 'Science Fi...   \n",
       "4         ['Science Fiction', 'Action', 'Adventure']   \n",
       "\n",
       "                                           Cast_list  \n",
       "0  ['Tim Kelleher', 'Silvie Laguna', 'Natasha Bea...  \n",
       "1  ['Jeff Hephner', 'William Devane', 'Elyes Gabe...  \n",
       "2  ['Tommy Lister Jr.', 'Edison Chen', 'Beatrice ...  \n",
       "3  ['Carvon Futrell', 'Joel David Moore', 'Jon Cu...  \n",
       "4  ['Haneyuri', 'Nako Mizusawa', 'Marin', 'Rikako...  "
      ]
     },
     "execution_count": 7,
     "metadata": {},
     "output_type": "execute_result"
    }
   ],
   "source": [
    "df.iloc[:,20:40].head()"
   ]
  },
  {
   "cell_type": "code",
   "execution_count": 8,
   "metadata": {},
   "outputs": [
    {
     "data": {
      "text/html": [
       "<div>\n",
       "<style scoped>\n",
       "    .dataframe tbody tr th:only-of-type {\n",
       "        vertical-align: middle;\n",
       "    }\n",
       "\n",
       "    .dataframe tbody tr th {\n",
       "        vertical-align: top;\n",
       "    }\n",
       "\n",
       "    .dataframe thead th {\n",
       "        text-align: right;\n",
       "    }\n",
       "</style>\n",
       "<table border=\"1\" class=\"dataframe\">\n",
       "  <thead>\n",
       "    <tr style=\"text-align: right;\">\n",
       "      <th></th>\n",
       "      <th>overview_sentiment</th>\n",
       "      <th>all_combined_keywords</th>\n",
       "    </tr>\n",
       "  </thead>\n",
       "  <tbody>\n",
       "    <tr>\n",
       "      <th>0</th>\n",
       "      <td>-0.011111</td>\n",
       "      <td>['s', 'philosophy', 'skilled', 'kidnapping', '...</td>\n",
       "    </tr>\n",
       "    <tr>\n",
       "      <th>1</th>\n",
       "      <td>0.045455</td>\n",
       "      <td>['thoughtful', 'use', 'scientist', 'quantum me...</td>\n",
       "    </tr>\n",
       "    <tr>\n",
       "      <th>2</th>\n",
       "      <td>0.025000</td>\n",
       "      <td>['reign', 'harvey', 'proves', 'partnership', '...</td>\n",
       "    </tr>\n",
       "    <tr>\n",
       "      <th>3</th>\n",
       "      <td>0.041667</td>\n",
       "      <td>['space war', 'civilization', 'society', 'mari...</td>\n",
       "    </tr>\n",
       "    <tr>\n",
       "      <th>4</th>\n",
       "      <td>0.025000</td>\n",
       "      <td>['s', 'world', 'begins', 'e', 'global safety',...</td>\n",
       "    </tr>\n",
       "  </tbody>\n",
       "</table>\n",
       "</div>"
      ],
      "text/plain": [
       "   overview_sentiment                              all_combined_keywords\n",
       "0           -0.011111  ['s', 'philosophy', 'skilled', 'kidnapping', '...\n",
       "1            0.045455  ['thoughtful', 'use', 'scientist', 'quantum me...\n",
       "2            0.025000  ['reign', 'harvey', 'proves', 'partnership', '...\n",
       "3            0.041667  ['space war', 'civilization', 'society', 'mari...\n",
       "4            0.025000  ['s', 'world', 'begins', 'e', 'global safety',..."
      ]
     },
     "execution_count": 8,
     "metadata": {},
     "output_type": "execute_result"
    }
   ],
   "source": [
    "df.iloc[:,40:].head()"
   ]
  },
  {
   "cell_type": "code",
   "execution_count": 9,
   "metadata": {},
   "outputs": [
    {
     "data": {
      "text/plain": [
       "id                           int64\n",
       "title                       object\n",
       "vote_average               float64\n",
       "vote_count                   int64\n",
       "status                      object\n",
       "release_date                object\n",
       "revenue                      int64\n",
       "runtime                      int64\n",
       "adult                         bool\n",
       "backdrop_path               object\n",
       "budget                       int64\n",
       "homepage                    object\n",
       "imdb_id                     object\n",
       "original_language           object\n",
       "original_title              object\n",
       "overview                    object\n",
       "popularity                 float64\n",
       "poster_path                 object\n",
       "tagline                     object\n",
       "production_companies        object\n",
       "production_countries        object\n",
       "spoken_languages            object\n",
       "keywords                    object\n",
       "release_year               float64\n",
       "Director                    object\n",
       "AverageRating              float64\n",
       "Poster_Link                 object\n",
       "Certificate                 object\n",
       "IMDB_Rating                float64\n",
       "Meta_score                 float64\n",
       "Star1                       object\n",
       "Star2                       object\n",
       "Star3                       object\n",
       "Star4                       object\n",
       "Writer                      object\n",
       "Director_of_Photography     object\n",
       "Producers                   object\n",
       "Music_Composer              object\n",
       "genres_list                 object\n",
       "Cast_list                   object\n",
       "overview_sentiment         float64\n",
       "all_combined_keywords       object\n",
       "dtype: object"
      ]
     },
     "execution_count": 9,
     "metadata": {},
     "output_type": "execute_result"
    }
   ],
   "source": [
    "df.dtypes"
   ]
  },
  {
   "cell_type": "markdown",
   "metadata": {},
   "source": [
    "### Type Conversion"
   ]
  },
  {
   "cell_type": "code",
   "execution_count": 10,
   "metadata": {},
   "outputs": [
    {
     "data": {
      "text/plain": [
       "str"
      ]
     },
     "execution_count": 10,
     "metadata": {},
     "output_type": "execute_result"
    }
   ],
   "source": [
    "type(df['release_date'][0])"
   ]
  },
  {
   "cell_type": "markdown",
   "metadata": {},
   "source": [
    "`release_date` is in `str` format. Let's change that to its original format."
   ]
  },
  {
   "cell_type": "code",
   "execution_count": 11,
   "metadata": {},
   "outputs": [
    {
     "name": "stdout",
     "output_type": "stream",
     "text": [
      "<class 'pandas._libs.tslibs.timestamps.Timestamp'>\n",
      "0   2010-07-15\n",
      "1   2014-11-05\n",
      "2   2008-07-16\n",
      "3   2009-12-15\n",
      "4   2012-04-25\n",
      "Name: release_date, dtype: datetime64[ns]\n"
     ]
    }
   ],
   "source": [
    "df['release_date'] = pd.to_datetime(df['release_date'], errors='coerce')\n",
    "print(type(df['release_date'][0]))\n",
    "print(df['release_date'].head())"
   ]
  },
  {
   "cell_type": "code",
   "execution_count": 12,
   "metadata": {},
   "outputs": [
    {
     "data": {
      "text/html": [
       "<div>\n",
       "<style scoped>\n",
       "    .dataframe tbody tr th:only-of-type {\n",
       "        vertical-align: middle;\n",
       "    }\n",
       "\n",
       "    .dataframe tbody tr th {\n",
       "        vertical-align: top;\n",
       "    }\n",
       "\n",
       "    .dataframe thead th {\n",
       "        text-align: right;\n",
       "    }\n",
       "</style>\n",
       "<table border=\"1\" class=\"dataframe\">\n",
       "  <thead>\n",
       "    <tr style=\"text-align: right;\">\n",
       "      <th></th>\n",
       "      <th>keywords</th>\n",
       "      <th>genres_list</th>\n",
       "      <th>Cast_list</th>\n",
       "      <th>all_combined_keywords</th>\n",
       "    </tr>\n",
       "  </thead>\n",
       "  <tbody>\n",
       "    <tr>\n",
       "      <th>0</th>\n",
       "      <td>['rescue', 'mission', 'dream', 'airplane', 'pa...</td>\n",
       "      <td>['Action', 'Science Fiction', 'Adventure']</td>\n",
       "      <td>['Tim Kelleher', 'Silvie Laguna', 'Natasha Bea...</td>\n",
       "      <td>['s', 'philosophy', 'skilled', 'kidnapping', '...</td>\n",
       "    </tr>\n",
       "    <tr>\n",
       "      <th>1</th>\n",
       "      <td>['rescue', 'future', 'spacecraft', 'race again...</td>\n",
       "      <td>['Adventure', 'Drama', 'Science Fiction']</td>\n",
       "      <td>['Jeff Hephner', 'William Devane', 'Elyes Gabe...</td>\n",
       "      <td>['thoughtful', 'use', 'scientist', 'quantum me...</td>\n",
       "    </tr>\n",
       "    <tr>\n",
       "      <th>2</th>\n",
       "      <td>['joker', 'sadism', 'chaos', 'secret identity'...</td>\n",
       "      <td>['Drama', 'Action', 'Crime', 'Thriller']</td>\n",
       "      <td>['Tommy Lister Jr.', 'Edison Chen', 'Beatrice ...</td>\n",
       "      <td>['reign', 'harvey', 'proves', 'partnership', '...</td>\n",
       "    </tr>\n",
       "    <tr>\n",
       "      <th>3</th>\n",
       "      <td>['future', 'society', 'culture clash', 'space ...</td>\n",
       "      <td>['Action', 'Adventure', 'Fantasy', 'Science Fi...</td>\n",
       "      <td>['Carvon Futrell', 'Joel David Moore', 'Jon Cu...</td>\n",
       "      <td>['space war', 'civilization', 'society', 'mari...</td>\n",
       "    </tr>\n",
       "    <tr>\n",
       "      <th>4</th>\n",
       "      <td>['new york city', 'superhero', 'shield', 'base...</td>\n",
       "      <td>['Science Fiction', 'Action', 'Adventure']</td>\n",
       "      <td>['Haneyuri', 'Nako Mizusawa', 'Marin', 'Rikako...</td>\n",
       "      <td>['s', 'world', 'begins', 'e', 'global safety',...</td>\n",
       "    </tr>\n",
       "  </tbody>\n",
       "</table>\n",
       "</div>"
      ],
      "text/plain": [
       "                                            keywords  \\\n",
       "0  ['rescue', 'mission', 'dream', 'airplane', 'pa...   \n",
       "1  ['rescue', 'future', 'spacecraft', 'race again...   \n",
       "2  ['joker', 'sadism', 'chaos', 'secret identity'...   \n",
       "3  ['future', 'society', 'culture clash', 'space ...   \n",
       "4  ['new york city', 'superhero', 'shield', 'base...   \n",
       "\n",
       "                                         genres_list  \\\n",
       "0         ['Action', 'Science Fiction', 'Adventure']   \n",
       "1          ['Adventure', 'Drama', 'Science Fiction']   \n",
       "2           ['Drama', 'Action', 'Crime', 'Thriller']   \n",
       "3  ['Action', 'Adventure', 'Fantasy', 'Science Fi...   \n",
       "4         ['Science Fiction', 'Action', 'Adventure']   \n",
       "\n",
       "                                           Cast_list  \\\n",
       "0  ['Tim Kelleher', 'Silvie Laguna', 'Natasha Bea...   \n",
       "1  ['Jeff Hephner', 'William Devane', 'Elyes Gabe...   \n",
       "2  ['Tommy Lister Jr.', 'Edison Chen', 'Beatrice ...   \n",
       "3  ['Carvon Futrell', 'Joel David Moore', 'Jon Cu...   \n",
       "4  ['Haneyuri', 'Nako Mizusawa', 'Marin', 'Rikako...   \n",
       "\n",
       "                               all_combined_keywords  \n",
       "0  ['s', 'philosophy', 'skilled', 'kidnapping', '...  \n",
       "1  ['thoughtful', 'use', 'scientist', 'quantum me...  \n",
       "2  ['reign', 'harvey', 'proves', 'partnership', '...  \n",
       "3  ['space war', 'civilization', 'society', 'mari...  \n",
       "4  ['s', 'world', 'begins', 'e', 'global safety',...  "
      ]
     },
     "execution_count": 12,
     "metadata": {},
     "output_type": "execute_result"
    }
   ],
   "source": [
    "array_df = df[['keywords', 'genres_list', 'Cast_list', 'all_combined_keywords']]\n",
    "array_df.head()"
   ]
  },
  {
   "cell_type": "code",
   "execution_count": 13,
   "metadata": {},
   "outputs": [
    {
     "data": {
      "application/vnd.jupyter.widget-view+json": {
       "model_id": "c7dd88fcdb6944eba62c3a02fc2e5abb",
       "version_major": 2,
       "version_minor": 0
      },
      "text/plain": [
       "  0%|          | 0/4 [00:00<?, ?it/s]"
      ]
     },
     "metadata": {},
     "output_type": "display_data"
    },
    {
     "data": {
      "text/plain": [
       "keywords                 <class 'str'>\n",
       "genres_list              <class 'str'>\n",
       "Cast_list                <class 'str'>\n",
       "all_combined_keywords    <class 'str'>\n",
       "Name: 0, dtype: object"
      ]
     },
     "execution_count": 13,
     "metadata": {},
     "output_type": "execute_result"
    }
   ],
   "source": [
    "array_df.iloc[0].progress_apply(type)"
   ]
  },
  {
   "cell_type": "markdown",
   "metadata": {},
   "source": [
    "The `array` are in `str` format. So we will need to change them back."
   ]
  },
  {
   "cell_type": "code",
   "execution_count": 14,
   "metadata": {},
   "outputs": [
    {
     "data": {
      "text/html": [
       "<div>\n",
       "<style scoped>\n",
       "    .dataframe tbody tr th:only-of-type {\n",
       "        vertical-align: middle;\n",
       "    }\n",
       "\n",
       "    .dataframe tbody tr th {\n",
       "        vertical-align: top;\n",
       "    }\n",
       "\n",
       "    .dataframe thead th {\n",
       "        text-align: right;\n",
       "    }\n",
       "</style>\n",
       "<table border=\"1\" class=\"dataframe\">\n",
       "  <thead>\n",
       "    <tr style=\"text-align: right;\">\n",
       "      <th></th>\n",
       "      <th>keywords</th>\n",
       "      <th>genres_list</th>\n",
       "      <th>Cast_list</th>\n",
       "      <th>all_combined_keywords</th>\n",
       "    </tr>\n",
       "  </thead>\n",
       "  <tbody>\n",
       "    <tr>\n",
       "      <th>0</th>\n",
       "      <td>[rescue, mission, dream, airplane, paris, fran...</td>\n",
       "      <td>[Action, Science Fiction, Adventure]</td>\n",
       "      <td>[Tim Kelleher, Silvie Laguna, Natasha Beaumont...</td>\n",
       "      <td>[s, philosophy, skilled, kidnapping, manipulat...</td>\n",
       "    </tr>\n",
       "    <tr>\n",
       "      <th>1</th>\n",
       "      <td>[rescue, future, spacecraft, race against time...</td>\n",
       "      <td>[Adventure, Drama, Science Fiction]</td>\n",
       "      <td>[Jeff Hephner, William Devane, Elyes Gabel, To...</td>\n",
       "      <td>[thoughtful, use, scientist, quantum mechanics...</td>\n",
       "    </tr>\n",
       "    <tr>\n",
       "      <th>2</th>\n",
       "      <td>[joker, sadism, chaos, secret identity, crime ...</td>\n",
       "      <td>[Drama, Action, Crime, Thriller]</td>\n",
       "      <td>[Tommy Lister Jr., Edison Chen, Beatrice Rosen...</td>\n",
       "      <td>[reign, harvey, proves, partnership, batman, n...</td>\n",
       "    </tr>\n",
       "    <tr>\n",
       "      <th>3</th>\n",
       "      <td>[future, society, culture clash, space travel,...</td>\n",
       "      <td>[Action, Adventure, Fantasy, Science Fiction]</td>\n",
       "      <td>[Carvon Futrell, Joel David Moore, Jon Curry, ...</td>\n",
       "      <td>[space war, civilization, society, marine, mis...</td>\n",
       "    </tr>\n",
       "    <tr>\n",
       "      <th>4</th>\n",
       "      <td>[new york city, superhero, shield, based on co...</td>\n",
       "      <td>[Science Fiction, Action, Adventure]</td>\n",
       "      <td>[Haneyuri, Nako Mizusawa, Marin, Rikako Sakata...</td>\n",
       "      <td>[s, world, begins, e, global safety, recruitme...</td>\n",
       "    </tr>\n",
       "  </tbody>\n",
       "</table>\n",
       "</div>"
      ],
      "text/plain": [
       "                                            keywords  \\\n",
       "0  [rescue, mission, dream, airplane, paris, fran...   \n",
       "1  [rescue, future, spacecraft, race against time...   \n",
       "2  [joker, sadism, chaos, secret identity, crime ...   \n",
       "3  [future, society, culture clash, space travel,...   \n",
       "4  [new york city, superhero, shield, based on co...   \n",
       "\n",
       "                                     genres_list  \\\n",
       "0           [Action, Science Fiction, Adventure]   \n",
       "1            [Adventure, Drama, Science Fiction]   \n",
       "2               [Drama, Action, Crime, Thriller]   \n",
       "3  [Action, Adventure, Fantasy, Science Fiction]   \n",
       "4           [Science Fiction, Action, Adventure]   \n",
       "\n",
       "                                           Cast_list  \\\n",
       "0  [Tim Kelleher, Silvie Laguna, Natasha Beaumont...   \n",
       "1  [Jeff Hephner, William Devane, Elyes Gabel, To...   \n",
       "2  [Tommy Lister Jr., Edison Chen, Beatrice Rosen...   \n",
       "3  [Carvon Futrell, Joel David Moore, Jon Curry, ...   \n",
       "4  [Haneyuri, Nako Mizusawa, Marin, Rikako Sakata...   \n",
       "\n",
       "                               all_combined_keywords  \n",
       "0  [s, philosophy, skilled, kidnapping, manipulat...  \n",
       "1  [thoughtful, use, scientist, quantum mechanics...  \n",
       "2  [reign, harvey, proves, partnership, batman, n...  \n",
       "3  [space war, civilization, society, marine, mis...  \n",
       "4  [s, world, begins, e, global safety, recruitme...  "
      ]
     },
     "execution_count": 14,
     "metadata": {},
     "output_type": "execute_result"
    }
   ],
   "source": [
    "array_df = array_df.applymap(ast.literal_eval)\n",
    "array_df.head()"
   ]
  },
  {
   "cell_type": "code",
   "execution_count": 15,
   "metadata": {},
   "outputs": [
    {
     "data": {
      "application/vnd.jupyter.widget-view+json": {
       "model_id": "ea6a126507884b578577c23bd9d8b34a",
       "version_major": 2,
       "version_minor": 0
      },
      "text/plain": [
       "  0%|          | 0/4 [00:00<?, ?it/s]"
      ]
     },
     "metadata": {},
     "output_type": "display_data"
    },
    {
     "name": "stdout",
     "output_type": "stream",
     "text": [
      "keywords                 <class 'list'>\n",
      "genres_list              <class 'list'>\n",
      "Cast_list                <class 'list'>\n",
      "all_combined_keywords    <class 'list'>\n",
      "Name: 0, dtype: object\n"
     ]
    },
    {
     "data": {
      "text/html": [
       "<div>\n",
       "<style scoped>\n",
       "    .dataframe tbody tr th:only-of-type {\n",
       "        vertical-align: middle;\n",
       "    }\n",
       "\n",
       "    .dataframe tbody tr th {\n",
       "        vertical-align: top;\n",
       "    }\n",
       "\n",
       "    .dataframe thead th {\n",
       "        text-align: right;\n",
       "    }\n",
       "</style>\n",
       "<table border=\"1\" class=\"dataframe\">\n",
       "  <thead>\n",
       "    <tr style=\"text-align: right;\">\n",
       "      <th></th>\n",
       "      <th>keywords</th>\n",
       "      <th>genres_list</th>\n",
       "      <th>Cast_list</th>\n",
       "      <th>all_combined_keywords</th>\n",
       "    </tr>\n",
       "  </thead>\n",
       "  <tbody>\n",
       "    <tr>\n",
       "      <th>0</th>\n",
       "      <td>[rescue, mission, dream, airplane, paris, fran...</td>\n",
       "      <td>[Action, Science Fiction, Adventure]</td>\n",
       "      <td>[Tim Kelleher, Silvie Laguna, Natasha Beaumont...</td>\n",
       "      <td>[s, philosophy, skilled, kidnapping, manipulat...</td>\n",
       "    </tr>\n",
       "    <tr>\n",
       "      <th>1</th>\n",
       "      <td>[rescue, future, spacecraft, race against time...</td>\n",
       "      <td>[Adventure, Drama, Science Fiction]</td>\n",
       "      <td>[Jeff Hephner, William Devane, Elyes Gabel, To...</td>\n",
       "      <td>[thoughtful, use, scientist, quantum mechanics...</td>\n",
       "    </tr>\n",
       "    <tr>\n",
       "      <th>2</th>\n",
       "      <td>[joker, sadism, chaos, secret identity, crime ...</td>\n",
       "      <td>[Drama, Action, Crime, Thriller]</td>\n",
       "      <td>[Tommy Lister Jr., Edison Chen, Beatrice Rosen...</td>\n",
       "      <td>[reign, harvey, proves, partnership, batman, n...</td>\n",
       "    </tr>\n",
       "    <tr>\n",
       "      <th>3</th>\n",
       "      <td>[future, society, culture clash, space travel,...</td>\n",
       "      <td>[Action, Adventure, Fantasy, Science Fiction]</td>\n",
       "      <td>[Carvon Futrell, Joel David Moore, Jon Curry, ...</td>\n",
       "      <td>[space war, civilization, society, marine, mis...</td>\n",
       "    </tr>\n",
       "    <tr>\n",
       "      <th>4</th>\n",
       "      <td>[new york city, superhero, shield, based on co...</td>\n",
       "      <td>[Science Fiction, Action, Adventure]</td>\n",
       "      <td>[Haneyuri, Nako Mizusawa, Marin, Rikako Sakata...</td>\n",
       "      <td>[s, world, begins, e, global safety, recruitme...</td>\n",
       "    </tr>\n",
       "  </tbody>\n",
       "</table>\n",
       "</div>"
      ],
      "text/plain": [
       "                                            keywords  \\\n",
       "0  [rescue, mission, dream, airplane, paris, fran...   \n",
       "1  [rescue, future, spacecraft, race against time...   \n",
       "2  [joker, sadism, chaos, secret identity, crime ...   \n",
       "3  [future, society, culture clash, space travel,...   \n",
       "4  [new york city, superhero, shield, based on co...   \n",
       "\n",
       "                                     genres_list  \\\n",
       "0           [Action, Science Fiction, Adventure]   \n",
       "1            [Adventure, Drama, Science Fiction]   \n",
       "2               [Drama, Action, Crime, Thriller]   \n",
       "3  [Action, Adventure, Fantasy, Science Fiction]   \n",
       "4           [Science Fiction, Action, Adventure]   \n",
       "\n",
       "                                           Cast_list  \\\n",
       "0  [Tim Kelleher, Silvie Laguna, Natasha Beaumont...   \n",
       "1  [Jeff Hephner, William Devane, Elyes Gabel, To...   \n",
       "2  [Tommy Lister Jr., Edison Chen, Beatrice Rosen...   \n",
       "3  [Carvon Futrell, Joel David Moore, Jon Curry, ...   \n",
       "4  [Haneyuri, Nako Mizusawa, Marin, Rikako Sakata...   \n",
       "\n",
       "                               all_combined_keywords  \n",
       "0  [s, philosophy, skilled, kidnapping, manipulat...  \n",
       "1  [thoughtful, use, scientist, quantum mechanics...  \n",
       "2  [reign, harvey, proves, partnership, batman, n...  \n",
       "3  [space war, civilization, society, marine, mis...  \n",
       "4  [s, world, begins, e, global safety, recruitme...  "
      ]
     },
     "execution_count": 15,
     "metadata": {},
     "output_type": "execute_result"
    }
   ],
   "source": [
    "for attribute in tqdm(list(array_df.keys())):\n",
    "    df[attribute] = array_df[attribute]\n",
    "\n",
    "print(array_df.iloc[0].apply(type))\n",
    "df[['keywords', 'genres_list', 'Cast_list', 'all_combined_keywords']].head()"
   ]
  },
  {
   "cell_type": "markdown",
   "metadata": {},
   "source": [
    "### Data Cleaning"
   ]
  },
  {
   "cell_type": "code",
   "execution_count": 16,
   "metadata": {},
   "outputs": [
    {
     "data": {
      "text/plain": [
       "status\n",
       "Released           1050747\n",
       "In Production         7984\n",
       "Post Production       6903\n",
       "Planned               6029\n",
       "Rumored                301\n",
       "Canceled               291\n",
       "Name: count, dtype: int64"
      ]
     },
     "execution_count": 16,
     "metadata": {},
     "output_type": "execute_result"
    }
   ],
   "source": [
    "df['status'].value_counts()"
   ]
  },
  {
   "cell_type": "markdown",
   "metadata": {},
   "source": [
    "We only care about movies than have been released and generated revenue to measure success with."
   ]
  },
  {
   "cell_type": "code",
   "execution_count": 17,
   "metadata": {},
   "outputs": [
    {
     "data": {
      "text/plain": [
       "(1050747, 42)"
      ]
     },
     "execution_count": 17,
     "metadata": {},
     "output_type": "execute_result"
    }
   ],
   "source": [
    "df = df[df['status'] == 'Released']\n",
    "df.shape"
   ]
  },
  {
   "cell_type": "code",
   "execution_count": 18,
   "metadata": {},
   "outputs": [
    {
     "data": {
      "text/plain": [
       "id                               0\n",
       "title                            0\n",
       "vote_average                     0\n",
       "vote_count                       0\n",
       "status                           0\n",
       "release_date                135381\n",
       "revenue                          0\n",
       "runtime                          0\n",
       "adult                            0\n",
       "backdrop_path               761063\n",
       "budget                           0\n",
       "homepage                    937402\n",
       "imdb_id                     469736\n",
       "original_language                0\n",
       "original_title                   0\n",
       "overview                    197271\n",
       "popularity                       0\n",
       "poster_path                 305519\n",
       "tagline                     901100\n",
       "production_companies        566460\n",
       "production_countries        448415\n",
       "spoken_languages            434121\n",
       "keywords                         0\n",
       "release_year                135381\n",
       "Director                         0\n",
       "AverageRating              1039145\n",
       "Poster_Link                1048033\n",
       "Certificate                1021365\n",
       "IMDB_Rating                1020896\n",
       "Meta_score                 1048457\n",
       "Star1                      1020895\n",
       "Star2                      1048033\n",
       "Star3                      1048033\n",
       "Star4                      1048033\n",
       "Writer                      416366\n",
       "Director_of_Photography     719924\n",
       "Producers                   633181\n",
       "Music_Composer              897724\n",
       "genres_list                      0\n",
       "Cast_list                        0\n",
       "overview_sentiment               0\n",
       "all_combined_keywords            0\n",
       "dtype: int64"
      ]
     },
     "execution_count": 18,
     "metadata": {},
     "output_type": "execute_result"
    }
   ],
   "source": [
    "df.isnull().sum()"
   ]
  },
  {
   "cell_type": "markdown",
   "metadata": {},
   "source": [
    "IMDB Dataset Attribute Analysis\n",
    "\n",
    "Potentially Unnecessary Attributes\n",
    "\n",
    "1. AverageRating (1,060,504 nulls)\n",
    "- **Explanation:** This attribute is almost entirely null. It's redundant with `vote_average` and `IMDB_Rating`, which have no null values.\n",
    "\n",
    "2. Poster_Link (1,069,485 nulls)\n",
    "- **Explanation:** Nearly all entries are null. The `poster_path` attribute likely serves a similar purpose with fewer null values.\n",
    "\n",
    "3. Certificate (1,042,420 nulls)\n",
    "- **Explanation:** Mostly null. If certification information is crucial, it might be better to source it from a more complete dataset.\n",
    "\n",
    "4. IMDB_Rating (1,041,943 nulls)\n",
    "- **Explanation:** Largely null and likely redundant with `vote_average`.\n",
    "\n",
    "5. Meta_score (1,069,924 nulls)\n",
    "- **Explanation:** Almost entirely null. If Metacritic scores are desired, a more complete source should be used.\n",
    "\n",
    "6. Music_Composer (916,779 nulls)\n",
    "- **Explanation:** Largely null. This information might be included in the `Producers` or `Cast_list` attributes.\n",
    "\n",
    "7. Director_of_Photography (735,402 nulls)\n",
    "- **Explanation:** Mostly null. This level of detail might not be necessary for general analysis.\n",
    "\n",
    "8. homepage (956,736 nulls)\n",
    "- **Explanation:** Mostly null and not crucial for most analyses.\n",
    "\n",
    "9. tagline (919,472 nulls)\n",
    "- **Explanation:** Largely null and often not essential for analysis. \n",
    "\n",
    "8. Producers (646,947 nulls)\n",
    "- **Explanation:** Mostly null.\n",
    "\n",
    "9. Writer (425,675 nulls)\n",
    "- **Explanation:** While it has fewer nulls than some other attributes, it's still mostly empty and might be redundant with information in Cast_list or overview.\n",
    "\n",
    "<br>\n",
    "\n",
    "Attributes to Consider Keeping Despite High Null Counts\n",
    "\n",
    "1. production_countries (456,376 nulls)\n",
    "- While it has many nulls, this information could be valuable for regional analysis.\n",
    "\n",
    "2. spoken_languages (440,257 nulls)\n",
    "- This could be important for language-based analysis, despite the high null count.\n",
    "\n",
    "3. imdb_id (482,891 nulls)\n",
    "- This could be useful for linking to external IMDB data, even though it has many nulls.\n",
    "\n",
    "4. backdrop_path (779,429 nulls)\n",
    "- While mostly null, it might be useful for visual representations in some applications.\n",
    "\n",
    "5. release_date and release_year (both 150,556 nulls)\n",
    "- These are important for temporal analysis, and the null count is relatively low compared to the dataset size.\n",
    "\n",
    "6. Star1, Star2, Star3, Star4 (all have 1,041,942 or more nulls)\n",
    "- **Explanation:** These are mostly null and redundant with the `Cast_list` attribute, which has no null values. But are important in determining the potential popularity of a movie based on its star-studded cast."
   ]
  },
  {
   "cell_type": "code",
   "execution_count": 19,
   "metadata": {},
   "outputs": [
    {
     "data": {
      "text/plain": [
       "Index(['id', 'title', 'vote_average', 'vote_count', 'status', 'release_date',\n",
       "       'revenue', 'runtime', 'adult', 'backdrop_path', 'budget', 'imdb_id',\n",
       "       'original_language', 'original_title', 'overview', 'popularity',\n",
       "       'poster_path', 'production_companies', 'production_countries',\n",
       "       'spoken_languages', 'keywords', 'release_year', 'Director', 'Star1',\n",
       "       'Star2', 'Star3', 'Star4', 'genres_list', 'Cast_list',\n",
       "       'overview_sentiment', 'all_combined_keywords'],\n",
       "      dtype='object')"
      ]
     },
     "execution_count": 19,
     "metadata": {},
     "output_type": "execute_result"
    }
   ],
   "source": [
    "# Assuming your DataFrame is named 'imdb_df'\n",
    "\n",
    "unnecessary_attributes = [\n",
    "    'AverageRating',\n",
    "    'Poster_Link',\n",
    "    'Certificate',\n",
    "    'IMDB_Rating',\n",
    "    'Meta_score',\n",
    "    'Music_Composer',\n",
    "    'Director_of_Photography',\n",
    "    'homepage',\n",
    "    'tagline',\n",
    "    'Producers',\n",
    "    'Writer'\n",
    "]\n",
    "\n",
    "# Drop the unnecessary columns\n",
    "df2 = df.drop(columns=unnecessary_attributes)\n",
    "df2.columns"
   ]
  },
  {
   "cell_type": "code",
   "execution_count": 20,
   "metadata": {},
   "outputs": [
    {
     "data": {
      "text/plain": [
       "id                             0\n",
       "title                          0\n",
       "vote_average                   0\n",
       "vote_count                     0\n",
       "status                         0\n",
       "release_date              135381\n",
       "revenue                        0\n",
       "runtime                        0\n",
       "adult                          0\n",
       "backdrop_path             761063\n",
       "budget                         0\n",
       "imdb_id                   469736\n",
       "original_language              0\n",
       "original_title                 0\n",
       "overview                  197271\n",
       "popularity                     0\n",
       "poster_path               305519\n",
       "production_companies      566460\n",
       "production_countries      448415\n",
       "spoken_languages          434121\n",
       "keywords                       0\n",
       "release_year              135381\n",
       "Director                       0\n",
       "Star1                    1020895\n",
       "Star2                    1048033\n",
       "Star3                    1048033\n",
       "Star4                    1048033\n",
       "genres_list                    0\n",
       "Cast_list                      0\n",
       "overview_sentiment             0\n",
       "all_combined_keywords          0\n",
       "dtype: int64"
      ]
     },
     "execution_count": 20,
     "metadata": {},
     "output_type": "execute_result"
    }
   ],
   "source": [
    "df2.isnull().sum()"
   ]
  },
  {
   "cell_type": "code",
   "execution_count": 21,
   "metadata": {},
   "outputs": [
    {
     "data": {
      "text/html": [
       "<div>\n",
       "<style scoped>\n",
       "    .dataframe tbody tr th:only-of-type {\n",
       "        vertical-align: middle;\n",
       "    }\n",
       "\n",
       "    .dataframe tbody tr th {\n",
       "        vertical-align: top;\n",
       "    }\n",
       "\n",
       "    .dataframe thead th {\n",
       "        text-align: right;\n",
       "    }\n",
       "</style>\n",
       "<table border=\"1\" class=\"dataframe\">\n",
       "  <thead>\n",
       "    <tr style=\"text-align: right;\">\n",
       "      <th></th>\n",
       "      <th>release_date</th>\n",
       "      <th>release_year</th>\n",
       "    </tr>\n",
       "  </thead>\n",
       "  <tbody>\n",
       "    <tr>\n",
       "      <th>0</th>\n",
       "      <td>2010-07-15</td>\n",
       "      <td>2010.0</td>\n",
       "    </tr>\n",
       "    <tr>\n",
       "      <th>1</th>\n",
       "      <td>2014-11-05</td>\n",
       "      <td>2014.0</td>\n",
       "    </tr>\n",
       "    <tr>\n",
       "      <th>2</th>\n",
       "      <td>2008-07-16</td>\n",
       "      <td>2008.0</td>\n",
       "    </tr>\n",
       "    <tr>\n",
       "      <th>3</th>\n",
       "      <td>2009-12-15</td>\n",
       "      <td>2009.0</td>\n",
       "    </tr>\n",
       "    <tr>\n",
       "      <th>4</th>\n",
       "      <td>2012-04-25</td>\n",
       "      <td>2012.0</td>\n",
       "    </tr>\n",
       "  </tbody>\n",
       "</table>\n",
       "</div>"
      ],
      "text/plain": [
       "  release_date  release_year\n",
       "0   2010-07-15        2010.0\n",
       "1   2014-11-05        2014.0\n",
       "2   2008-07-16        2008.0\n",
       "3   2009-12-15        2009.0\n",
       "4   2012-04-25        2012.0"
      ]
     },
     "execution_count": 21,
     "metadata": {},
     "output_type": "execute_result"
    }
   ],
   "source": [
    "df[['release_date', 'release_year']].head()"
   ]
  },
  {
   "cell_type": "code",
   "execution_count": 22,
   "metadata": {},
   "outputs": [
    {
     "data": {
      "text/html": [
       "<div>\n",
       "<style scoped>\n",
       "    .dataframe tbody tr th:only-of-type {\n",
       "        vertical-align: middle;\n",
       "    }\n",
       "\n",
       "    .dataframe tbody tr th {\n",
       "        vertical-align: top;\n",
       "    }\n",
       "\n",
       "    .dataframe thead th {\n",
       "        text-align: right;\n",
       "    }\n",
       "</style>\n",
       "<table border=\"1\" class=\"dataframe\">\n",
       "  <thead>\n",
       "    <tr style=\"text-align: right;\">\n",
       "      <th></th>\n",
       "      <th>release_date</th>\n",
       "      <th>release_year</th>\n",
       "    </tr>\n",
       "  </thead>\n",
       "  <tbody>\n",
       "    <tr>\n",
       "      <th>1072250</th>\n",
       "      <td>2017-07-13</td>\n",
       "      <td>2017.0</td>\n",
       "    </tr>\n",
       "    <tr>\n",
       "      <th>1072251</th>\n",
       "      <td>2019-06-12</td>\n",
       "      <td>2019.0</td>\n",
       "    </tr>\n",
       "    <tr>\n",
       "      <th>1072252</th>\n",
       "      <td>2020-06-15</td>\n",
       "      <td>2020.0</td>\n",
       "    </tr>\n",
       "    <tr>\n",
       "      <th>1072253</th>\n",
       "      <td>1964-02-02</td>\n",
       "      <td>1964.0</td>\n",
       "    </tr>\n",
       "    <tr>\n",
       "      <th>1072254</th>\n",
       "      <td>1921-11-27</td>\n",
       "      <td>1921.0</td>\n",
       "    </tr>\n",
       "  </tbody>\n",
       "</table>\n",
       "</div>"
      ],
      "text/plain": [
       "        release_date  release_year\n",
       "1072250   2017-07-13        2017.0\n",
       "1072251   2019-06-12        2019.0\n",
       "1072252   2020-06-15        2020.0\n",
       "1072253   1964-02-02        1964.0\n",
       "1072254   1921-11-27        1921.0"
      ]
     },
     "execution_count": 22,
     "metadata": {},
     "output_type": "execute_result"
    }
   ],
   "source": [
    "df[['release_date', 'release_year']].tail()"
   ]
  },
  {
   "cell_type": "code",
   "execution_count": 23,
   "metadata": {},
   "outputs": [
    {
     "data": {
      "text/plain": [
       "release_date    135381\n",
       "release_year    135381\n",
       "dtype: int64"
      ]
     },
     "execution_count": 23,
     "metadata": {},
     "output_type": "execute_result"
    }
   ],
   "source": [
    "df[['release_date', 'release_year']].isnull().sum()"
   ]
  },
  {
   "cell_type": "code",
   "execution_count": 24,
   "metadata": {},
   "outputs": [
    {
     "data": {
      "text/plain": [
       "id                              0\n",
       "title                           0\n",
       "vote_average                    0\n",
       "vote_count                      0\n",
       "status                          0\n",
       "release_date               135381\n",
       "revenue                         0\n",
       "runtime                         0\n",
       "adult                           0\n",
       "backdrop_path              127668\n",
       "budget                          0\n",
       "homepage                   122583\n",
       "imdb_id                    100430\n",
       "original_language               0\n",
       "original_title                  0\n",
       "overview                    44401\n",
       "popularity                      0\n",
       "poster_path                 90915\n",
       "tagline                    119193\n",
       "production_companies       125831\n",
       "production_countries       123146\n",
       "spoken_languages           112100\n",
       "keywords                        0\n",
       "release_year               135381\n",
       "Director                        0\n",
       "AverageRating              134490\n",
       "Poster_Link                135164\n",
       "Certificate                132927\n",
       "IMDB_Rating                132873\n",
       "Meta_score                 135204\n",
       "Star1                      132873\n",
       "Star2                      135164\n",
       "Star3                      135164\n",
       "Star4                      135164\n",
       "Writer                      58331\n",
       "Director_of_Photography     97598\n",
       "Producers                   86354\n",
       "Music_Composer             119760\n",
       "genres_list                     0\n",
       "Cast_list                       0\n",
       "overview_sentiment              0\n",
       "all_combined_keywords           0\n",
       "dtype: int64"
      ]
     },
     "execution_count": 24,
     "metadata": {},
     "output_type": "execute_result"
    }
   ],
   "source": [
    "df[(df['release_date'].isnull()) & (df['release_year'].isnull())].isnull().sum()"
   ]
  },
  {
   "cell_type": "markdown",
   "metadata": {},
   "source": [
    "The time data of this dataset is important to us, and thus we will not be able to use those rows without a date."
   ]
  },
  {
   "cell_type": "code",
   "execution_count": 25,
   "metadata": {},
   "outputs": [
    {
     "data": {
      "text/plain": [
       "(915366, 31)"
      ]
     },
     "execution_count": 25,
     "metadata": {},
     "output_type": "execute_result"
    }
   ],
   "source": [
    "df2.dropna(subset=['release_date'], inplace=True)\n",
    "df2.dropna(subset=['release_year'], inplace=True)\n",
    "df2.shape"
   ]
  },
  {
   "cell_type": "code",
   "execution_count": 26,
   "metadata": {},
   "outputs": [
    {
     "data": {
      "text/html": [
       "<div>\n",
       "<style scoped>\n",
       "    .dataframe tbody tr th:only-of-type {\n",
       "        vertical-align: middle;\n",
       "    }\n",
       "\n",
       "    .dataframe tbody tr th {\n",
       "        vertical-align: top;\n",
       "    }\n",
       "\n",
       "    .dataframe thead th {\n",
       "        text-align: right;\n",
       "    }\n",
       "</style>\n",
       "<table border=\"1\" class=\"dataframe\">\n",
       "  <thead>\n",
       "    <tr style=\"text-align: right;\">\n",
       "      <th></th>\n",
       "      <th>Star1</th>\n",
       "      <th>Star2</th>\n",
       "      <th>Star3</th>\n",
       "      <th>Star4</th>\n",
       "    </tr>\n",
       "  </thead>\n",
       "  <tbody>\n",
       "    <tr>\n",
       "      <th>0</th>\n",
       "      <td>Leonardo DiCaprio</td>\n",
       "      <td>Joseph Gordon-Levitt</td>\n",
       "      <td>Elliot Page</td>\n",
       "      <td>Ken Watanabe</td>\n",
       "    </tr>\n",
       "    <tr>\n",
       "      <th>1</th>\n",
       "      <td>Matthew McConaughey</td>\n",
       "      <td>Anne Hathaway</td>\n",
       "      <td>Jessica Chastain</td>\n",
       "      <td>Mackenzie Foy</td>\n",
       "    </tr>\n",
       "    <tr>\n",
       "      <th>2</th>\n",
       "      <td>Christian Bale</td>\n",
       "      <td>Heath Ledger</td>\n",
       "      <td>Aaron Eckhart</td>\n",
       "      <td>Michael Caine</td>\n",
       "    </tr>\n",
       "    <tr>\n",
       "      <th>3</th>\n",
       "      <td>Sam Worthington</td>\n",
       "      <td>Zoe Saldana</td>\n",
       "      <td>Sigourney Weaver</td>\n",
       "      <td>Michelle Rodriguez</td>\n",
       "    </tr>\n",
       "    <tr>\n",
       "      <th>4</th>\n",
       "      <td>Robert Downey Jr.</td>\n",
       "      <td>Chris Evans</td>\n",
       "      <td>Scarlett Johansson</td>\n",
       "      <td>Jeremy Renner</td>\n",
       "    </tr>\n",
       "  </tbody>\n",
       "</table>\n",
       "</div>"
      ],
      "text/plain": [
       "                 Star1                 Star2               Star3  \\\n",
       "0    Leonardo DiCaprio  Joseph Gordon-Levitt         Elliot Page   \n",
       "1  Matthew McConaughey         Anne Hathaway    Jessica Chastain   \n",
       "2       Christian Bale          Heath Ledger       Aaron Eckhart   \n",
       "3      Sam Worthington           Zoe Saldana    Sigourney Weaver   \n",
       "4    Robert Downey Jr.           Chris Evans  Scarlett Johansson   \n",
       "\n",
       "                Star4  \n",
       "0        Ken Watanabe  \n",
       "1       Mackenzie Foy  \n",
       "2       Michael Caine  \n",
       "3  Michelle Rodriguez  \n",
       "4       Jeremy Renner  "
      ]
     },
     "execution_count": 26,
     "metadata": {},
     "output_type": "execute_result"
    }
   ],
   "source": [
    "df2[['Star1', 'Star2', 'Star3', 'Star4']].head()"
   ]
  },
  {
   "cell_type": "code",
   "execution_count": 27,
   "metadata": {},
   "outputs": [
    {
     "data": {
      "text/html": [
       "<div>\n",
       "<style scoped>\n",
       "    .dataframe tbody tr th:only-of-type {\n",
       "        vertical-align: middle;\n",
       "    }\n",
       "\n",
       "    .dataframe tbody tr th {\n",
       "        vertical-align: top;\n",
       "    }\n",
       "\n",
       "    .dataframe thead th {\n",
       "        text-align: right;\n",
       "    }\n",
       "</style>\n",
       "<table border=\"1\" class=\"dataframe\">\n",
       "  <thead>\n",
       "    <tr style=\"text-align: right;\">\n",
       "      <th></th>\n",
       "      <th>Star1</th>\n",
       "      <th>Star2</th>\n",
       "      <th>Star3</th>\n",
       "      <th>Star4</th>\n",
       "    </tr>\n",
       "  </thead>\n",
       "  <tbody>\n",
       "    <tr>\n",
       "      <th>1072250</th>\n",
       "      <td>NaN</td>\n",
       "      <td>NaN</td>\n",
       "      <td>NaN</td>\n",
       "      <td>NaN</td>\n",
       "    </tr>\n",
       "    <tr>\n",
       "      <th>1072251</th>\n",
       "      <td>NaN</td>\n",
       "      <td>NaN</td>\n",
       "      <td>NaN</td>\n",
       "      <td>NaN</td>\n",
       "    </tr>\n",
       "    <tr>\n",
       "      <th>1072252</th>\n",
       "      <td>NaN</td>\n",
       "      <td>NaN</td>\n",
       "      <td>NaN</td>\n",
       "      <td>NaN</td>\n",
       "    </tr>\n",
       "    <tr>\n",
       "      <th>1072253</th>\n",
       "      <td>NaN</td>\n",
       "      <td>NaN</td>\n",
       "      <td>NaN</td>\n",
       "      <td>NaN</td>\n",
       "    </tr>\n",
       "    <tr>\n",
       "      <th>1072254</th>\n",
       "      <td>NaN</td>\n",
       "      <td>NaN</td>\n",
       "      <td>NaN</td>\n",
       "      <td>NaN</td>\n",
       "    </tr>\n",
       "  </tbody>\n",
       "</table>\n",
       "</div>"
      ],
      "text/plain": [
       "        Star1 Star2 Star3 Star4\n",
       "1072250   NaN   NaN   NaN   NaN\n",
       "1072251   NaN   NaN   NaN   NaN\n",
       "1072252   NaN   NaN   NaN   NaN\n",
       "1072253   NaN   NaN   NaN   NaN\n",
       "1072254   NaN   NaN   NaN   NaN"
      ]
     },
     "execution_count": 27,
     "metadata": {},
     "output_type": "execute_result"
    }
   ],
   "source": [
    "df2[['Star1', 'Star2', 'Star3', 'Star4']].tail()"
   ]
  },
  {
   "cell_type": "markdown",
   "metadata": {},
   "source": [
    "This identifies if there are any popular/famous movie starts starring in the movie. So it is ok to have `null` values."
   ]
  },
  {
   "cell_type": "code",
   "execution_count": 28,
   "metadata": {},
   "outputs": [
    {
     "data": {
      "text/html": [
       "<div>\n",
       "<style scoped>\n",
       "    .dataframe tbody tr th:only-of-type {\n",
       "        vertical-align: middle;\n",
       "    }\n",
       "\n",
       "    .dataframe tbody tr th {\n",
       "        vertical-align: top;\n",
       "    }\n",
       "\n",
       "    .dataframe thead th {\n",
       "        text-align: right;\n",
       "    }\n",
       "</style>\n",
       "<table border=\"1\" class=\"dataframe\">\n",
       "  <thead>\n",
       "    <tr style=\"text-align: right;\">\n",
       "      <th></th>\n",
       "      <th>Star1</th>\n",
       "      <th>Star2</th>\n",
       "      <th>Star3</th>\n",
       "      <th>Star4</th>\n",
       "    </tr>\n",
       "  </thead>\n",
       "  <tbody>\n",
       "    <tr>\n",
       "      <th>1072250</th>\n",
       "      <td>Unknown</td>\n",
       "      <td>Unknown</td>\n",
       "      <td>Unknown</td>\n",
       "      <td>Unknown</td>\n",
       "    </tr>\n",
       "    <tr>\n",
       "      <th>1072251</th>\n",
       "      <td>Unknown</td>\n",
       "      <td>Unknown</td>\n",
       "      <td>Unknown</td>\n",
       "      <td>Unknown</td>\n",
       "    </tr>\n",
       "    <tr>\n",
       "      <th>1072252</th>\n",
       "      <td>Unknown</td>\n",
       "      <td>Unknown</td>\n",
       "      <td>Unknown</td>\n",
       "      <td>Unknown</td>\n",
       "    </tr>\n",
       "    <tr>\n",
       "      <th>1072253</th>\n",
       "      <td>Unknown</td>\n",
       "      <td>Unknown</td>\n",
       "      <td>Unknown</td>\n",
       "      <td>Unknown</td>\n",
       "    </tr>\n",
       "    <tr>\n",
       "      <th>1072254</th>\n",
       "      <td>Unknown</td>\n",
       "      <td>Unknown</td>\n",
       "      <td>Unknown</td>\n",
       "      <td>Unknown</td>\n",
       "    </tr>\n",
       "  </tbody>\n",
       "</table>\n",
       "</div>"
      ],
      "text/plain": [
       "           Star1    Star2    Star3    Star4\n",
       "1072250  Unknown  Unknown  Unknown  Unknown\n",
       "1072251  Unknown  Unknown  Unknown  Unknown\n",
       "1072252  Unknown  Unknown  Unknown  Unknown\n",
       "1072253  Unknown  Unknown  Unknown  Unknown\n",
       "1072254  Unknown  Unknown  Unknown  Unknown"
      ]
     },
     "execution_count": 28,
     "metadata": {},
     "output_type": "execute_result"
    }
   ],
   "source": [
    "df2['Star1'] = df2['Star1'].fillna('Unknown')\n",
    "df2['Star2'] = df2['Star2'].fillna('Unknown')\n",
    "df2['Star3'] = df2['Star3'].fillna('Unknown')\n",
    "df2['Star4'] = df2['Star4'].fillna('Unknown')\n",
    "df2[['Star1', 'Star2', 'Star3', 'Star4']].tail()"
   ]
  },
  {
   "cell_type": "code",
   "execution_count": 29,
   "metadata": {},
   "outputs": [
    {
     "data": {
      "text/html": [
       "<div>\n",
       "<style scoped>\n",
       "    .dataframe tbody tr th:only-of-type {\n",
       "        vertical-align: middle;\n",
       "    }\n",
       "\n",
       "    .dataframe tbody tr th {\n",
       "        vertical-align: top;\n",
       "    }\n",
       "\n",
       "    .dataframe thead th {\n",
       "        text-align: right;\n",
       "    }\n",
       "</style>\n",
       "<table border=\"1\" class=\"dataframe\">\n",
       "  <thead>\n",
       "    <tr style=\"text-align: right;\">\n",
       "      <th></th>\n",
       "      <th>production_countries</th>\n",
       "      <th>production_companies</th>\n",
       "    </tr>\n",
       "  </thead>\n",
       "  <tbody>\n",
       "    <tr>\n",
       "      <th>0</th>\n",
       "      <td>United Kingdom, United States of America</td>\n",
       "      <td>Legendary Pictures, Syncopy, Warner Bros. Pict...</td>\n",
       "    </tr>\n",
       "    <tr>\n",
       "      <th>1</th>\n",
       "      <td>United Kingdom, United States of America</td>\n",
       "      <td>Legendary Pictures, Syncopy, Lynda Obst Produc...</td>\n",
       "    </tr>\n",
       "    <tr>\n",
       "      <th>2</th>\n",
       "      <td>United Kingdom, United States of America</td>\n",
       "      <td>DC Comics, Legendary Pictures, Syncopy, Isobel...</td>\n",
       "    </tr>\n",
       "    <tr>\n",
       "      <th>3</th>\n",
       "      <td>United States of America, United Kingdom</td>\n",
       "      <td>Dune Entertainment, Lightstorm Entertainment, ...</td>\n",
       "    </tr>\n",
       "    <tr>\n",
       "      <th>4</th>\n",
       "      <td>United States of America</td>\n",
       "      <td>Marvel Studios</td>\n",
       "    </tr>\n",
       "  </tbody>\n",
       "</table>\n",
       "</div>"
      ],
      "text/plain": [
       "                       production_countries  \\\n",
       "0  United Kingdom, United States of America   \n",
       "1  United Kingdom, United States of America   \n",
       "2  United Kingdom, United States of America   \n",
       "3  United States of America, United Kingdom   \n",
       "4                  United States of America   \n",
       "\n",
       "                                production_companies  \n",
       "0  Legendary Pictures, Syncopy, Warner Bros. Pict...  \n",
       "1  Legendary Pictures, Syncopy, Lynda Obst Produc...  \n",
       "2  DC Comics, Legendary Pictures, Syncopy, Isobel...  \n",
       "3  Dune Entertainment, Lightstorm Entertainment, ...  \n",
       "4                                     Marvel Studios  "
      ]
     },
     "execution_count": 29,
     "metadata": {},
     "output_type": "execute_result"
    }
   ],
   "source": [
    "df2[['production_countries', 'production_companies']].head()"
   ]
  },
  {
   "cell_type": "code",
   "execution_count": 30,
   "metadata": {},
   "outputs": [
    {
     "data": {
      "text/html": [
       "<div>\n",
       "<style scoped>\n",
       "    .dataframe tbody tr th:only-of-type {\n",
       "        vertical-align: middle;\n",
       "    }\n",
       "\n",
       "    .dataframe tbody tr th {\n",
       "        vertical-align: top;\n",
       "    }\n",
       "\n",
       "    .dataframe thead th {\n",
       "        text-align: right;\n",
       "    }\n",
       "</style>\n",
       "<table border=\"1\" class=\"dataframe\">\n",
       "  <thead>\n",
       "    <tr style=\"text-align: right;\">\n",
       "      <th></th>\n",
       "      <th>production_countries</th>\n",
       "      <th>production_companies</th>\n",
       "    </tr>\n",
       "  </thead>\n",
       "  <tbody>\n",
       "    <tr>\n",
       "      <th>1072250</th>\n",
       "      <td>NaN</td>\n",
       "      <td>NaN</td>\n",
       "    </tr>\n",
       "    <tr>\n",
       "      <th>1072251</th>\n",
       "      <td>Poland</td>\n",
       "      <td>PWSFTviT</td>\n",
       "    </tr>\n",
       "    <tr>\n",
       "      <th>1072252</th>\n",
       "      <td>South Korea</td>\n",
       "      <td>Korea National University of Arts</td>\n",
       "    </tr>\n",
       "    <tr>\n",
       "      <th>1072253</th>\n",
       "      <td>Greece</td>\n",
       "      <td>Spentzos Films</td>\n",
       "    </tr>\n",
       "    <tr>\n",
       "      <th>1072254</th>\n",
       "      <td>NaN</td>\n",
       "      <td>NaN</td>\n",
       "    </tr>\n",
       "  </tbody>\n",
       "</table>\n",
       "</div>"
      ],
      "text/plain": [
       "        production_countries               production_companies\n",
       "1072250                  NaN                                NaN\n",
       "1072251               Poland                           PWSFTviT\n",
       "1072252          South Korea  Korea National University of Arts\n",
       "1072253               Greece                     Spentzos Films\n",
       "1072254                  NaN                                NaN"
      ]
     },
     "execution_count": 30,
     "metadata": {},
     "output_type": "execute_result"
    }
   ],
   "source": [
    "df2[['production_countries', 'production_companies']].tail()"
   ]
  },
  {
   "cell_type": "code",
   "execution_count": 31,
   "metadata": {},
   "outputs": [
    {
     "data": {
      "text/plain": [
       "id                            0\n",
       "title                         0\n",
       "vote_average                  0\n",
       "vote_count                    0\n",
       "status                        0\n",
       "release_date                  0\n",
       "revenue                       0\n",
       "runtime                       0\n",
       "adult                         0\n",
       "backdrop_path            227170\n",
       "budget                        0\n",
       "imdb_id                  145139\n",
       "original_language             0\n",
       "original_title                0\n",
       "overview                  50486\n",
       "popularity                    0\n",
       "poster_path               91777\n",
       "production_companies     267197\n",
       "production_countries     267197\n",
       "spoken_languages         179303\n",
       "keywords                      0\n",
       "release_year                  0\n",
       "Director                      0\n",
       "Star1                         0\n",
       "Star2                         0\n",
       "Star3                         0\n",
       "Star4                         0\n",
       "genres_list                   0\n",
       "Cast_list                     0\n",
       "overview_sentiment            0\n",
       "all_combined_keywords         0\n",
       "dtype: int64"
      ]
     },
     "execution_count": 31,
     "metadata": {},
     "output_type": "execute_result"
    }
   ],
   "source": [
    "df2[(df2['production_companies'].isnull()) & (df2['production_countries'].isnull())].isnull().sum()"
   ]
  },
  {
   "cell_type": "code",
   "execution_count": 32,
   "metadata": {},
   "outputs": [
    {
     "data": {
      "text/html": [
       "<div>\n",
       "<style scoped>\n",
       "    .dataframe tbody tr th:only-of-type {\n",
       "        vertical-align: middle;\n",
       "    }\n",
       "\n",
       "    .dataframe tbody tr th {\n",
       "        vertical-align: top;\n",
       "    }\n",
       "\n",
       "    .dataframe thead th {\n",
       "        text-align: right;\n",
       "    }\n",
       "</style>\n",
       "<table border=\"1\" class=\"dataframe\">\n",
       "  <thead>\n",
       "    <tr style=\"text-align: right;\">\n",
       "      <th></th>\n",
       "      <th>production_companies</th>\n",
       "      <th>production_countries</th>\n",
       "    </tr>\n",
       "  </thead>\n",
       "  <tbody>\n",
       "    <tr>\n",
       "      <th>1072250</th>\n",
       "      <td>Unknown</td>\n",
       "      <td>Unknown</td>\n",
       "    </tr>\n",
       "    <tr>\n",
       "      <th>1072251</th>\n",
       "      <td>PWSFTviT</td>\n",
       "      <td>Poland</td>\n",
       "    </tr>\n",
       "    <tr>\n",
       "      <th>1072252</th>\n",
       "      <td>Korea National University of Arts</td>\n",
       "      <td>South Korea</td>\n",
       "    </tr>\n",
       "    <tr>\n",
       "      <th>1072253</th>\n",
       "      <td>Spentzos Films</td>\n",
       "      <td>Greece</td>\n",
       "    </tr>\n",
       "    <tr>\n",
       "      <th>1072254</th>\n",
       "      <td>Unknown</td>\n",
       "      <td>Unknown</td>\n",
       "    </tr>\n",
       "  </tbody>\n",
       "</table>\n",
       "</div>"
      ],
      "text/plain": [
       "                      production_companies production_countries\n",
       "1072250                            Unknown              Unknown\n",
       "1072251                           PWSFTviT               Poland\n",
       "1072252  Korea National University of Arts          South Korea\n",
       "1072253                     Spentzos Films               Greece\n",
       "1072254                            Unknown              Unknown"
      ]
     },
     "execution_count": 32,
     "metadata": {},
     "output_type": "execute_result"
    }
   ],
   "source": [
    "df2['production_companies'] = df2['production_companies'].fillna('Unknown')\n",
    "df2['production_countries'] = df2['production_countries'].fillna('Unknown')\n",
    "df2[['production_companies', 'production_countries']].tail()"
   ]
  },
  {
   "cell_type": "code",
   "execution_count": 33,
   "metadata": {},
   "outputs": [
    {
     "data": {
      "text/plain": [
       "id                            0\n",
       "title                         0\n",
       "vote_average                  0\n",
       "vote_count                    0\n",
       "status                        0\n",
       "release_date                  0\n",
       "revenue                       0\n",
       "runtime                       0\n",
       "adult                         0\n",
       "backdrop_path            633395\n",
       "budget                        0\n",
       "imdb_id                  369306\n",
       "original_language             0\n",
       "original_title                0\n",
       "overview                 152870\n",
       "popularity                    0\n",
       "poster_path              214604\n",
       "production_companies          0\n",
       "production_countries          0\n",
       "spoken_languages         322021\n",
       "keywords                      0\n",
       "release_year                  0\n",
       "Director                      0\n",
       "Star1                         0\n",
       "Star2                         0\n",
       "Star3                         0\n",
       "Star4                         0\n",
       "genres_list                   0\n",
       "Cast_list                     0\n",
       "overview_sentiment            0\n",
       "all_combined_keywords         0\n",
       "dtype: int64"
      ]
     },
     "execution_count": 33,
     "metadata": {},
     "output_type": "execute_result"
    }
   ],
   "source": [
    "df2.isnull().sum()"
   ]
  },
  {
   "cell_type": "code",
   "execution_count": 34,
   "metadata": {},
   "outputs": [
    {
     "data": {
      "text/html": [
       "<div>\n",
       "<style scoped>\n",
       "    .dataframe tbody tr th:only-of-type {\n",
       "        vertical-align: middle;\n",
       "    }\n",
       "\n",
       "    .dataframe tbody tr th {\n",
       "        vertical-align: top;\n",
       "    }\n",
       "\n",
       "    .dataframe thead th {\n",
       "        text-align: right;\n",
       "    }\n",
       "</style>\n",
       "<table border=\"1\" class=\"dataframe\">\n",
       "  <thead>\n",
       "    <tr style=\"text-align: right;\">\n",
       "      <th></th>\n",
       "      <th>backdrop_path</th>\n",
       "      <th>poster_path</th>\n",
       "    </tr>\n",
       "  </thead>\n",
       "  <tbody>\n",
       "    <tr>\n",
       "      <th>0</th>\n",
       "      <td>/8ZTVqvKDQ8emSGUEMjsS4yHAwrp.jpg</td>\n",
       "      <td>/oYuLEt3zVCKq57qu2F8dT7NIa6f.jpg</td>\n",
       "    </tr>\n",
       "    <tr>\n",
       "      <th>1</th>\n",
       "      <td>/pbrkL804c8yAv3zBZR4QPEafpAR.jpg</td>\n",
       "      <td>/gEU2QniE6E77NI6lCU6MxlNBvIx.jpg</td>\n",
       "    </tr>\n",
       "    <tr>\n",
       "      <th>2</th>\n",
       "      <td>/nMKdUUepR0i5zn0y1T4CsSB5chy.jpg</td>\n",
       "      <td>/qJ2tW6WMUDux911r6m7haRef0WH.jpg</td>\n",
       "    </tr>\n",
       "    <tr>\n",
       "      <th>3</th>\n",
       "      <td>/vL5LR6WdxWPjLPFRLe133jXWsh5.jpg</td>\n",
       "      <td>/kyeqWdyUXW608qlYkRqosgbbJyK.jpg</td>\n",
       "    </tr>\n",
       "    <tr>\n",
       "      <th>4</th>\n",
       "      <td>/9BBTo63ANSmhC4e6r62OJFuK2GL.jpg</td>\n",
       "      <td>/RYMX2wcKCBAr24UyPD7xwmjaTn.jpg</td>\n",
       "    </tr>\n",
       "  </tbody>\n",
       "</table>\n",
       "</div>"
      ],
      "text/plain": [
       "                      backdrop_path                       poster_path\n",
       "0  /8ZTVqvKDQ8emSGUEMjsS4yHAwrp.jpg  /oYuLEt3zVCKq57qu2F8dT7NIa6f.jpg\n",
       "1  /pbrkL804c8yAv3zBZR4QPEafpAR.jpg  /gEU2QniE6E77NI6lCU6MxlNBvIx.jpg\n",
       "2  /nMKdUUepR0i5zn0y1T4CsSB5chy.jpg  /qJ2tW6WMUDux911r6m7haRef0WH.jpg\n",
       "3  /vL5LR6WdxWPjLPFRLe133jXWsh5.jpg  /kyeqWdyUXW608qlYkRqosgbbJyK.jpg\n",
       "4  /9BBTo63ANSmhC4e6r62OJFuK2GL.jpg   /RYMX2wcKCBAr24UyPD7xwmjaTn.jpg"
      ]
     },
     "execution_count": 34,
     "metadata": {},
     "output_type": "execute_result"
    }
   ],
   "source": [
    "df2[['backdrop_path', 'poster_path']].head()"
   ]
  },
  {
   "cell_type": "code",
   "execution_count": 35,
   "metadata": {},
   "outputs": [
    {
     "data": {
      "text/html": [
       "<div>\n",
       "<style scoped>\n",
       "    .dataframe tbody tr th:only-of-type {\n",
       "        vertical-align: middle;\n",
       "    }\n",
       "\n",
       "    .dataframe tbody tr th {\n",
       "        vertical-align: top;\n",
       "    }\n",
       "\n",
       "    .dataframe thead th {\n",
       "        text-align: right;\n",
       "    }\n",
       "</style>\n",
       "<table border=\"1\" class=\"dataframe\">\n",
       "  <thead>\n",
       "    <tr style=\"text-align: right;\">\n",
       "      <th></th>\n",
       "      <th>backdrop_path</th>\n",
       "      <th>poster_path</th>\n",
       "    </tr>\n",
       "  </thead>\n",
       "  <tbody>\n",
       "    <tr>\n",
       "      <th>1072250</th>\n",
       "      <td>NaN</td>\n",
       "      <td>/tKnwO0Tc7p8gq1YffNwUPuXbl6f.jpg</td>\n",
       "    </tr>\n",
       "    <tr>\n",
       "      <th>1072251</th>\n",
       "      <td>/xfSlHmpbqOAHaWMVzyN3XXF4PyE.jpg</td>\n",
       "      <td>/uVRCFcgvyiPUqAHO1xYoeUqBss9.jpg</td>\n",
       "    </tr>\n",
       "    <tr>\n",
       "      <th>1072252</th>\n",
       "      <td>NaN</td>\n",
       "      <td>/9y6hHj6gTpGIilOgN2LhNh8XHIQ.jpg</td>\n",
       "    </tr>\n",
       "    <tr>\n",
       "      <th>1072253</th>\n",
       "      <td>/cIKFTIJQqhb9EX1YIgPGlm2voyK.jpg</td>\n",
       "      <td>/ekLcnTMKm3rwwCfzApullRbTT4R.jpg</td>\n",
       "    </tr>\n",
       "    <tr>\n",
       "      <th>1072254</th>\n",
       "      <td>NaN</td>\n",
       "      <td>NaN</td>\n",
       "    </tr>\n",
       "  </tbody>\n",
       "</table>\n",
       "</div>"
      ],
      "text/plain": [
       "                            backdrop_path                       poster_path\n",
       "1072250                               NaN  /tKnwO0Tc7p8gq1YffNwUPuXbl6f.jpg\n",
       "1072251  /xfSlHmpbqOAHaWMVzyN3XXF4PyE.jpg  /uVRCFcgvyiPUqAHO1xYoeUqBss9.jpg\n",
       "1072252                               NaN  /9y6hHj6gTpGIilOgN2LhNh8XHIQ.jpg\n",
       "1072253  /cIKFTIJQqhb9EX1YIgPGlm2voyK.jpg  /ekLcnTMKm3rwwCfzApullRbTT4R.jpg\n",
       "1072254                               NaN                               NaN"
      ]
     },
     "execution_count": 35,
     "metadata": {},
     "output_type": "execute_result"
    }
   ],
   "source": [
    "df2[['backdrop_path', 'poster_path']].tail()"
   ]
  },
  {
   "cell_type": "markdown",
   "metadata": {},
   "source": [
    "On more intricate analysis, these attributes do not contribute to the project."
   ]
  },
  {
   "cell_type": "code",
   "execution_count": 36,
   "metadata": {},
   "outputs": [
    {
     "data": {
      "text/plain": [
       "Index(['id', 'title', 'vote_average', 'vote_count', 'status', 'release_date',\n",
       "       'revenue', 'runtime', 'adult', 'budget', 'imdb_id', 'original_language',\n",
       "       'original_title', 'overview', 'popularity', 'production_companies',\n",
       "       'production_countries', 'spoken_languages', 'keywords', 'release_year',\n",
       "       'Director', 'Star1', 'Star2', 'Star3', 'Star4', 'genres_list',\n",
       "       'Cast_list', 'overview_sentiment', 'all_combined_keywords'],\n",
       "      dtype='object')"
      ]
     },
     "execution_count": 36,
     "metadata": {},
     "output_type": "execute_result"
    }
   ],
   "source": [
    "df2 = df2.drop(columns=['backdrop_path', 'poster_path'])\n",
    "df2.columns"
   ]
  },
  {
   "cell_type": "code",
   "execution_count": 37,
   "metadata": {},
   "outputs": [
    {
     "data": {
      "text/html": [
       "<div>\n",
       "<style scoped>\n",
       "    .dataframe tbody tr th:only-of-type {\n",
       "        vertical-align: middle;\n",
       "    }\n",
       "\n",
       "    .dataframe tbody tr th {\n",
       "        vertical-align: top;\n",
       "    }\n",
       "\n",
       "    .dataframe thead th {\n",
       "        text-align: right;\n",
       "    }\n",
       "</style>\n",
       "<table border=\"1\" class=\"dataframe\">\n",
       "  <thead>\n",
       "    <tr style=\"text-align: right;\">\n",
       "      <th></th>\n",
       "      <th>imdb_id</th>\n",
       "      <th>overview</th>\n",
       "      <th>spoken_languages</th>\n",
       "    </tr>\n",
       "  </thead>\n",
       "  <tbody>\n",
       "    <tr>\n",
       "      <th>0</th>\n",
       "      <td>tt1375666</td>\n",
       "      <td>Cobb, a skilled thief who commits corporate es...</td>\n",
       "      <td>English, French, Japanese, Swahili</td>\n",
       "    </tr>\n",
       "    <tr>\n",
       "      <th>1</th>\n",
       "      <td>tt0816692</td>\n",
       "      <td>The adventures of a group of explorers who mak...</td>\n",
       "      <td>English</td>\n",
       "    </tr>\n",
       "    <tr>\n",
       "      <th>2</th>\n",
       "      <td>tt0468569</td>\n",
       "      <td>Batman raises the stakes in his war on crime. ...</td>\n",
       "      <td>English, Mandarin</td>\n",
       "    </tr>\n",
       "    <tr>\n",
       "      <th>3</th>\n",
       "      <td>tt0499549</td>\n",
       "      <td>In the 22nd century, a paraplegic Marine is di...</td>\n",
       "      <td>English, Spanish</td>\n",
       "    </tr>\n",
       "    <tr>\n",
       "      <th>4</th>\n",
       "      <td>tt0848228</td>\n",
       "      <td>When an unexpected enemy emerges and threatens...</td>\n",
       "      <td>English, Hindi, Russian</td>\n",
       "    </tr>\n",
       "  </tbody>\n",
       "</table>\n",
       "</div>"
      ],
      "text/plain": [
       "     imdb_id                                           overview  \\\n",
       "0  tt1375666  Cobb, a skilled thief who commits corporate es...   \n",
       "1  tt0816692  The adventures of a group of explorers who mak...   \n",
       "2  tt0468569  Batman raises the stakes in his war on crime. ...   \n",
       "3  tt0499549  In the 22nd century, a paraplegic Marine is di...   \n",
       "4  tt0848228  When an unexpected enemy emerges and threatens...   \n",
       "\n",
       "                     spoken_languages  \n",
       "0  English, French, Japanese, Swahili  \n",
       "1                             English  \n",
       "2                   English, Mandarin  \n",
       "3                    English, Spanish  \n",
       "4             English, Hindi, Russian  "
      ]
     },
     "execution_count": 37,
     "metadata": {},
     "output_type": "execute_result"
    }
   ],
   "source": [
    "df2[['imdb_id', 'overview', 'spoken_languages']].head()"
   ]
  },
  {
   "cell_type": "code",
   "execution_count": 38,
   "metadata": {},
   "outputs": [
    {
     "data": {
      "text/html": [
       "<div>\n",
       "<style scoped>\n",
       "    .dataframe tbody tr th:only-of-type {\n",
       "        vertical-align: middle;\n",
       "    }\n",
       "\n",
       "    .dataframe tbody tr th {\n",
       "        vertical-align: top;\n",
       "    }\n",
       "\n",
       "    .dataframe thead th {\n",
       "        text-align: right;\n",
       "    }\n",
       "</style>\n",
       "<table border=\"1\" class=\"dataframe\">\n",
       "  <thead>\n",
       "    <tr style=\"text-align: right;\">\n",
       "      <th></th>\n",
       "      <th>imdb_id</th>\n",
       "      <th>overview</th>\n",
       "      <th>spoken_languages</th>\n",
       "    </tr>\n",
       "  </thead>\n",
       "  <tbody>\n",
       "    <tr>\n",
       "      <th>1072250</th>\n",
       "      <td>NaN</td>\n",
       "      <td>Mahmoud and Nabila are married couple in their...</td>\n",
       "      <td>Arabic</td>\n",
       "    </tr>\n",
       "    <tr>\n",
       "      <th>1072251</th>\n",
       "      <td>tt10784416</td>\n",
       "      <td>In order to confront her unfaithful partner, a...</td>\n",
       "      <td>Polish</td>\n",
       "    </tr>\n",
       "    <tr>\n",
       "      <th>1072252</th>\n",
       "      <td>NaN</td>\n",
       "      <td>A high school student. My best friend is pregn...</td>\n",
       "      <td>NaN</td>\n",
       "    </tr>\n",
       "    <tr>\n",
       "      <th>1072253</th>\n",
       "      <td>tt0231143</td>\n",
       "      <td>NaN</td>\n",
       "      <td>Greek</td>\n",
       "    </tr>\n",
       "    <tr>\n",
       "      <th>1072254</th>\n",
       "      <td>tt0403050</td>\n",
       "      <td>An Aesop’s Film Fables cartoon.</td>\n",
       "      <td>NaN</td>\n",
       "    </tr>\n",
       "  </tbody>\n",
       "</table>\n",
       "</div>"
      ],
      "text/plain": [
       "            imdb_id                                           overview  \\\n",
       "1072250         NaN  Mahmoud and Nabila are married couple in their...   \n",
       "1072251  tt10784416  In order to confront her unfaithful partner, a...   \n",
       "1072252         NaN  A high school student. My best friend is pregn...   \n",
       "1072253   tt0231143                                                NaN   \n",
       "1072254   tt0403050                    An Aesop’s Film Fables cartoon.   \n",
       "\n",
       "        spoken_languages  \n",
       "1072250           Arabic  \n",
       "1072251           Polish  \n",
       "1072252              NaN  \n",
       "1072253            Greek  \n",
       "1072254              NaN  "
      ]
     },
     "execution_count": 38,
     "metadata": {},
     "output_type": "execute_result"
    }
   ],
   "source": [
    "df2[['imdb_id', 'overview', 'spoken_languages']].tail()"
   ]
  },
  {
   "cell_type": "markdown",
   "metadata": {},
   "source": [
    "`imdb_id` is not useful for further research, while `overview` and `spoken_languages` are still useful."
   ]
  },
  {
   "cell_type": "code",
   "execution_count": 39,
   "metadata": {},
   "outputs": [
    {
     "data": {
      "text/plain": [
       "id                       0\n",
       "title                    0\n",
       "vote_average             0\n",
       "vote_count               0\n",
       "status                   0\n",
       "release_date             0\n",
       "revenue                  0\n",
       "runtime                  0\n",
       "adult                    0\n",
       "budget                   0\n",
       "original_language        0\n",
       "original_title           0\n",
       "overview                 0\n",
       "popularity               0\n",
       "production_companies     0\n",
       "production_countries     0\n",
       "spoken_languages         0\n",
       "keywords                 0\n",
       "release_year             0\n",
       "Director                 0\n",
       "Star1                    0\n",
       "Star2                    0\n",
       "Star3                    0\n",
       "Star4                    0\n",
       "genres_list              0\n",
       "Cast_list                0\n",
       "overview_sentiment       0\n",
       "all_combined_keywords    0\n",
       "dtype: int64"
      ]
     },
     "execution_count": 39,
     "metadata": {},
     "output_type": "execute_result"
    }
   ],
   "source": [
    "df2 = df2.drop(columns=['imdb_id'])\n",
    "df2['overview'] = df2['overview'].fillna('Unknown')\n",
    "df2['spoken_languages'] = df2['spoken_languages'].fillna('Unknown')\n",
    "df2.isnull().sum()"
   ]
  },
  {
   "cell_type": "code",
   "execution_count": 40,
   "metadata": {},
   "outputs": [
    {
     "data": {
      "text/plain": [
       "(792403, 28)"
      ]
     },
     "execution_count": 40,
     "metadata": {},
     "output_type": "execute_result"
    }
   ],
   "source": [
    "df2 = df2.drop_duplicates(subset='title')\n",
    "df2.shape"
   ]
  },
  {
   "cell_type": "code",
   "execution_count": 41,
   "metadata": {},
   "outputs": [
    {
     "data": {
      "application/vnd.jupyter.widget-view+json": {
       "model_id": "4ea2da1a4df44eb58d5e41829708da11",
       "version_major": 2,
       "version_minor": 0
      },
      "text/plain": [
       "  0%|          | 0/792403 [00:00<?, ?it/s]"
      ]
     },
     "metadata": {},
     "output_type": "display_data"
    },
    {
     "name": "stdout",
     "output_type": "stream",
     "text": [
      "['Leonardo DiCaprio', 'Joseph Gordon-Levitt', 'Elliot Page', 'Ken Watanabe', 'Tim Kelleher', 'Silvie Laguna', 'Natasha Beaumont', 'Kraig Thornber', 'Jack Murray', 'Adam Cole', 'Claire Geare', 'Marion Cotillard', 'Magnus Nolan', 'Tai-Li Lee', 'Shannon Welles', 'Taylor Geare', 'Tom Berenger', 'Coralie Dedykere', 'Carl Gilliard', 'Miranda Nolan', 'Earl Cameron', 'Yuji Okumoto', 'Helena Cullinan', 'Nicolas Clerc', 'Andrew Pleavin', 'Alex Lombard', 'Mark Fleischmann', 'Michael Gaston', 'Marc Raducci', 'Jack Gilroy', 'Nicole Pulliam', 'Shelley Lang', 'Lukas Haas', 'Russ Fega', 'Felix Scott', 'Ryan Hayward', 'Cillian Murphy', 'Dileep Rao', 'Jill Maddrell', 'Jean-Michel Dagory', 'Jason Tendell', 'Virgile Bramly', 'Tom Hardy', 'Tohoru Masamune', 'Michael Caine', 'Talulah Riley', 'Angela Nathenson', 'Lisa Reynolds', 'Peter Basham', 'Daniel Girondeaud', 'Johnathan Geare', 'Pete Postlethwaite']\n"
     ]
    }
   ],
   "source": [
    "df2['actor_list'] = df2.progress_apply(lambda x: [x['Star1'], x['Star2'], x['Star3'], x['Star4']] + x['Cast_list'], axis=1)\n",
    "print(df2['actor_list'][0])"
   ]
  },
  {
   "cell_type": "code",
   "execution_count": 42,
   "metadata": {},
   "outputs": [
    {
     "data": {
      "text/plain": [
       "(709920, 29)"
      ]
     },
     "execution_count": 42,
     "metadata": {},
     "output_type": "execute_result"
    }
   ],
   "source": [
    "df2 = df2[df2['adult'] == False]\n",
    "df2 = df2[df2['status'] == 'Released']\n",
    "df2.shape"
   ]
  },
  {
   "cell_type": "code",
   "execution_count": 43,
   "metadata": {},
   "outputs": [
    {
     "data": {
      "application/vnd.jupyter.widget-view+json": {
       "model_id": "57ba16e5515144f0acb3685fa2138945",
       "version_major": 2,
       "version_minor": 0
      },
      "text/plain": [
       "  0%|          | 0/709920 [00:00<?, ?it/s]"
      ]
     },
     "metadata": {},
     "output_type": "display_data"
    }
   ],
   "source": [
    "df2['director'] = df2['Director'].progress_apply(lambda x: x.split(', '))\n",
    "df2['genre'] = df2['genres_list']"
   ]
  },
  {
   "cell_type": "code",
   "execution_count": 44,
   "metadata": {},
   "outputs": [
    {
     "data": {
      "text/plain": [
       "Index(['id', 'title', 'vote_average', 'vote_count', 'status', 'release_date',\n",
       "       'revenue', 'runtime', 'adult', 'budget', 'original_language',\n",
       "       'original_title', 'overview', 'popularity', 'production_companies',\n",
       "       'production_countries', 'spoken_languages', 'keywords', 'release_year',\n",
       "       'Director', 'Star1', 'Star2', 'Star3', 'Star4', 'genres_list',\n",
       "       'Cast_list', 'overview_sentiment', 'all_combined_keywords',\n",
       "       'actor_list', 'director', 'genre'],\n",
       "      dtype='object')"
      ]
     },
     "execution_count": 44,
     "metadata": {},
     "output_type": "execute_result"
    }
   ],
   "source": [
    "df2.columns"
   ]
  },
  {
   "cell_type": "code",
   "execution_count": 45,
   "metadata": {},
   "outputs": [
    {
     "data": {
      "application/vnd.jupyter.widget-view+json": {
       "model_id": "86fc21e243d5408e825009bee76722cf",
       "version_major": 2,
       "version_minor": 0
      },
      "text/plain": [
       "  0%|          | 0/709920 [00:00<?, ?it/s]"
      ]
     },
     "metadata": {},
     "output_type": "display_data"
    },
    {
     "data": {
      "application/vnd.jupyter.widget-view+json": {
       "model_id": "22c732a563d54951839689bc60aec172",
       "version_major": 2,
       "version_minor": 0
      },
      "text/plain": [
       "  0%|          | 0/709920 [00:00<?, ?it/s]"
      ]
     },
     "metadata": {},
     "output_type": "display_data"
    }
   ],
   "source": [
    "df2['production_companies'] = df2['production_companies'].progress_apply(lambda x: x.split(', '))\n",
    "df2['production_countries'] = df2['production_countries'].progress_apply(lambda x: x.split(', '))"
   ]
  },
  {
   "cell_type": "code",
   "execution_count": 46,
   "metadata": {},
   "outputs": [
    {
     "data": {
      "text/html": [
       "<div>\n",
       "<style scoped>\n",
       "    .dataframe tbody tr th:only-of-type {\n",
       "        vertical-align: middle;\n",
       "    }\n",
       "\n",
       "    .dataframe tbody tr th {\n",
       "        vertical-align: top;\n",
       "    }\n",
       "\n",
       "    .dataframe thead th {\n",
       "        text-align: right;\n",
       "    }\n",
       "</style>\n",
       "<table border=\"1\" class=\"dataframe\">\n",
       "  <thead>\n",
       "    <tr style=\"text-align: right;\">\n",
       "      <th></th>\n",
       "      <th>id</th>\n",
       "      <th>title</th>\n",
       "      <th>vote_average</th>\n",
       "      <th>vote_count</th>\n",
       "      <th>release_date</th>\n",
       "      <th>revenue</th>\n",
       "      <th>runtime</th>\n",
       "      <th>budget</th>\n",
       "      <th>original_language</th>\n",
       "      <th>popularity</th>\n",
       "      <th>production_companies</th>\n",
       "      <th>production_countries</th>\n",
       "      <th>keywords</th>\n",
       "      <th>overview_sentiment</th>\n",
       "      <th>actor_list</th>\n",
       "      <th>director</th>\n",
       "      <th>genre</th>\n",
       "    </tr>\n",
       "  </thead>\n",
       "  <tbody>\n",
       "    <tr>\n",
       "      <th>0</th>\n",
       "      <td>27205</td>\n",
       "      <td>Inception</td>\n",
       "      <td>8.364</td>\n",
       "      <td>34495</td>\n",
       "      <td>2010-07-15</td>\n",
       "      <td>825532764</td>\n",
       "      <td>148</td>\n",
       "      <td>160000000</td>\n",
       "      <td>en</td>\n",
       "      <td>83.952</td>\n",
       "      <td>[Legendary Pictures, Syncopy, Warner Bros. Pic...</td>\n",
       "      <td>[United Kingdom, United States of America]</td>\n",
       "      <td>[rescue, mission, dream, airplane, paris, fran...</td>\n",
       "      <td>-0.011111</td>\n",
       "      <td>[Leonardo DiCaprio, Joseph Gordon-Levitt, Elli...</td>\n",
       "      <td>[Christopher Nolan]</td>\n",
       "      <td>[Action, Science Fiction, Adventure]</td>\n",
       "    </tr>\n",
       "    <tr>\n",
       "      <th>1</th>\n",
       "      <td>157336</td>\n",
       "      <td>Interstellar</td>\n",
       "      <td>8.417</td>\n",
       "      <td>32571</td>\n",
       "      <td>2014-11-05</td>\n",
       "      <td>701729206</td>\n",
       "      <td>169</td>\n",
       "      <td>165000000</td>\n",
       "      <td>en</td>\n",
       "      <td>140.241</td>\n",
       "      <td>[Legendary Pictures, Syncopy, Lynda Obst Produ...</td>\n",
       "      <td>[United Kingdom, United States of America]</td>\n",
       "      <td>[rescue, future, spacecraft, race against time...</td>\n",
       "      <td>0.045455</td>\n",
       "      <td>[Matthew McConaughey, Anne Hathaway, Jessica C...</td>\n",
       "      <td>[Christopher Nolan]</td>\n",
       "      <td>[Adventure, Drama, Science Fiction]</td>\n",
       "    </tr>\n",
       "    <tr>\n",
       "      <th>2</th>\n",
       "      <td>155</td>\n",
       "      <td>The Dark Knight</td>\n",
       "      <td>8.512</td>\n",
       "      <td>30619</td>\n",
       "      <td>2008-07-16</td>\n",
       "      <td>1004558444</td>\n",
       "      <td>152</td>\n",
       "      <td>185000000</td>\n",
       "      <td>en</td>\n",
       "      <td>130.643</td>\n",
       "      <td>[DC Comics, Legendary Pictures, Syncopy, Isobe...</td>\n",
       "      <td>[United Kingdom, United States of America]</td>\n",
       "      <td>[joker, sadism, chaos, secret identity, crime ...</td>\n",
       "      <td>0.025000</td>\n",
       "      <td>[Christian Bale, Heath Ledger, Aaron Eckhart, ...</td>\n",
       "      <td>[Christopher Nolan]</td>\n",
       "      <td>[Drama, Action, Crime, Thriller]</td>\n",
       "    </tr>\n",
       "    <tr>\n",
       "      <th>3</th>\n",
       "      <td>19995</td>\n",
       "      <td>Avatar</td>\n",
       "      <td>7.573</td>\n",
       "      <td>29815</td>\n",
       "      <td>2009-12-15</td>\n",
       "      <td>2923706026</td>\n",
       "      <td>162</td>\n",
       "      <td>237000000</td>\n",
       "      <td>en</td>\n",
       "      <td>79.932</td>\n",
       "      <td>[Dune Entertainment, Lightstorm Entertainment,...</td>\n",
       "      <td>[United States of America, United Kingdom]</td>\n",
       "      <td>[future, society, culture clash, space travel,...</td>\n",
       "      <td>0.041667</td>\n",
       "      <td>[Sam Worthington, Zoe Saldana, Sigourney Weave...</td>\n",
       "      <td>[James Cameron]</td>\n",
       "      <td>[Action, Adventure, Fantasy, Science Fiction]</td>\n",
       "    </tr>\n",
       "    <tr>\n",
       "      <th>4</th>\n",
       "      <td>24428</td>\n",
       "      <td>The Avengers</td>\n",
       "      <td>7.710</td>\n",
       "      <td>29166</td>\n",
       "      <td>2012-04-25</td>\n",
       "      <td>1518815515</td>\n",
       "      <td>143</td>\n",
       "      <td>220000000</td>\n",
       "      <td>en</td>\n",
       "      <td>98.082</td>\n",
       "      <td>[Marvel Studios]</td>\n",
       "      <td>[United States of America]</td>\n",
       "      <td>[new york city, superhero, shield, based on co...</td>\n",
       "      <td>0.025000</td>\n",
       "      <td>[Robert Downey Jr., Chris Evans, Scarlett Joha...</td>\n",
       "      <td>[Joss Whedon]</td>\n",
       "      <td>[Science Fiction, Action, Adventure]</td>\n",
       "    </tr>\n",
       "  </tbody>\n",
       "</table>\n",
       "</div>"
      ],
      "text/plain": [
       "       id            title  vote_average  vote_count release_date     revenue  \\\n",
       "0   27205        Inception         8.364       34495   2010-07-15   825532764   \n",
       "1  157336     Interstellar         8.417       32571   2014-11-05   701729206   \n",
       "2     155  The Dark Knight         8.512       30619   2008-07-16  1004558444   \n",
       "3   19995           Avatar         7.573       29815   2009-12-15  2923706026   \n",
       "4   24428     The Avengers         7.710       29166   2012-04-25  1518815515   \n",
       "\n",
       "   runtime     budget original_language  popularity  \\\n",
       "0      148  160000000                en      83.952   \n",
       "1      169  165000000                en     140.241   \n",
       "2      152  185000000                en     130.643   \n",
       "3      162  237000000                en      79.932   \n",
       "4      143  220000000                en      98.082   \n",
       "\n",
       "                                production_companies  \\\n",
       "0  [Legendary Pictures, Syncopy, Warner Bros. Pic...   \n",
       "1  [Legendary Pictures, Syncopy, Lynda Obst Produ...   \n",
       "2  [DC Comics, Legendary Pictures, Syncopy, Isobe...   \n",
       "3  [Dune Entertainment, Lightstorm Entertainment,...   \n",
       "4                                   [Marvel Studios]   \n",
       "\n",
       "                         production_countries  \\\n",
       "0  [United Kingdom, United States of America]   \n",
       "1  [United Kingdom, United States of America]   \n",
       "2  [United Kingdom, United States of America]   \n",
       "3  [United States of America, United Kingdom]   \n",
       "4                  [United States of America]   \n",
       "\n",
       "                                            keywords  overview_sentiment  \\\n",
       "0  [rescue, mission, dream, airplane, paris, fran...           -0.011111   \n",
       "1  [rescue, future, spacecraft, race against time...            0.045455   \n",
       "2  [joker, sadism, chaos, secret identity, crime ...            0.025000   \n",
       "3  [future, society, culture clash, space travel,...            0.041667   \n",
       "4  [new york city, superhero, shield, based on co...            0.025000   \n",
       "\n",
       "                                          actor_list             director  \\\n",
       "0  [Leonardo DiCaprio, Joseph Gordon-Levitt, Elli...  [Christopher Nolan]   \n",
       "1  [Matthew McConaughey, Anne Hathaway, Jessica C...  [Christopher Nolan]   \n",
       "2  [Christian Bale, Heath Ledger, Aaron Eckhart, ...  [Christopher Nolan]   \n",
       "3  [Sam Worthington, Zoe Saldana, Sigourney Weave...      [James Cameron]   \n",
       "4  [Robert Downey Jr., Chris Evans, Scarlett Joha...        [Joss Whedon]   \n",
       "\n",
       "                                           genre  \n",
       "0           [Action, Science Fiction, Adventure]  \n",
       "1            [Adventure, Drama, Science Fiction]  \n",
       "2               [Drama, Action, Crime, Thriller]  \n",
       "3  [Action, Adventure, Fantasy, Science Fiction]  \n",
       "4           [Science Fiction, Action, Adventure]  "
      ]
     },
     "execution_count": 46,
     "metadata": {},
     "output_type": "execute_result"
    }
   ],
   "source": [
    "df2.drop(columns=['overview', 'original_title', 'all_combined_keywords', 'adult', 'status', 'release_year', 'spoken_languages', 'Star1', 'Star2', 'Star3', 'Star4', 'Director', 'Cast_list', 'genres_list'], inplace=True)\n",
    "df2.head()"
   ]
  },
  {
   "cell_type": "code",
   "execution_count": 47,
   "metadata": {},
   "outputs": [],
   "source": [
    "df2_1 = df2.copy()"
   ]
  },
  {
   "cell_type": "markdown",
   "metadata": {},
   "source": [
    "We will also further limit our dataset to contain the movies that have been voted for more than 100 times, just so that we know that they are relevant."
   ]
  },
  {
   "cell_type": "code",
   "execution_count": 48,
   "metadata": {},
   "outputs": [
    {
     "name": "stdout",
     "output_type": "stream",
     "text": [
      "(709920, 17)\n",
      "(17328, 17)\n"
     ]
    }
   ],
   "source": [
    "print(df2.shape)\n",
    "df2 = df2[df2['vote_count'] >= 100]\n",
    "print(df2.shape)"
   ]
  },
  {
   "cell_type": "markdown",
   "metadata": {},
   "source": [
    "We also want the movies to be relevant to this day and age. Thus, we will keep the movies from 2000 onwards."
   ]
  },
  {
   "cell_type": "code",
   "execution_count": 49,
   "metadata": {},
   "outputs": [
    {
     "name": "stdout",
     "output_type": "stream",
     "text": [
      "(17328, 17)\n",
      "(12173, 17)\n"
     ]
    }
   ],
   "source": [
    "print(df2.shape)\n",
    "df2 = df2[df2['release_date'] >= '2000-01-01']\n",
    "print(df2.shape)"
   ]
  },
  {
   "cell_type": "code",
   "execution_count": 57,
   "metadata": {},
   "outputs": [
    {
     "name": "stdout",
     "output_type": "stream",
     "text": [
      "(709920, 17)\n",
      "(454347, 17)\n"
     ]
    }
   ],
   "source": [
    "print(df2_1.shape)\n",
    "df2_1 = df2_1[df2_1['release_date'] >= '2000-01-01']\n",
    "print(df2_1.shape)"
   ]
  },
  {
   "cell_type": "code",
   "execution_count": 50,
   "metadata": {},
   "outputs": [
    {
     "data": {
      "text/plain": [
       "Index(['id', 'title', 'vote_average', 'vote_count', 'release_date', 'revenue',\n",
       "       'runtime', 'budget', 'original_language', 'popularity',\n",
       "       'production_companies', 'production_countries', 'keywords',\n",
       "       'overview_sentiment', 'actor_list', 'director', 'genre'],\n",
       "      dtype='object')"
      ]
     },
     "execution_count": 50,
     "metadata": {},
     "output_type": "execute_result"
    }
   ],
   "source": [
    "df3 = df2\n",
    "df3.columns"
   ]
  },
  {
   "cell_type": "markdown",
   "metadata": {},
   "source": [
    "### Row Expansion"
   ]
  },
  {
   "cell_type": "code",
   "execution_count": 51,
   "metadata": {},
   "outputs": [
    {
     "data": {
      "text/plain": [
       "(12173, 17)"
      ]
     },
     "execution_count": 51,
     "metadata": {},
     "output_type": "execute_result"
    }
   ],
   "source": [
    "df3.shape"
   ]
  },
  {
   "cell_type": "code",
   "execution_count": 52,
   "metadata": {},
   "outputs": [
    {
     "data": {
      "application/vnd.jupyter.widget-view+json": {
       "model_id": "8266799ee9b34e2d8fbe37f2168e3e3d",
       "version_major": 2,
       "version_minor": 0
      },
      "text/plain": [
       "  0%|          | 0/17 [00:00<?, ?it/s]"
      ]
     },
     "metadata": {},
     "output_type": "display_data"
    },
    {
     "name": "stdout",
     "output_type": "stream",
     "text": [
      "id: <class 'numpy.int64'>, 27205\n",
      "title: <class 'str'>, Inception\n",
      "vote_average: <class 'numpy.float64'>, 8.364\n",
      "vote_count: <class 'numpy.int64'>, 34495\n",
      "release_date: <class 'pandas._libs.tslibs.timestamps.Timestamp'>, 2010-07-15 00:00:00\n",
      "revenue: <class 'numpy.int64'>, 825532764\n",
      "runtime: <class 'numpy.int64'>, 148\n",
      "budget: <class 'numpy.int64'>, 160000000\n",
      "original_language: <class 'str'>, en\n",
      "popularity: <class 'numpy.float64'>, 83.952\n",
      "production_companies: <class 'list'>, ['Legendary Pictures', 'Syncopy', 'Warner Bros. Pictures']\n",
      "production_countries: <class 'list'>, ['United Kingdom', 'United States of America']\n",
      "keywords: <class 'list'>, ['rescue', 'mission', 'dream', 'airplane', 'paris', 'france', 'virtual reality', 'kidnapping', 'philosophy', 'spy', 'allegory', 'manipulation', 'car crash', 'heist', 'memory', 'architecture', 'los angeles', 'california', 'dream world', 'subconscious']\n",
      "overview_sentiment: <class 'numpy.float64'>, -0.0111111111111111\n",
      "actor_list: <class 'list'>, ['Leonardo DiCaprio', 'Joseph Gordon-Levitt', 'Elliot Page', 'Ken Watanabe', 'Tim Kelleher', 'Silvie Laguna', 'Natasha Beaumont', 'Kraig Thornber', 'Jack Murray', 'Adam Cole', 'Claire Geare', 'Marion Cotillard', 'Magnus Nolan', 'Tai-Li Lee', 'Shannon Welles', 'Taylor Geare', 'Tom Berenger', 'Coralie Dedykere', 'Carl Gilliard', 'Miranda Nolan', 'Earl Cameron', 'Yuji Okumoto', 'Helena Cullinan', 'Nicolas Clerc', 'Andrew Pleavin', 'Alex Lombard', 'Mark Fleischmann', 'Michael Gaston', 'Marc Raducci', 'Jack Gilroy', 'Nicole Pulliam', 'Shelley Lang', 'Lukas Haas', 'Russ Fega', 'Felix Scott', 'Ryan Hayward', 'Cillian Murphy', 'Dileep Rao', 'Jill Maddrell', 'Jean-Michel Dagory', 'Jason Tendell', 'Virgile Bramly', 'Tom Hardy', 'Tohoru Masamune', 'Michael Caine', 'Talulah Riley', 'Angela Nathenson', 'Lisa Reynolds', 'Peter Basham', 'Daniel Girondeaud', 'Johnathan Geare', 'Pete Postlethwaite']\n",
      "director: <class 'list'>, ['Christopher Nolan']\n",
      "genre: <class 'list'>, ['Action', 'Science Fiction', 'Adventure']\n"
     ]
    }
   ],
   "source": [
    "for i in tqdm(df3.columns):\n",
    "    print(f'{i}: {type(df3[i][0])}, {df3[i][0]}')"
   ]
  },
  {
   "cell_type": "code",
   "execution_count": 53,
   "metadata": {},
   "outputs": [
    {
     "data": {
      "text/plain": [
       "(43174834, 17)"
      ]
     },
     "execution_count": 53,
     "metadata": {},
     "output_type": "execute_result"
    }
   ],
   "source": [
    "df3 = df3.explode('production_companies').explode('production_countries').explode('keywords').explode('actor_list').explode('director').explode('genre')\n",
    "df3.shape"
   ]
  },
  {
   "cell_type": "code",
   "execution_count": 54,
   "metadata": {},
   "outputs": [
    {
     "data": {
      "text/html": [
       "<div>\n",
       "<style scoped>\n",
       "    .dataframe tbody tr th:only-of-type {\n",
       "        vertical-align: middle;\n",
       "    }\n",
       "\n",
       "    .dataframe tbody tr th {\n",
       "        vertical-align: top;\n",
       "    }\n",
       "\n",
       "    .dataframe thead th {\n",
       "        text-align: right;\n",
       "    }\n",
       "</style>\n",
       "<table border=\"1\" class=\"dataframe\">\n",
       "  <thead>\n",
       "    <tr style=\"text-align: right;\">\n",
       "      <th></th>\n",
       "      <th>id</th>\n",
       "      <th>title</th>\n",
       "      <th>vote_average</th>\n",
       "      <th>vote_count</th>\n",
       "      <th>release_date</th>\n",
       "      <th>revenue</th>\n",
       "      <th>runtime</th>\n",
       "      <th>budget</th>\n",
       "      <th>original_language</th>\n",
       "      <th>popularity</th>\n",
       "      <th>production_companies</th>\n",
       "      <th>production_countries</th>\n",
       "      <th>keywords</th>\n",
       "      <th>overview_sentiment</th>\n",
       "      <th>actor_list</th>\n",
       "      <th>director</th>\n",
       "      <th>genre</th>\n",
       "    </tr>\n",
       "  </thead>\n",
       "  <tbody>\n",
       "    <tr>\n",
       "      <th>0</th>\n",
       "      <td>27205</td>\n",
       "      <td>Inception</td>\n",
       "      <td>8.364</td>\n",
       "      <td>34495</td>\n",
       "      <td>2010-07-15</td>\n",
       "      <td>825532764</td>\n",
       "      <td>148</td>\n",
       "      <td>160000000</td>\n",
       "      <td>en</td>\n",
       "      <td>83.952</td>\n",
       "      <td>Legendary Pictures</td>\n",
       "      <td>United Kingdom</td>\n",
       "      <td>rescue</td>\n",
       "      <td>-0.011111</td>\n",
       "      <td>Leonardo DiCaprio</td>\n",
       "      <td>Christopher Nolan</td>\n",
       "      <td>Action</td>\n",
       "    </tr>\n",
       "    <tr>\n",
       "      <th>0</th>\n",
       "      <td>27205</td>\n",
       "      <td>Inception</td>\n",
       "      <td>8.364</td>\n",
       "      <td>34495</td>\n",
       "      <td>2010-07-15</td>\n",
       "      <td>825532764</td>\n",
       "      <td>148</td>\n",
       "      <td>160000000</td>\n",
       "      <td>en</td>\n",
       "      <td>83.952</td>\n",
       "      <td>Legendary Pictures</td>\n",
       "      <td>United Kingdom</td>\n",
       "      <td>rescue</td>\n",
       "      <td>-0.011111</td>\n",
       "      <td>Leonardo DiCaprio</td>\n",
       "      <td>Christopher Nolan</td>\n",
       "      <td>Science Fiction</td>\n",
       "    </tr>\n",
       "    <tr>\n",
       "      <th>0</th>\n",
       "      <td>27205</td>\n",
       "      <td>Inception</td>\n",
       "      <td>8.364</td>\n",
       "      <td>34495</td>\n",
       "      <td>2010-07-15</td>\n",
       "      <td>825532764</td>\n",
       "      <td>148</td>\n",
       "      <td>160000000</td>\n",
       "      <td>en</td>\n",
       "      <td>83.952</td>\n",
       "      <td>Legendary Pictures</td>\n",
       "      <td>United Kingdom</td>\n",
       "      <td>rescue</td>\n",
       "      <td>-0.011111</td>\n",
       "      <td>Leonardo DiCaprio</td>\n",
       "      <td>Christopher Nolan</td>\n",
       "      <td>Adventure</td>\n",
       "    </tr>\n",
       "    <tr>\n",
       "      <th>0</th>\n",
       "      <td>27205</td>\n",
       "      <td>Inception</td>\n",
       "      <td>8.364</td>\n",
       "      <td>34495</td>\n",
       "      <td>2010-07-15</td>\n",
       "      <td>825532764</td>\n",
       "      <td>148</td>\n",
       "      <td>160000000</td>\n",
       "      <td>en</td>\n",
       "      <td>83.952</td>\n",
       "      <td>Legendary Pictures</td>\n",
       "      <td>United Kingdom</td>\n",
       "      <td>rescue</td>\n",
       "      <td>-0.011111</td>\n",
       "      <td>Joseph Gordon-Levitt</td>\n",
       "      <td>Christopher Nolan</td>\n",
       "      <td>Action</td>\n",
       "    </tr>\n",
       "    <tr>\n",
       "      <th>0</th>\n",
       "      <td>27205</td>\n",
       "      <td>Inception</td>\n",
       "      <td>8.364</td>\n",
       "      <td>34495</td>\n",
       "      <td>2010-07-15</td>\n",
       "      <td>825532764</td>\n",
       "      <td>148</td>\n",
       "      <td>160000000</td>\n",
       "      <td>en</td>\n",
       "      <td>83.952</td>\n",
       "      <td>Legendary Pictures</td>\n",
       "      <td>United Kingdom</td>\n",
       "      <td>rescue</td>\n",
       "      <td>-0.011111</td>\n",
       "      <td>Joseph Gordon-Levitt</td>\n",
       "      <td>Christopher Nolan</td>\n",
       "      <td>Science Fiction</td>\n",
       "    </tr>\n",
       "  </tbody>\n",
       "</table>\n",
       "</div>"
      ],
      "text/plain": [
       "      id      title  vote_average  vote_count release_date    revenue  \\\n",
       "0  27205  Inception         8.364       34495   2010-07-15  825532764   \n",
       "0  27205  Inception         8.364       34495   2010-07-15  825532764   \n",
       "0  27205  Inception         8.364       34495   2010-07-15  825532764   \n",
       "0  27205  Inception         8.364       34495   2010-07-15  825532764   \n",
       "0  27205  Inception         8.364       34495   2010-07-15  825532764   \n",
       "\n",
       "   runtime     budget original_language  popularity production_companies  \\\n",
       "0      148  160000000                en      83.952   Legendary Pictures   \n",
       "0      148  160000000                en      83.952   Legendary Pictures   \n",
       "0      148  160000000                en      83.952   Legendary Pictures   \n",
       "0      148  160000000                en      83.952   Legendary Pictures   \n",
       "0      148  160000000                en      83.952   Legendary Pictures   \n",
       "\n",
       "  production_countries keywords  overview_sentiment            actor_list  \\\n",
       "0       United Kingdom   rescue           -0.011111     Leonardo DiCaprio   \n",
       "0       United Kingdom   rescue           -0.011111     Leonardo DiCaprio   \n",
       "0       United Kingdom   rescue           -0.011111     Leonardo DiCaprio   \n",
       "0       United Kingdom   rescue           -0.011111  Joseph Gordon-Levitt   \n",
       "0       United Kingdom   rescue           -0.011111  Joseph Gordon-Levitt   \n",
       "\n",
       "            director            genre  \n",
       "0  Christopher Nolan           Action  \n",
       "0  Christopher Nolan  Science Fiction  \n",
       "0  Christopher Nolan        Adventure  \n",
       "0  Christopher Nolan           Action  \n",
       "0  Christopher Nolan  Science Fiction  "
      ]
     },
     "execution_count": 54,
     "metadata": {},
     "output_type": "execute_result"
    }
   ],
   "source": [
    "df3.head()"
   ]
  },
  {
   "cell_type": "markdown",
   "metadata": {},
   "source": [
    "### Export Data"
   ]
  },
  {
   "cell_type": "code",
   "execution_count": 55,
   "metadata": {},
   "outputs": [],
   "source": [
    "df2.to_csv('../data/imdb_tmdb_cleaned.csv', index=False)"
   ]
  },
  {
   "cell_type": "code",
   "execution_count": 56,
   "metadata": {},
   "outputs": [],
   "source": [
    "df3.to_csv('../data/imdb_imdb_tableau.csv', index=False)"
   ]
  },
  {
   "cell_type": "code",
   "execution_count": 59,
   "metadata": {},
   "outputs": [],
   "source": [
    "df2_1.to_csv('../data/imdb_tmdb_cleaned_w|o_filtering.csv', index=False)"
   ]
  },
  {
   "cell_type": "code",
   "execution_count": 104,
   "metadata": {},
   "outputs": [],
   "source": [
    "# # Open the file in write mode\n",
    "# with open('../data/imdb_tmdb_cleaned.csv', 'w', newline='', encoding='utf-8') as f:\n",
    "#     # Write the header first\n",
    "#     df3.iloc[:0].to_csv(f, index=False)\n",
    "    \n",
    "#     # Use tqdm to track the progress of writing rows to CSV\n",
    "#     for i in tqdm(range(0, len(df3))):\n",
    "#         df3.iloc[[i]].to_csv(f, header=False, index=False)"
   ]
  }
 ],
 "metadata": {
  "kernelspec": {
   "display_name": "conda_env",
   "language": "python",
   "name": "python3"
  },
  "language_info": {
   "codemirror_mode": {
    "name": "ipython",
    "version": 3
   },
   "file_extension": ".py",
   "mimetype": "text/x-python",
   "name": "python",
   "nbconvert_exporter": "python",
   "pygments_lexer": "ipython3",
   "version": "3.11.10"
  }
 },
 "nbformat": 4,
 "nbformat_minor": 2
}
