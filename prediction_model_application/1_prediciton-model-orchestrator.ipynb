{
 "cells": [
  {
   "cell_type": "markdown",
   "metadata": {},
   "source": [
    "# Movie Analytics Orchestrator\n",
    "\n",
    "This notebook orchestrates the movie analytics workflow, allowing you to:\n",
    "1. Train the model\n",
    "2. Predict success metrics for given budget and genres\n",
    "3. Predict ideal budget and genres for desired metrics"
   ]
  },
  {
   "cell_type": "code",
   "execution_count": null,
   "metadata": {},
   "outputs": [],
   "source": [
    "import os\n",
    "import json\n",
    "import nbformat\n",
    "from nbconvert.preprocessors import ExecutePreprocessor\n",
    "from IPython.display import clear_output"
   ]
  },
  {
   "cell_type": "code",
   "execution_count": null,
   "metadata": {},
   "outputs": [],
   "source": [
    "budget = 100000000\n",
    "genres = ['Action', 'Adventure']\n",
    "\n",
    "desired_revenue = 30000000\n",
    "desired_popularity = 40"
   ]
  },
  {
   "cell_type": "code",
   "execution_count": 12,
   "metadata": {},
   "outputs": [],
   "source": [
    "input = {\n",
    "    'budget': budget,\n",
    "    'genres': genres,\n",
    "    'desired_revenue': desired_revenue,\n",
    "    'desired_popularity': desired_popularity\n",
    "}\n",
    "with open('input.json', 'w') as f:\n",
    "    json.dump(input, f)"
   ]
  },
  {
   "cell_type": "code",
   "execution_count": null,
   "metadata": {},
   "outputs": [],
   "source": [
    "class MovieAnalytics:\n",
    "    def __init__(self):\n",
    "        self.models_dir = 'models'\n",
    "        if not os.path.exists(self.models_dir):\n",
    "            os.makedirs(self.models_dir)\n",
    "    \n",
    "    def execute_notebook(self, notebook_path, parameters=None):\n",
    "        with open(notebook_path) as f:\n",
    "            nb = nbformat.read(f, as_version=4)\n",
    "        \n",
    "        if parameters:\n",
    "            parameter_cell = {\n",
    "                'cell_type': 'code',\n",
    "                'metadata': {},\n",
    "                'source': '\\n'.join([f'{k} = {v}' for k, v in parameters.items()])\n",
    "            }\n",
    "            nb.cells.insert(1, nbformat.from_dict(parameter_cell))\n",
    "        \n",
    "        ep = ExecutePreprocessor(timeout=600, kernel_name='python3')\n",
    "        ep.preprocess(nb, {'metadata': {'path': './'}})\n",
    "        \n",
    "        clear_output()\n",
    "        return nb\n",
    "    \n",
    "    def train_model(self):\n",
    "        print(\"Training model...\")\n",
    "        self.execute_notebook('2_model-training.ipynb')\n",
    "        print(\"Model training completed successfully!\")\n",
    "        return\n",
    "    \n",
    "    def predict_success(self, budget, genres):\n",
    "        print(f\"Predicting success for ${budget:,} budget with genres {genres}...\")\n",
    "        parameters = {\n",
    "            'budget': budget,\n",
    "            'desired_genres': genres\n",
    "        }\n",
    "        self.execute_notebook('3_predict-success.ipynb', parameters)\n",
    "        print(\"Prediction completed successfully!\")\n",
    "        with open('results/predicted_success_output.json', 'r') as f:\n",
    "            predictions = json.load(f)\n",
    "        print('Predicted revenue: $%.2f' % predictions['expected_revenue'])\n",
    "        print('Predicted popularity: %.2f' % predictions['expected_popularity'])\n",
    "        return\n",
    "    \n",
    "    def predict_parameters(self, desired_revenue, desired_popularity):\n",
    "        print(f\"Predicting budget for ${desired_revenue:,} revenue and {desired_popularity} popularity...\")\n",
    "        parameters = {\n",
    "            'desired_revenue': desired_revenue,\n",
    "            'desired_popularity': desired_popularity\n",
    "        }\n",
    "        self.execute_notebook('4_predict-parameters.ipynb', parameters)\n",
    "        print(\"Prediction completed successfully!\")\n",
    "        with open('results/predicted_parameters_output.json', 'r') as f:\n",
    "            predictions = json.load(f)\n",
    "        print('Estimated budget: $%.2f' % predictions['ideal_budget'])\n",
    "        print('Suggested genres:', predictions['suggested_genres'])\n",
    "        return "
   ]
  },
  {
   "cell_type": "code",
   "execution_count": 14,
   "metadata": {},
   "outputs": [],
   "source": [
    "# Initialize the MovieAnalytics class\n",
    "analytics = MovieAnalytics()"
   ]
  },
  {
   "cell_type": "markdown",
   "metadata": {},
   "source": [
    "## 1. Train the Model\n",
    "Run this cell to train the model if you haven't already or want to retrain it."
   ]
  },
  {
   "cell_type": "code",
   "execution_count": 15,
   "metadata": {},
   "outputs": [
    {
     "name": "stdout",
     "output_type": "stream",
     "text": [
      "Model training completed successfully!\n"
     ]
    }
   ],
   "source": [
    "analytics.train_model()"
   ]
  },
  {
   "cell_type": "markdown",
   "metadata": {},
   "source": [
    "## 2. Predict Success Metrics\n",
    "Predict expected revenue and popularity for a given budget and genres."
   ]
  },
  {
   "cell_type": "code",
   "execution_count": 16,
   "metadata": {},
   "outputs": [
    {
     "name": "stdout",
     "output_type": "stream",
     "text": [
      "Prediction completed successfully!\n",
      "Predicted revenue: $297526464.36\n",
      "Predicted popularity: 40.13\n"
     ]
    }
   ],
   "source": [
    "analytics.predict_success(budget, genres)"
   ]
  },
  {
   "cell_type": "markdown",
   "metadata": {},
   "source": [
    "## 3. Predict Ideal Parameters\n",
    "Predict the ideal budget and suggest genres for desired revenue and popularity metrics."
   ]
  },
  {
   "cell_type": "code",
   "execution_count": 17,
   "metadata": {},
   "outputs": [
    {
     "name": "stdout",
     "output_type": "stream",
     "text": [
      "Prediction completed successfully!\n",
      "Estimated budget: $11652576.60\n",
      "Suggested genres: ['Action', 'Science Fiction', 'Adventure']\n"
     ]
    }
   ],
   "source": [
    "analytics.predict_parameters(desired_revenue, desired_popularity)"
   ]
  }
 ],
 "metadata": {
  "kernelspec": {
   "display_name": "conda_env",
   "language": "python",
   "name": "python3"
  },
  "language_info": {
   "codemirror_mode": {
    "name": "ipython",
    "version": 3
   },
   "file_extension": ".py",
   "mimetype": "text/x-python",
   "name": "python",
   "nbconvert_exporter": "python",
   "pygments_lexer": "ipython3",
   "version": "3.11.10"
  }
 },
 "nbformat": 4,
 "nbformat_minor": 2
}
