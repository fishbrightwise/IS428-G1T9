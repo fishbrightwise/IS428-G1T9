{
 "cells": [
  {
   "cell_type": "markdown",
   "metadata": {},
   "source": [
    "# Movie Business Success Model Training\n",
    "This notebook handles data preprocessing and model training for predicting movie success metrics."
   ]
  },
  {
   "cell_type": "code",
   "execution_count": 17,
   "metadata": {},
   "outputs": [],
   "source": [
    "import pandas as pd\n",
    "import numpy as np\n",
    "import ast\n",
    "from sklearn.preprocessing import MinMaxScaler\n",
    "from sklearn.decomposition import PCA\n",
    "from sklearn.preprocessing import MultiLabelBinarizer\n",
    "from sklearn.model_selection import train_test_split\n",
    "from sklearn.linear_model import LinearRegression\n",
    "from sklearn.metrics import mean_squared_error, mean_absolute_percentage_error, r2_score\n",
    "import warnings\n",
    "import joblib\n",
    "import os\n",
    "warnings.filterwarnings('ignore')"
   ]
  },
  {
   "cell_type": "code",
   "execution_count": 18,
   "metadata": {},
   "outputs": [],
   "source": [
    "# Load and process data\n",
    "df = pd.DataFrame(pd.read_csv('../data/imdb_tmdb_regression.csv'))\n",
    "\n",
    "# Process nested columns\n",
    "nested_columns = ['production_companies', 'production_countries', 'keywords', \n",
    "                 'actor_list', 'director', 'genre']\n",
    "\n",
    "for col in nested_columns:\n",
    "    df[col] = df[col].apply(ast.literal_eval)"
   ]
  },
  {
   "cell_type": "code",
   "execution_count": 19,
   "metadata": {},
   "outputs": [],
   "source": [
    "# Extract date components and filter runtime\n",
    "df['month'] = df['release_date'].apply(lambda x: x.split('-')[1])\n",
    "df['day'] = df['release_date'].apply(lambda x: x.split('-')[2])\n",
    "df.drop(columns=['release_date'], inplace=True)\n",
    "df = df[df['runtime'] <= 300]"
   ]
  },
  {
   "cell_type": "code",
   "execution_count": 28,
   "metadata": {},
   "outputs": [],
   "source": [
    "# PCA for revenue and popularity\n",
    "pca_features = df[['popularity', 'revenue']]\n",
    "pca_scaler = MinMaxScaler()\n",
    "pca_features_scaled = pca_scaler.fit_transform(pca_features)\n",
    "df['runtime'] = MinMaxScaler().fit_transform(df[['runtime']])\n",
    "\n",
    "pca = PCA()\n",
    "pca_result = pca.fit_transform(pca_features_scaled)\n",
    "explained_variance = pca.explained_variance_ratio_\n",
    "df['pca'] = pca_result[:, 0]"
   ]
  },
  {
   "cell_type": "code",
   "execution_count": 21,
   "metadata": {},
   "outputs": [],
   "source": [
    "# Scale budget\n",
    "budget_scaler = MinMaxScaler()\n",
    "df['budget'] = budget_scaler.fit_transform(df[['budget']])"
   ]
  },
  {
   "cell_type": "code",
   "execution_count": 22,
   "metadata": {},
   "outputs": [],
   "source": [
    "# Process genres\n",
    "mlb = MultiLabelBinarizer()\n",
    "df['genre'] = df['genre'].apply(lambda genres: [g for g in genres if g not in ['Unknown', 'TV Movie']])\n",
    "encoded_genres = pd.DataFrame(mlb.fit_transform(df['genre']), \n",
    "                            columns=mlb.classes_, \n",
    "                            index=df.index)\n",
    "df = pd.concat([df, encoded_genres], axis=1)\n",
    "\n",
    "# Drop unnecessary columns\n",
    "columns_to_drop = ['genre', 'production_companies', \n",
    "                   'production_countries', 'keywords', 'actor_list', 'director',\n",
    "                   'original_language', 'month', 'day']\n",
    "df.drop(columns=columns_to_drop, inplace=True)"
   ]
  },
  {
   "cell_type": "code",
   "execution_count": 23,
   "metadata": {},
   "outputs": [],
   "source": [
    "# Prepare features for model\n",
    "X = df.drop(columns=['id', 'title', 'vote_count', 'pca', 'runtime', \n",
    "                     'overview_sentiment', 'vote_average', 'revenue', 'popularity'])\n",
    "y = df[['pca']]"
   ]
  },
  {
   "cell_type": "code",
   "execution_count": 24,
   "metadata": {},
   "outputs": [],
   "source": [
    "# Train model\n",
    "X_train, X_test, y_train, y_test = train_test_split(X, y, test_size=0.2, random_state=42)\n",
    "linear_regressor = LinearRegression()\n",
    "linear_regressor.fit(X_train, y_train)\n",
    "\n",
    "# Save training data for genre suggestions\n",
    "X_train.to_csv('../data/processed_features.csv', index=False)"
   ]
  },
  {
   "cell_type": "code",
   "execution_count": null,
   "metadata": {},
   "outputs": [
    {
     "data": {
      "text/plain": [
       "['models/multilabel_binarizer.joblib']"
      ]
     },
     "execution_count": 25,
     "metadata": {},
     "output_type": "execute_result"
    }
   ],
   "source": [
    "# Save models and scalers\n",
    "if not os.path.exists('models'):\n",
    "    os.makedirs('models')\n",
    "\n",
    "joblib.dump(linear_regressor, 'models/linear_regressor.joblib')\n",
    "joblib.dump(pca_scaler, 'models/pca_scaler.joblib')\n",
    "joblib.dump(budget_scaler, 'models/budget_scaler.joblib')\n",
    "joblib.dump(pca, 'models/pca.joblib')\n",
    "joblib.dump(mlb, 'models/multilabel_binarizer.joblib')"
   ]
  },
  {
   "cell_type": "code",
   "execution_count": 26,
   "metadata": {},
   "outputs": [
    {
     "name": "stdout",
     "output_type": "stream",
     "text": [
      "Mean Squared Error: 3.955664108119022e-05\n",
      "RMSE: 0.006289407053227691\n",
      "MAPE: 1.2727541740087815\n",
      "R²: 0.48795302392004936\n"
     ]
    }
   ],
   "source": [
    "# Evaluate model\n",
    "y_pred = linear_regressor.predict(X_test)\n",
    "print(f\"Mean Squared Error: {mean_squared_error(y_test, y_pred)}\")\n",
    "print(f\"RMSE: {np.sqrt(mean_squared_error(y_test, y_pred))}\")\n",
    "print(f\"MAPE: {mean_absolute_percentage_error(y_test, y_pred)}\")\n",
    "print(f\"R²: {r2_score(y_test, y_pred)}\")"
   ]
  }
 ],
 "metadata": {
  "kernelspec": {
   "display_name": "conda_env",
   "language": "python",
   "name": "python3"
  },
  "language_info": {
   "codemirror_mode": {
    "name": "ipython",
    "version": 3
   },
   "file_extension": ".py",
   "mimetype": "text/x-python",
   "name": "python",
   "nbconvert_exporter": "python",
   "pygments_lexer": "ipython3",
   "version": "3.11.10"
  }
 },
 "nbformat": 4,
 "nbformat_minor": 2
}
