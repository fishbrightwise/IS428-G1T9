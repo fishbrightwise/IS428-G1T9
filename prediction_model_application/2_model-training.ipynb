{
 "cells": [
  {
   "cell_type": "markdown",
   "metadata": {},
   "source": [
    "# Movie Business Success Model Training\n",
    "This notebook handles data preprocessing and model training for predicting movie success metrics."
   ]
  },
  {
   "cell_type": "code",
   "execution_count": 45,
   "metadata": {},
   "outputs": [],
   "source": [
    "import pandas as pd\n",
    "import numpy as np\n",
    "import ast\n",
    "from sklearn.preprocessing import MinMaxScaler\n",
    "from sklearn.decomposition import PCA\n",
    "from sklearn.preprocessing import MultiLabelBinarizer\n",
    "from sklearn.model_selection import train_test_split\n",
    "from sklearn.linear_model import LinearRegression\n",
    "from sklearn.metrics import mean_squared_error, mean_absolute_percentage_error, r2_score\n",
    "import warnings\n",
    "import joblib\n",
    "import os\n",
    "warnings.filterwarnings('ignore')"
   ]
  },
  {
   "cell_type": "code",
   "execution_count": 46,
   "metadata": {},
   "outputs": [],
   "source": [
    "# Load and process data\n",
    "df = pd.DataFrame(pd.read_csv('../data/imdb_tmdb_regression.csv'))\n",
    "\n",
    "# Process nested columns\n",
    "nested_columns = ['production_companies', 'production_countries', 'keywords', \n",
    "                 'actor_list', 'director', 'genre']\n",
    "\n",
    "for col in nested_columns:\n",
    "    df[col] = df[col].apply(ast.literal_eval)"
   ]
  },
  {
   "cell_type": "code",
   "execution_count": 47,
   "metadata": {},
   "outputs": [],
   "source": [
    "# Extract date components and filter runtime\n",
    "df['month'] = df['release_date'].apply(lambda x: x.split('-')[1])\n",
    "df['day'] = df['release_date'].apply(lambda x: x.split('-')[2])\n",
    "df.drop(columns=['release_date'], inplace=True)\n",
    "df = df[df['runtime'] <= 300]"
   ]
  },
  {
   "cell_type": "code",
   "execution_count": 48,
   "metadata": {},
   "outputs": [],
   "source": [
    "# PCA for revenue and popularity\n",
    "pca_features = df[['popularity', 'revenue']]\n",
    "pca_scaler = MinMaxScaler()\n",
    "pca_features_scaled = pca_scaler.fit_transform(pca_features)\n",
    "df['runtime'] = MinMaxScaler().fit_transform(df[['runtime']])\n",
    "\n",
    "pca = PCA()\n",
    "pca_result = pca.fit_transform(pca_features_scaled)\n",
    "explained_variance = pca.explained_variance_ratio_\n",
    "df['pca'] = pca_result[:, 0]"
   ]
  },
  {
   "cell_type": "code",
   "execution_count": 49,
   "metadata": {},
   "outputs": [],
   "source": [
    "# Scale budget\n",
    "budget_scaler = MinMaxScaler()\n",
    "df['budget'] = budget_scaler.fit_transform(df[['budget']])"
   ]
  },
  {
   "cell_type": "code",
   "execution_count": 50,
   "metadata": {},
   "outputs": [],
   "source": [
    "# Process genres\n",
    "mlb = MultiLabelBinarizer()\n",
    "df['genre'] = df['genre'].apply(lambda genres: [g for g in genres if g not in ['Unknown', 'TV Movie']])\n",
    "encoded_genres = pd.DataFrame(mlb.fit_transform(df['genre']), \n",
    "                            columns=mlb.classes_, \n",
    "                            index=df.index)\n",
    "df = pd.concat([df, encoded_genres], axis=1)\n",
    "\n",
    "# Drop unnecessary columns\n",
    "columns_to_drop = ['genre', 'production_companies', \n",
    "                   'production_countries', 'keywords', 'actor_list', 'director',\n",
    "                   'original_language', 'month', 'day']\n",
    "df.drop(columns=columns_to_drop, inplace=True)"
   ]
  },
  {
   "cell_type": "code",
   "execution_count": 51,
   "metadata": {},
   "outputs": [],
   "source": [
    "# Prepare features for model\n",
    "X = df.drop(columns=['id', 'title', 'vote_count', 'pca', 'runtime', \n",
    "                     'overview_sentiment', 'vote_average', 'revenue', 'popularity'])\n",
    "y = df[['pca']]"
   ]
  },
  {
   "cell_type": "code",
   "execution_count": 52,
   "metadata": {},
   "outputs": [
    {
     "data": {
      "text/html": [
       "<div>\n",
       "<style scoped>\n",
       "    .dataframe tbody tr th:only-of-type {\n",
       "        vertical-align: middle;\n",
       "    }\n",
       "\n",
       "    .dataframe tbody tr th {\n",
       "        vertical-align: top;\n",
       "    }\n",
       "\n",
       "    .dataframe thead th {\n",
       "        text-align: right;\n",
       "    }\n",
       "</style>\n",
       "<table border=\"1\" class=\"dataframe\">\n",
       "  <thead>\n",
       "    <tr style=\"text-align: right;\">\n",
       "      <th></th>\n",
       "      <th>budget</th>\n",
       "      <th>Action</th>\n",
       "      <th>Adventure</th>\n",
       "      <th>Animation</th>\n",
       "      <th>Comedy</th>\n",
       "      <th>Crime</th>\n",
       "      <th>Documentary</th>\n",
       "      <th>Drama</th>\n",
       "      <th>Family</th>\n",
       "      <th>Fantasy</th>\n",
       "      <th>History</th>\n",
       "      <th>Horror</th>\n",
       "      <th>Music</th>\n",
       "      <th>Mystery</th>\n",
       "      <th>Romance</th>\n",
       "      <th>Science Fiction</th>\n",
       "      <th>Thriller</th>\n",
       "      <th>War</th>\n",
       "      <th>Western</th>\n",
       "    </tr>\n",
       "  </thead>\n",
       "  <tbody>\n",
       "    <tr>\n",
       "      <th>0</th>\n",
       "      <td>0.180180</td>\n",
       "      <td>1</td>\n",
       "      <td>1</td>\n",
       "      <td>0</td>\n",
       "      <td>0</td>\n",
       "      <td>0</td>\n",
       "      <td>0</td>\n",
       "      <td>0</td>\n",
       "      <td>0</td>\n",
       "      <td>0</td>\n",
       "      <td>0</td>\n",
       "      <td>0</td>\n",
       "      <td>0</td>\n",
       "      <td>0</td>\n",
       "      <td>0</td>\n",
       "      <td>1</td>\n",
       "      <td>0</td>\n",
       "      <td>0</td>\n",
       "      <td>0</td>\n",
       "    </tr>\n",
       "    <tr>\n",
       "      <th>1</th>\n",
       "      <td>0.185811</td>\n",
       "      <td>0</td>\n",
       "      <td>1</td>\n",
       "      <td>0</td>\n",
       "      <td>0</td>\n",
       "      <td>0</td>\n",
       "      <td>0</td>\n",
       "      <td>1</td>\n",
       "      <td>0</td>\n",
       "      <td>0</td>\n",
       "      <td>0</td>\n",
       "      <td>0</td>\n",
       "      <td>0</td>\n",
       "      <td>0</td>\n",
       "      <td>0</td>\n",
       "      <td>1</td>\n",
       "      <td>0</td>\n",
       "      <td>0</td>\n",
       "      <td>0</td>\n",
       "    </tr>\n",
       "    <tr>\n",
       "      <th>2</th>\n",
       "      <td>0.208333</td>\n",
       "      <td>1</td>\n",
       "      <td>0</td>\n",
       "      <td>0</td>\n",
       "      <td>0</td>\n",
       "      <td>1</td>\n",
       "      <td>0</td>\n",
       "      <td>1</td>\n",
       "      <td>0</td>\n",
       "      <td>0</td>\n",
       "      <td>0</td>\n",
       "      <td>0</td>\n",
       "      <td>0</td>\n",
       "      <td>0</td>\n",
       "      <td>0</td>\n",
       "      <td>0</td>\n",
       "      <td>1</td>\n",
       "      <td>0</td>\n",
       "      <td>0</td>\n",
       "    </tr>\n",
       "    <tr>\n",
       "      <th>3</th>\n",
       "      <td>0.266892</td>\n",
       "      <td>1</td>\n",
       "      <td>1</td>\n",
       "      <td>0</td>\n",
       "      <td>0</td>\n",
       "      <td>0</td>\n",
       "      <td>0</td>\n",
       "      <td>0</td>\n",
       "      <td>0</td>\n",
       "      <td>1</td>\n",
       "      <td>0</td>\n",
       "      <td>0</td>\n",
       "      <td>0</td>\n",
       "      <td>0</td>\n",
       "      <td>0</td>\n",
       "      <td>1</td>\n",
       "      <td>0</td>\n",
       "      <td>0</td>\n",
       "      <td>0</td>\n",
       "    </tr>\n",
       "    <tr>\n",
       "      <th>4</th>\n",
       "      <td>0.247748</td>\n",
       "      <td>1</td>\n",
       "      <td>1</td>\n",
       "      <td>0</td>\n",
       "      <td>0</td>\n",
       "      <td>0</td>\n",
       "      <td>0</td>\n",
       "      <td>0</td>\n",
       "      <td>0</td>\n",
       "      <td>0</td>\n",
       "      <td>0</td>\n",
       "      <td>0</td>\n",
       "      <td>0</td>\n",
       "      <td>0</td>\n",
       "      <td>0</td>\n",
       "      <td>1</td>\n",
       "      <td>0</td>\n",
       "      <td>0</td>\n",
       "      <td>0</td>\n",
       "    </tr>\n",
       "  </tbody>\n",
       "</table>\n",
       "</div>"
      ],
      "text/plain": [
       "     budget  Action  Adventure  Animation  Comedy  Crime  Documentary  Drama  \\\n",
       "0  0.180180       1          1          0       0      0            0      0   \n",
       "1  0.185811       0          1          0       0      0            0      1   \n",
       "2  0.208333       1          0          0       0      1            0      1   \n",
       "3  0.266892       1          1          0       0      0            0      0   \n",
       "4  0.247748       1          1          0       0      0            0      0   \n",
       "\n",
       "   Family  Fantasy  History  Horror  Music  Mystery  Romance  Science Fiction  \\\n",
       "0       0        0        0       0      0        0        0                1   \n",
       "1       0        0        0       0      0        0        0                1   \n",
       "2       0        0        0       0      0        0        0                0   \n",
       "3       0        1        0       0      0        0        0                1   \n",
       "4       0        0        0       0      0        0        0                1   \n",
       "\n",
       "   Thriller  War  Western  \n",
       "0         0    0        0  \n",
       "1         0    0        0  \n",
       "2         1    0        0  \n",
       "3         0    0        0  \n",
       "4         0    0        0  "
      ]
     },
     "execution_count": 52,
     "metadata": {},
     "output_type": "execute_result"
    }
   ],
   "source": [
    "X.head()"
   ]
  },
  {
   "cell_type": "code",
   "execution_count": 53,
   "metadata": {},
   "outputs": [],
   "source": [
    "# Train model\n",
    "X_train, X_test, y_train, y_test = train_test_split(X, y, test_size=0.2, random_state=42)\n",
    "linear_regressor = LinearRegression()\n",
    "linear_regressor.fit(X_train, y_train)\n",
    "\n",
    "# Save training data for genre suggestions\n",
    "X_train.to_csv('../data/processed_features.csv', index=False)"
   ]
  },
  {
   "cell_type": "code",
   "execution_count": 54,
   "metadata": {},
   "outputs": [
    {
     "data": {
      "text/plain": [
       "['models/multilabel_binarizer.joblib']"
      ]
     },
     "execution_count": 54,
     "metadata": {},
     "output_type": "execute_result"
    }
   ],
   "source": [
    "# Save models and scalers\n",
    "if not os.path.exists('models'):\n",
    "    os.makedirs('models')\n",
    "\n",
    "joblib.dump(linear_regressor, 'models/linear_regressor.joblib')\n",
    "joblib.dump(pca_scaler, 'models/pca_scaler.joblib')\n",
    "joblib.dump(budget_scaler, 'models/budget_scaler.joblib')\n",
    "joblib.dump(pca, 'models/pca.joblib')\n",
    "joblib.dump(mlb, 'models/multilabel_binarizer.joblib')"
   ]
  },
  {
   "cell_type": "code",
   "execution_count": 55,
   "metadata": {},
   "outputs": [
    {
     "name": "stdout",
     "output_type": "stream",
     "text": [
      "Mean Squared Error: 3.955664108119022e-05\n",
      "RMSE: 0.006289407053227691\n",
      "MAPE: 1.2727541740087815\n",
      "R²: 0.48795302392004936\n",
      "Adjusted R²: 0.48784568009886364\n"
     ]
    }
   ],
   "source": [
    "# Evaluate model\n",
    "y_pred = linear_regressor.predict(X_test)\n",
    "print(f\"Mean Squared Error: {mean_squared_error(y_test, y_pred)}\")\n",
    "print(f\"RMSE: {np.sqrt(mean_squared_error(y_test, y_pred))}\")\n",
    "print(f\"MAPE: {mean_absolute_percentage_error(y_test, y_pred)}\")\n",
    "print(f\"R²: {r2_score(y_test, y_pred)}\")\n",
    "n = len(y_test)\n",
    "p = X_test.shape[1]\n",
    "adjusted_r2 = 1 - (1 - r2_score(y_test, y_pred)) * (n - 1) / (n - p - 1)\n",
    "print(f\"Adjusted R²: {adjusted_r2}\")"
   ]
  },
  {
   "cell_type": "code",
   "execution_count": 56,
   "metadata": {},
   "outputs": [
    {
     "name": "stdout",
     "output_type": "stream",
     "text": [
      "Regression Line Equation:\n",
      "y = 0.8840*x1 + -0.0001*x2 + 0.0005*x3 + 0.0001*x4 + -0.0000*x5 + -0.0003*x6 + 0.0000*x7 + -0.0000*x8 + -0.0003*x9 + 0.0001*x10 + -0.0003*x11 + 0.0002*x12 + 0.0000*x13 + -0.0000*x14 + 0.0000*x15 + 0.0001*x16 + -0.0004*x17 + -0.0006*x18 + -0.0008*x19 + -0.0004\n"
     ]
    }
   ],
   "source": [
    "# Get the coefficients and intercept\n",
    "coefficients = linear_regressor.coef_[0]\n",
    "intercept = linear_regressor.intercept_[0]\n",
    "\n",
    "# Print the regression line equation\n",
    "equation = \"y = \" + \" + \".join([f\"{coeff:.4f}*x{i}\" for i, coeff in enumerate(coefficients, start=1)]) + f\" + {intercept:.4f}\"\n",
    "print(\"Regression Line Equation:\")\n",
    "print(equation)"
   ]
  }
 ],
 "metadata": {
  "kernelspec": {
   "display_name": "conda_env",
   "language": "python",
   "name": "python3"
  },
  "language_info": {
   "codemirror_mode": {
    "name": "ipython",
    "version": 3
   },
   "file_extension": ".py",
   "mimetype": "text/x-python",
   "name": "python",
   "nbconvert_exporter": "python",
   "pygments_lexer": "ipython3",
   "version": "3.11.10"
  }
 },
 "nbformat": 4,
 "nbformat_minor": 2
}
