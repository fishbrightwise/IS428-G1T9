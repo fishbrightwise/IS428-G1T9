{
 "cells": [
  {
   "cell_type": "markdown",
   "metadata": {},
   "source": [
    "# Ideal Budget Prediction and Genre Suggestions\n",
    "\n",
    "This notebook predicts the ideal budget and suggests genres based on desired revenue and popularity metrics."
   ]
  },
  {
   "cell_type": "code",
   "execution_count": 1,
   "metadata": {},
   "outputs": [],
   "source": [
    "import pandas as pd\n",
    "import numpy as np\n",
    "import joblib\n",
    "from sklearn.neighbors import NearestNeighbors\n",
    "import matplotlib.pyplot as plt\n",
    "import json"
   ]
  },
  {
   "cell_type": "code",
   "execution_count": 2,
   "metadata": {},
   "outputs": [],
   "source": [
    "# Load relevant inputs\n",
    "with open('input.json', 'r') as f:\n",
    "    input_data = json.load(f)\n",
    "\n",
    "desired_revenue = input_data['desired_revenue']\n",
    "desired_popularity = input_data['desired_popularity']"
   ]
  },
  {
   "cell_type": "code",
   "execution_count": 3,
   "metadata": {},
   "outputs": [],
   "source": [
    "# Load the saved models and scalers\n",
    "linear_regressor = joblib.load('models/linear_regressor.joblib')\n",
    "pca_scaler = joblib.load('models/pca_scaler.joblib')\n",
    "budget_scaler = joblib.load('models/budget_scaler.joblib')\n",
    "pca = joblib.load('models/pca.joblib')\n",
    "mlb = joblib.load('models/multilabel_binarizer.joblib')"
   ]
  },
  {
   "cell_type": "code",
   "execution_count": 4,
   "metadata": {},
   "outputs": [],
   "source": [
    "def predict_ideal_budget(desired_revenue, desired_popularity):\n",
    "    \"\"\"Calculate ideal budget for desired revenue and popularity.\"\"\"\n",
    "    # Scale the desired metrics\n",
    "    scaled_desired = pca_scaler.transform([[desired_popularity, desired_revenue]])\n",
    "    \n",
    "    # Transform to PCA space\n",
    "    desired_pca = pca.transform(scaled_desired)\n",
    "    \n",
    "    # Get model coefficients\n",
    "    coefficients = linear_regressor.coef_[0]\n",
    "    intercept = linear_regressor.intercept_[0]\n",
    "    \n",
    "    # Calculate ideal budget using inverse regression\n",
    "    ideal_budget = (desired_pca[0][0] - intercept) / coefficients[0]\n",
    "    \n",
    "    # Transform back to original scale\n",
    "    ideal_budget = budget_scaler.inverse_transform(ideal_budget.reshape(-1, 1))[0][0]\n",
    "    \n",
    "    return ideal_budget"
   ]
  },
  {
   "cell_type": "code",
   "execution_count": 5,
   "metadata": {},
   "outputs": [],
   "source": [
    "def find_nearest_genres(ideal_budget, n_neighbors=3):\n",
    "    \"\"\"Find most suitable genres based on ideal budget.\"\"\"\n",
    "    # Load training data\n",
    "    X_train = pd.read_csv('../data/processed_features.csv')\n",
    "    \n",
    "    # Create dummy instance with ideal budget\n",
    "    dummy_instance = {'budget': ideal_budget}\n",
    "    dummy_df = pd.DataFrame([dummy_instance])\n",
    "    \n",
    "    # Fill missing genre columns with 0\n",
    "    for genre in mlb.classes_:\n",
    "        if genre not in dummy_df.columns:\n",
    "            dummy_df[genre] = 0\n",
    "    \n",
    "    # Initialize and fit NearestNeighbors\n",
    "    nn = NearestNeighbors(n_neighbors=n_neighbors, metric='euclidean')\n",
    "    nn.fit(X_train)\n",
    "    \n",
    "    # Find nearest neighbors\n",
    "    distances, indices = nn.kneighbors(dummy_df)\n",
    "    \n",
    "    # Get most common genres from neighbors\n",
    "    genre_columns = [col for col in X_train.columns if col in mlb.classes_]\n",
    "    nearest_genres = X_train.iloc[indices[0]][genre_columns].sum().sort_values(ascending=False)\n",
    "    return nearest_genres.index[:3].tolist()"
   ]
  },
  {
   "cell_type": "code",
   "execution_count": 6,
   "metadata": {},
   "outputs": [
    {
     "name": "stderr",
     "output_type": "stream",
     "text": [
      "/Users/kwangzheyu/anaconda3/envs/conda_env/lib/python3.11/site-packages/sklearn/base.py:493: UserWarning: X does not have valid feature names, but MinMaxScaler was fitted with feature names\n",
      "  warnings.warn(\n"
     ]
    },
    {
     "name": "stdout",
     "output_type": "stream",
     "text": [
      "Ideal Budget: $11,652,576.60\n",
      "\n",
      "Suggested Genres: ['Action', 'Science Fiction', 'Adventure']\n"
     ]
    }
   ],
   "source": [
    "# Calculate ideal budget\n",
    "ideal_budget = predict_ideal_budget(desired_revenue, desired_popularity)\n",
    "print(f\"Ideal Budget: ${ideal_budget:,.2f}\")\n",
    "\n",
    "# Get genre suggestions\n",
    "suggested_genres = find_nearest_genres(ideal_budget)\n",
    "print(f\"\\nSuggested Genres: {suggested_genres}\")"
   ]
  },
  {
   "cell_type": "code",
   "execution_count": 7,
   "metadata": {},
   "outputs": [
    {
     "name": "stdout",
     "output_type": "stream",
     "text": [
      "Output successfully written to predicted_parameters_output.json\n"
     ]
    }
   ],
   "source": [
    "# Prepare the output data\n",
    "output_data = {\n",
    "    'ideal_budget': ideal_budget,\n",
    "    'suggested_genres': suggested_genres\n",
    "}\n",
    "\n",
    "# Write the output data to a JSON file\n",
    "with open('results/predicted_parameters_output.json', 'w') as f:\n",
    "    json.dump(output_data, f, indent=4)\n",
    "\n",
    "print(\"Output successfully written to predicted_parameters_output.json\")"
   ]
  }
 ],
 "metadata": {
  "kernelspec": {
   "display_name": "conda_env",
   "language": "python",
   "name": "python3"
  },
  "language_info": {
   "codemirror_mode": {
    "name": "ipython",
    "version": 3
   },
   "file_extension": ".py",
   "mimetype": "text/x-python",
   "name": "python",
   "nbconvert_exporter": "python",
   "pygments_lexer": "ipython3",
   "version": "3.11.10"
  }
 },
 "nbformat": 4,
 "nbformat_minor": 2
}
