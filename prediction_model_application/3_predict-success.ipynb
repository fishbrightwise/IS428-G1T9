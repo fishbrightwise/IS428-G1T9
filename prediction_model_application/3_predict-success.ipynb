{
 "cells": [
  {
   "cell_type": "markdown",
   "metadata": {},
   "source": [
    "# Movie Success Prediction\n",
    "This notebook predicts expected revenue and popularity for given budget and genres."
   ]
  },
  {
   "cell_type": "code",
   "execution_count": 14,
   "metadata": {},
   "outputs": [],
   "source": [
    "import pandas as pd\n",
    "import numpy as np\n",
    "from sklearn.decomposition import PCA\n",
    "import nbformat\n",
    "import joblib\n",
    "import json"
   ]
  },
  {
   "cell_type": "code",
   "execution_count": 15,
   "metadata": {},
   "outputs": [],
   "source": [
    "# Load relevant inputs\n",
    "with open('input.json', 'r') as f:\n",
    "    input_data = json.load(f)\n",
    "\n",
    "budget = input_data['budget']\n",
    "genre = input_data['genres']"
   ]
  },
  {
   "cell_type": "code",
   "execution_count": 16,
   "metadata": {},
   "outputs": [],
   "source": [
    "# Load models and scalers\n",
    "linear_regressor = joblib.load('models/linear_regressor.joblib')\n",
    "pca_scaler = joblib.load('models/pca_scaler.joblib')\n",
    "budget_scaler = joblib.load('models/budget_scaler.joblib')\n",
    "pca = joblib.load('models/pca.joblib')\n",
    "mlb = joblib.load('models/multilabel_binarizer.joblib')"
   ]
  },
  {
   "cell_type": "code",
   "execution_count": null,
   "metadata": {},
   "outputs": [],
   "source": [
    "def predict_success(budget, desired_genres):\n",
    "    \"\"\"Predict movie success metrics for given budget and genres.\"\"\"\n",
    "    # Create input data\n",
    "    input_data = {'budget': budget}\n",
    "    \n",
    "    # Add genres\n",
    "    for genre in mlb.classes_:\n",
    "        input_data[genre] = 1 if genre in desired_genres else 0\n",
    "    \n",
    "    # Create DataFrame and scale budget\n",
    "    input_df = pd.DataFrame([input_data])\n",
    "    input_df['budget'] = budget_scaler.transform(input_df[['budget']])\n",
    "    \n",
    "    # Predict PCA value\n",
    "    predicted_pca = linear_regressor.predict(input_df)\n",
    "    \n",
    "    # Create the complete PCA array (we need both components)\n",
    "    full_pca = np.zeros((1, 2))\n",
    "    full_pca[:, 0] = predicted_pca.ravel()  # First component from prediction\n",
    "    full_pca[:, 1] = 0  # Second component set to 0 since we're predicting only the first\n",
    "    \n",
    "    # Transform back to original scale\n",
    "    original_scaled = pca.inverse_transform(full_pca)\n",
    "    original_features = pca_scaler.inverse_transform(original_scaled)\n",
    "    \n",
    "    return original_features[0][1], original_features[0][0]  # Return revenue and popularity"
   ]
  },
  {
   "cell_type": "code",
   "execution_count": 23,
   "metadata": {},
   "outputs": [
    {
     "name": "stdout",
     "output_type": "stream",
     "text": [
      "Input Budget: $100,000,000.00\n",
      "Desired Genres: ['Action', 'Adventure']\n",
      "\n",
      "Expected Revenue: $297,526,464.36\n",
      "Expected Popularity Score: 40.13\n"
     ]
    }
   ],
   "source": [
    "expected_revenue, expected_popularity = predict_success(budget, genre)\n",
    "print(f\"Input Budget: ${budget:,.2f}\")\n",
    "print(f\"Desired Genres: {genre}\")\n",
    "print(f\"\\nExpected Revenue: ${expected_revenue:,.2f}\")\n",
    "print(f\"Expected Popularity Score: {expected_popularity:.2f}\")"
   ]
  },
  {
   "cell_type": "code",
   "execution_count": null,
   "metadata": {},
   "outputs": [],
   "source": [
    "# Prepare the output data\n",
    "output_data = {\n",
    "    'expected_revenue': expected_revenue,\n",
    "    'expected_popularity': expected_popularity\n",
    "}\n",
    "\n",
    "# Write the output data to a JSON file\n",
    "with open('results/predicted_success_output.json', 'w') as f:\n",
    "    json.dump(output_data, f, indent=4)\n",
    "\n",
    "print(\"Output successfully written to predicted_success_output.json\")"
   ]
  }
 ],
 "metadata": {
  "kernelspec": {
   "display_name": "conda_env",
   "language": "python",
   "name": "python3"
  },
  "language_info": {
   "codemirror_mode": {
    "name": "ipython",
    "version": 3
   },
   "file_extension": ".py",
   "mimetype": "text/x-python",
   "name": "python",
   "nbconvert_exporter": "python",
   "pygments_lexer": "ipython3",
   "version": "3.11.10"
  }
 },
 "nbformat": 4,
 "nbformat_minor": 2
}
